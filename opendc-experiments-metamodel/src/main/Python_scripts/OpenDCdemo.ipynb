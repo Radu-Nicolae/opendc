{
 "cells": [
  {
   "cell_type": "code",
   "execution_count": 1,
   "id": "18170001",
   "metadata": {
    "pycharm": {
     "is_executing": true
    },
    "ExecuteTime": {
     "end_time": "2023-12-29T16:04:30.541237Z",
     "start_time": "2023-12-29T16:04:30.015160Z"
    }
   },
   "outputs": [],
   "source": [
    "import numpy as np\n",
    "import pandas as pd\n",
    "import matplotlib.pyplot as plt\n",
    "\n",
    "from IPython.display import display, HTML\n",
    "\n",
    "base_folder = \"..\""
   ]
  },
  {
   "cell_type": "markdown",
   "id": "422f4d05",
   "metadata": {},
   "source": [
    "## Topologies"
   ]
  },
  {
   "cell_type": "code",
   "execution_count": 98,
   "id": "a2d05361",
   "metadata": {
    "ExecuteTime": {
     "end_time": "2023-12-21T14:48:12.590543Z",
     "start_time": "2023-12-21T14:48:12.581894Z"
    }
   },
   "outputs": [
    {
     "name": "stdout",
     "output_type": "stream",
     "text": [
      "Topology name: multi\n",
      "Path: ../resources/env/multi.txt\n"
     ]
    },
    {
     "data": {
      "text/plain": "<IPython.core.display.HTML object>",
      "text/html": "<table border=\"1\" class=\"dataframe\">\n  <thead>\n    <tr style=\"text-align: right;\">\n      <th></th>\n      <th>ClusterID</th>\n      <th>ClusterName</th>\n      <th>Cores</th>\n      <th>Speed</th>\n      <th>Memory</th>\n      <th>numberOfHosts</th>\n      <th>memoryCapacityPerHost</th>\n      <th>coreCountPerHost</th>\n    </tr>\n  </thead>\n  <tbody>\n    <tr>\n      <th>0</th>\n      <td>A01</td>\n      <td>A01</td>\n      <td>32</td>\n      <td>3.20</td>\n      <td>2048</td>\n      <td>1</td>\n      <td>256</td>\n      <td>32</td>\n    </tr>\n    <tr>\n      <th>1</th>\n      <td>B01</td>\n      <td>B01</td>\n      <td>48</td>\n      <td>2.93</td>\n      <td>1256</td>\n      <td>6</td>\n      <td>64</td>\n      <td>8</td>\n    </tr>\n    <tr>\n      <th>2</th>\n      <td>C01</td>\n      <td>C01</td>\n      <td>32</td>\n      <td>3.20</td>\n      <td>2048</td>\n      <td>2</td>\n      <td>128</td>\n      <td>16</td>\n    </tr>\n  </tbody>\n</table>"
     },
     "metadata": {},
     "output_type": "display_data"
    },
    {
     "name": "stdout",
     "output_type": "stream",
     "text": [
      "Topology name: single\n",
      "Path: ../resources/env/single.txt\n"
     ]
    },
    {
     "data": {
      "text/plain": "<IPython.core.display.HTML object>",
      "text/html": "<table border=\"1\" class=\"dataframe\">\n  <thead>\n    <tr style=\"text-align: right;\">\n      <th></th>\n      <th>ClusterID</th>\n      <th>ClusterName</th>\n      <th>Cores</th>\n      <th>Speed</th>\n      <th>Memory</th>\n      <th>numberOfHosts</th>\n      <th>memoryCapacityPerHost</th>\n      <th>coreCountPerHost</th>\n    </tr>\n  </thead>\n  <tbody>\n    <tr>\n      <th>0</th>\n      <td>A01</td>\n      <td>A01</td>\n      <td>28</td>\n      <td>3.2</td>\n      <td>128</td>\n      <td>1</td>\n      <td>128</td>\n      <td>8</td>\n    </tr>\n  </tbody>\n</table>"
     },
     "metadata": {},
     "output_type": "display_data"
    }
   ],
   "source": [
    "def read_topology(topology_name):\n",
    "    print(f\"Topology name: {topology_name}\")\n",
    "    print(f\"Path: {base_folder}/resources/env/{topology_name}.txt\")\n",
    "    df = pd.read_csv(f\"{base_folder}/resources/env/{topology_name}.txt\", delimiter=\";\")\n",
    "    display(HTML(df.to_html()))\n",
    "\n",
    "read_topology(\"multi\")\n",
    "read_topology(\"single\")"
   ]
  },
  {
   "cell_type": "markdown",
   "id": "8f4fe54d",
   "metadata": {},
   "source": [
    "## Traces"
   ]
  },
  {
   "cell_type": "code",
   "execution_count": 99,
   "id": "fd17d88a",
   "metadata": {
    "ExecuteTime": {
     "end_time": "2023-12-21T14:48:12.620975Z",
     "start_time": "2023-12-21T14:48:12.589070Z"
    }
   },
   "outputs": [
    {
     "data": {
      "text/plain": "          id                 timestamp  duration  cpu_count     cpu_usage\n6148    1023 2013-08-12 13:50:46+00:00    900000          1      0.000000\n11255   1026 2013-08-12 13:50:46+00:00    300000          1     31.210664\n24017   1129 2013-08-12 13:50:46+00:00    300000          1      0.000000\n34041   1138 2013-08-12 13:50:46+00:00    300000          1     27.733326\n53662    116 2013-08-12 13:50:46+00:00    600000          4    154.102636\n66382    190 2013-08-12 13:50:46+00:00    300000          8  13993.196276\n73302    205 2013-08-12 13:50:46+00:00    300000          8  12989.598097\n87700    244 2013-08-12 13:50:46+00:00    300000          8     98.799961\n95286    272 2013-08-12 13:50:46+00:00    300000          8    162.933290\n102709   281 2013-08-12 13:50:46+00:00    300000          8     76.266645\n132747   379 2013-08-12 13:50:46+00:00    300000          2    109.199970\n139494   449 2013-08-12 13:50:46+00:00    300000          4    168.133289\n146842   463 2013-08-12 13:50:46+00:00    300000          4    138.666630\n160539   467 2013-08-12 13:50:46+00:00    300000          4    209.733278\n167696   501 2013-08-12 13:50:46+00:00    300000          4    164.666643\n174748   506 2013-08-12 13:50:46+00:00    300000          4    201.066613\n182066   550 2013-08-12 13:50:46+00:00    300000          1      0.000000\n190590   554 2013-08-12 13:50:46+00:00    300000          1     68.273323\n196284   607 2013-08-12 13:50:46+00:00    300000          1    246.133271\n203798   626 2013-08-12 13:50:46+00:00    300000          4  10710.265023\n206962   636 2013-08-12 13:50:46+00:00    300000          4  10809.065054\n209844   677 2013-08-12 13:50:46+00:00    300000          2    320.666581\n217987   720 2013-08-12 13:50:46+00:00    900000          8     29.259995\n225941   740 2013-08-12 13:50:46+00:00    300000         32   2078.999618\n234342   750 2013-08-12 13:50:46+00:00    300000          8    162.933289\n246468   832 2013-08-12 13:50:46+00:00    300000          2     29.466662\n252093   851 2013-08-12 13:50:46+00:00    300000          2     29.259993\n256756   871 2013-08-12 13:50:46+00:00    300000          4    140.447977\n265562   957 2013-08-12 13:50:46+00:00    300000          4    152.533294\n268347   997 2013-08-12 13:50:46+00:00    300000          8   9476.798930",
      "text/html": "<div>\n<style scoped>\n    .dataframe tbody tr th:only-of-type {\n        vertical-align: middle;\n    }\n\n    .dataframe tbody tr th {\n        vertical-align: top;\n    }\n\n    .dataframe thead th {\n        text-align: right;\n    }\n</style>\n<table border=\"1\" class=\"dataframe\">\n  <thead>\n    <tr style=\"text-align: right;\">\n      <th></th>\n      <th>id</th>\n      <th>timestamp</th>\n      <th>duration</th>\n      <th>cpu_count</th>\n      <th>cpu_usage</th>\n    </tr>\n  </thead>\n  <tbody>\n    <tr>\n      <th>6148</th>\n      <td>1023</td>\n      <td>2013-08-12 13:50:46+00:00</td>\n      <td>900000</td>\n      <td>1</td>\n      <td>0.000000</td>\n    </tr>\n    <tr>\n      <th>11255</th>\n      <td>1026</td>\n      <td>2013-08-12 13:50:46+00:00</td>\n      <td>300000</td>\n      <td>1</td>\n      <td>31.210664</td>\n    </tr>\n    <tr>\n      <th>24017</th>\n      <td>1129</td>\n      <td>2013-08-12 13:50:46+00:00</td>\n      <td>300000</td>\n      <td>1</td>\n      <td>0.000000</td>\n    </tr>\n    <tr>\n      <th>34041</th>\n      <td>1138</td>\n      <td>2013-08-12 13:50:46+00:00</td>\n      <td>300000</td>\n      <td>1</td>\n      <td>27.733326</td>\n    </tr>\n    <tr>\n      <th>53662</th>\n      <td>116</td>\n      <td>2013-08-12 13:50:46+00:00</td>\n      <td>600000</td>\n      <td>4</td>\n      <td>154.102636</td>\n    </tr>\n    <tr>\n      <th>66382</th>\n      <td>190</td>\n      <td>2013-08-12 13:50:46+00:00</td>\n      <td>300000</td>\n      <td>8</td>\n      <td>13993.196276</td>\n    </tr>\n    <tr>\n      <th>73302</th>\n      <td>205</td>\n      <td>2013-08-12 13:50:46+00:00</td>\n      <td>300000</td>\n      <td>8</td>\n      <td>12989.598097</td>\n    </tr>\n    <tr>\n      <th>87700</th>\n      <td>244</td>\n      <td>2013-08-12 13:50:46+00:00</td>\n      <td>300000</td>\n      <td>8</td>\n      <td>98.799961</td>\n    </tr>\n    <tr>\n      <th>95286</th>\n      <td>272</td>\n      <td>2013-08-12 13:50:46+00:00</td>\n      <td>300000</td>\n      <td>8</td>\n      <td>162.933290</td>\n    </tr>\n    <tr>\n      <th>102709</th>\n      <td>281</td>\n      <td>2013-08-12 13:50:46+00:00</td>\n      <td>300000</td>\n      <td>8</td>\n      <td>76.266645</td>\n    </tr>\n    <tr>\n      <th>132747</th>\n      <td>379</td>\n      <td>2013-08-12 13:50:46+00:00</td>\n      <td>300000</td>\n      <td>2</td>\n      <td>109.199970</td>\n    </tr>\n    <tr>\n      <th>139494</th>\n      <td>449</td>\n      <td>2013-08-12 13:50:46+00:00</td>\n      <td>300000</td>\n      <td>4</td>\n      <td>168.133289</td>\n    </tr>\n    <tr>\n      <th>146842</th>\n      <td>463</td>\n      <td>2013-08-12 13:50:46+00:00</td>\n      <td>300000</td>\n      <td>4</td>\n      <td>138.666630</td>\n    </tr>\n    <tr>\n      <th>160539</th>\n      <td>467</td>\n      <td>2013-08-12 13:50:46+00:00</td>\n      <td>300000</td>\n      <td>4</td>\n      <td>209.733278</td>\n    </tr>\n    <tr>\n      <th>167696</th>\n      <td>501</td>\n      <td>2013-08-12 13:50:46+00:00</td>\n      <td>300000</td>\n      <td>4</td>\n      <td>164.666643</td>\n    </tr>\n    <tr>\n      <th>174748</th>\n      <td>506</td>\n      <td>2013-08-12 13:50:46+00:00</td>\n      <td>300000</td>\n      <td>4</td>\n      <td>201.066613</td>\n    </tr>\n    <tr>\n      <th>182066</th>\n      <td>550</td>\n      <td>2013-08-12 13:50:46+00:00</td>\n      <td>300000</td>\n      <td>1</td>\n      <td>0.000000</td>\n    </tr>\n    <tr>\n      <th>190590</th>\n      <td>554</td>\n      <td>2013-08-12 13:50:46+00:00</td>\n      <td>300000</td>\n      <td>1</td>\n      <td>68.273323</td>\n    </tr>\n    <tr>\n      <th>196284</th>\n      <td>607</td>\n      <td>2013-08-12 13:50:46+00:00</td>\n      <td>300000</td>\n      <td>1</td>\n      <td>246.133271</td>\n    </tr>\n    <tr>\n      <th>203798</th>\n      <td>626</td>\n      <td>2013-08-12 13:50:46+00:00</td>\n      <td>300000</td>\n      <td>4</td>\n      <td>10710.265023</td>\n    </tr>\n    <tr>\n      <th>206962</th>\n      <td>636</td>\n      <td>2013-08-12 13:50:46+00:00</td>\n      <td>300000</td>\n      <td>4</td>\n      <td>10809.065054</td>\n    </tr>\n    <tr>\n      <th>209844</th>\n      <td>677</td>\n      <td>2013-08-12 13:50:46+00:00</td>\n      <td>300000</td>\n      <td>2</td>\n      <td>320.666581</td>\n    </tr>\n    <tr>\n      <th>217987</th>\n      <td>720</td>\n      <td>2013-08-12 13:50:46+00:00</td>\n      <td>900000</td>\n      <td>8</td>\n      <td>29.259995</td>\n    </tr>\n    <tr>\n      <th>225941</th>\n      <td>740</td>\n      <td>2013-08-12 13:50:46+00:00</td>\n      <td>300000</td>\n      <td>32</td>\n      <td>2078.999618</td>\n    </tr>\n    <tr>\n      <th>234342</th>\n      <td>750</td>\n      <td>2013-08-12 13:50:46+00:00</td>\n      <td>300000</td>\n      <td>8</td>\n      <td>162.933289</td>\n    </tr>\n    <tr>\n      <th>246468</th>\n      <td>832</td>\n      <td>2013-08-12 13:50:46+00:00</td>\n      <td>300000</td>\n      <td>2</td>\n      <td>29.466662</td>\n    </tr>\n    <tr>\n      <th>252093</th>\n      <td>851</td>\n      <td>2013-08-12 13:50:46+00:00</td>\n      <td>300000</td>\n      <td>2</td>\n      <td>29.259993</td>\n    </tr>\n    <tr>\n      <th>256756</th>\n      <td>871</td>\n      <td>2013-08-12 13:50:46+00:00</td>\n      <td>300000</td>\n      <td>4</td>\n      <td>140.447977</td>\n    </tr>\n    <tr>\n      <th>265562</th>\n      <td>957</td>\n      <td>2013-08-12 13:50:46+00:00</td>\n      <td>300000</td>\n      <td>4</td>\n      <td>152.533294</td>\n    </tr>\n    <tr>\n      <th>268347</th>\n      <td>997</td>\n      <td>2013-08-12 13:50:46+00:00</td>\n      <td>300000</td>\n      <td>8</td>\n      <td>9476.798930</td>\n    </tr>\n  </tbody>\n</table>\n</div>"
     },
     "execution_count": 99,
     "metadata": {},
     "output_type": "execute_result"
    }
   ],
   "source": [
    "# A trace is a measurement of a datacenter, over an amount of time (e.g., we saw an activity over some time). The trace is a more detailed summary of the metatrace\n",
    "\n",
    "df_trace = pd.read_parquet(f\"{base_folder}/resources/bitbrains-small/trace/trace.parquet\")\n",
    "# df_trace.head()\n",
    "df_trace[df_trace[\"timestamp\"] == \"2013-08-12 13:50:46+00:00\"]"
   ]
  },
  {
   "cell_type": "code",
   "execution_count": 100,
   "id": "346f097f",
   "metadata": {
    "scrolled": true,
    "ExecuteTime": {
     "end_time": "2023-12-21T14:48:12.625141Z",
     "start_time": "2023-12-21T14:48:12.604134Z"
    }
   },
   "outputs": [
    {
     "data": {
      "text/plain": "     id                start_time                 stop_time  cpu_count  \\\n0  1019 2013-08-12 13:35:46+00:00 2013-09-11 13:39:58+00:00          1   \n1  1023 2013-08-12 13:35:46+00:00 2013-09-11 13:39:58+00:00          1   \n2  1026 2013-08-12 13:35:46+00:00 2013-09-11 13:39:58+00:00          1   \n3  1052 2013-08-29 14:38:12+00:00 2013-09-05 07:09:07+00:00          1   \n4  1073 2013-08-21 11:07:12+00:00 2013-09-11 13:39:58+00:00          1   \n\n   cpu_capacity  mem_capacity  \n0   2926.000135        181352  \n1   2925.999560        260096  \n2   2925.999717        249972  \n3   2926.000107        131245  \n4   2599.999649        179306  ",
      "text/html": "<div>\n<style scoped>\n    .dataframe tbody tr th:only-of-type {\n        vertical-align: middle;\n    }\n\n    .dataframe tbody tr th {\n        vertical-align: top;\n    }\n\n    .dataframe thead th {\n        text-align: right;\n    }\n</style>\n<table border=\"1\" class=\"dataframe\">\n  <thead>\n    <tr style=\"text-align: right;\">\n      <th></th>\n      <th>id</th>\n      <th>start_time</th>\n      <th>stop_time</th>\n      <th>cpu_count</th>\n      <th>cpu_capacity</th>\n      <th>mem_capacity</th>\n    </tr>\n  </thead>\n  <tbody>\n    <tr>\n      <th>0</th>\n      <td>1019</td>\n      <td>2013-08-12 13:35:46+00:00</td>\n      <td>2013-09-11 13:39:58+00:00</td>\n      <td>1</td>\n      <td>2926.000135</td>\n      <td>181352</td>\n    </tr>\n    <tr>\n      <th>1</th>\n      <td>1023</td>\n      <td>2013-08-12 13:35:46+00:00</td>\n      <td>2013-09-11 13:39:58+00:00</td>\n      <td>1</td>\n      <td>2925.999560</td>\n      <td>260096</td>\n    </tr>\n    <tr>\n      <th>2</th>\n      <td>1026</td>\n      <td>2013-08-12 13:35:46+00:00</td>\n      <td>2013-09-11 13:39:58+00:00</td>\n      <td>1</td>\n      <td>2925.999717</td>\n      <td>249972</td>\n    </tr>\n    <tr>\n      <th>3</th>\n      <td>1052</td>\n      <td>2013-08-29 14:38:12+00:00</td>\n      <td>2013-09-05 07:09:07+00:00</td>\n      <td>1</td>\n      <td>2926.000107</td>\n      <td>131245</td>\n    </tr>\n    <tr>\n      <th>4</th>\n      <td>1073</td>\n      <td>2013-08-21 11:07:12+00:00</td>\n      <td>2013-09-11 13:39:58+00:00</td>\n      <td>1</td>\n      <td>2599.999649</td>\n      <td>179306</td>\n    </tr>\n  </tbody>\n</table>\n</div>"
     },
     "execution_count": 100,
     "metadata": {},
     "output_type": "execute_result"
    }
   ],
   "source": [
    "# In the metatrace, it is a summary of the tasks / jobs.\n",
    "\n",
    "df_meta = pd.read_parquet(f\"{base_folder}/resources/bitbrains-small/trace/meta.parquet\")\n",
    "df_meta.head()"
   ]
  },
  {
   "cell_type": "markdown",
   "id": "13bf9fdb",
   "metadata": {},
   "source": [
    "# Lets run this in OpenDC!"
   ]
  },
  {
   "cell_type": "markdown",
   "id": "c9766446",
   "metadata": {},
   "source": [
    "## Resulting Files"
   ]
  },
  {
   "cell_type": "code",
   "execution_count": 101,
   "id": "0d400ffd",
   "metadata": {
    "ExecuteTime": {
     "end_time": "2023-12-21T14:48:12.721996Z",
     "start_time": "2023-12-21T14:48:12.609765Z"
    }
   },
   "outputs": [
    {
     "name": "stdout",
     "output_type": "stream",
     "text": [
      "Output folder: ../output\n"
     ]
    }
   ],
   "source": [
    "output_folder = f\"{base_folder}/output\"\n",
    "print(f\"Output folder: {output_folder}\")\n",
    "workload = \"workload=bitbrains-small\"\n",
    "seed = \"seed=0\"\n",
    "\n",
    "# we focus on host, for the metamodel, fragile state\n",
    "df_host_single = pd.read_parquet(f\"{output_folder}/host/topology=single/{workload}/{seed}/data.parquet\")\n",
    "df_host_multi = pd.read_parquet(f\"{output_folder}/host/topology=multi/{workload}/{seed}/data.parquet\")\n",
    "# we focus on host, for the metamodel, fragile state\n",
    "\n",
    "\n",
    "# temporarily, out of focus\n",
    "df_server_single = pd.read_parquet(f\"{output_folder}/server/topology=single/{workload}/{seed}/data.parquet\")\n",
    "df_server_multi = pd.read_parquet(f\"{output_folder}/server/topology=multi/{workload}/{seed}/data.parquet\")\n",
    "\n",
    "df_service_single = pd.read_parquet(f\"{output_folder}/service/topology=single/{workload}/{seed}/data.parquet\")\n",
    "df_service_multi = pd.read_parquet(f\"{output_folder}/service/topology=multi/{workload}/{seed}/data.parquet\")\n",
    "# temporarily, out of focus"
   ]
  },
  {
   "cell_type": "code",
   "execution_count": 102,
   "outputs": [],
   "source": [
    "def add_absolute_timestamp(df, start_dt):\n",
    "    df[\"absolute_timestamp\"] = start_dt + (df[\"timestamp\"] - df[\"timestamp\"].min())\n",
    "\n",
    "add_absolute_timestamp(df_host_single, df_meta[\"start_time\"].min())\n",
    "add_absolute_timestamp(df_host_single, df_meta[\"start_time\"].min())\n",
    "\n",
    "\n",
    "# temporarily, out of focus\n",
    "add_absolute_timestamp(df_server_single, df_meta[\"start_time\"].min())\n",
    "add_absolute_timestamp(df_server_multi, df_meta[\"start_time\"].min())\n",
    "\n",
    "add_absolute_timestamp(df_service_single, df_meta[\"start_time\"].min())\n",
    "add_absolute_timestamp(df_service_multi, df_meta[\"start_time\"].min())\n",
    "# temporarily, out of focus"
   ],
   "metadata": {
    "collapsed": false,
    "ExecuteTime": {
     "end_time": "2023-12-21T14:48:12.731344Z",
     "start_time": "2023-12-21T14:48:12.707343Z"
    }
   },
   "id": "815ad6678f2cfaea"
  },
  {
   "cell_type": "code",
   "execution_count": 103,
   "id": "a9a61332",
   "metadata": {
    "ExecuteTime": {
     "end_time": "2023-12-21T14:48:12.732275Z",
     "start_time": "2023-12-21T14:48:12.727479Z"
    }
   },
   "outputs": [
    {
     "data": {
      "text/plain": "25922"
     },
     "execution_count": 103,
     "metadata": {},
     "output_type": "execute_result"
    }
   ],
   "source": [
    "len(df_service_single)"
   ]
  },
  {
   "cell_type": "code",
   "execution_count": 104,
   "id": "d6fb41d9",
   "metadata": {
    "ExecuteTime": {
     "end_time": "2023-12-21T14:48:12.736848Z",
     "start_time": "2023-12-21T14:48:12.731452Z"
    }
   },
   "outputs": [
    {
     "data": {
      "text/plain": "                  timestamp  hosts_up  hosts_down  servers_pending  \\\n0 1970-01-01 00:05:00+00:00         1           0               29   \n1 1970-01-01 00:10:00+00:00         1           0               29   \n2 1970-01-01 00:15:00+00:00         1           0               29   \n3 1970-01-01 00:20:00+00:00         1           0               29   \n4 1970-01-01 00:25:00+00:00         1           0               29   \n\n   servers_active  attempts_success  attempts_failure  attempts_error  \\\n0              15                15                 0               0   \n1              15                15                 0               0   \n2              15                15                 0               0   \n3              15                15                 0               0   \n4              15                15                 0               0   \n\n         absolute_timestamp  \n0 2013-08-12 13:35:46+00:00  \n1 2013-08-12 13:40:46+00:00  \n2 2013-08-12 13:45:46+00:00  \n3 2013-08-12 13:50:46+00:00  \n4 2013-08-12 13:55:46+00:00  ",
      "text/html": "<div>\n<style scoped>\n    .dataframe tbody tr th:only-of-type {\n        vertical-align: middle;\n    }\n\n    .dataframe tbody tr th {\n        vertical-align: top;\n    }\n\n    .dataframe thead th {\n        text-align: right;\n    }\n</style>\n<table border=\"1\" class=\"dataframe\">\n  <thead>\n    <tr style=\"text-align: right;\">\n      <th></th>\n      <th>timestamp</th>\n      <th>hosts_up</th>\n      <th>hosts_down</th>\n      <th>servers_pending</th>\n      <th>servers_active</th>\n      <th>attempts_success</th>\n      <th>attempts_failure</th>\n      <th>attempts_error</th>\n      <th>absolute_timestamp</th>\n    </tr>\n  </thead>\n  <tbody>\n    <tr>\n      <th>0</th>\n      <td>1970-01-01 00:05:00+00:00</td>\n      <td>1</td>\n      <td>0</td>\n      <td>29</td>\n      <td>15</td>\n      <td>15</td>\n      <td>0</td>\n      <td>0</td>\n      <td>2013-08-12 13:35:46+00:00</td>\n    </tr>\n    <tr>\n      <th>1</th>\n      <td>1970-01-01 00:10:00+00:00</td>\n      <td>1</td>\n      <td>0</td>\n      <td>29</td>\n      <td>15</td>\n      <td>15</td>\n      <td>0</td>\n      <td>0</td>\n      <td>2013-08-12 13:40:46+00:00</td>\n    </tr>\n    <tr>\n      <th>2</th>\n      <td>1970-01-01 00:15:00+00:00</td>\n      <td>1</td>\n      <td>0</td>\n      <td>29</td>\n      <td>15</td>\n      <td>15</td>\n      <td>0</td>\n      <td>0</td>\n      <td>2013-08-12 13:45:46+00:00</td>\n    </tr>\n    <tr>\n      <th>3</th>\n      <td>1970-01-01 00:20:00+00:00</td>\n      <td>1</td>\n      <td>0</td>\n      <td>29</td>\n      <td>15</td>\n      <td>15</td>\n      <td>0</td>\n      <td>0</td>\n      <td>2013-08-12 13:50:46+00:00</td>\n    </tr>\n    <tr>\n      <th>4</th>\n      <td>1970-01-01 00:25:00+00:00</td>\n      <td>1</td>\n      <td>0</td>\n      <td>29</td>\n      <td>15</td>\n      <td>15</td>\n      <td>0</td>\n      <td>0</td>\n      <td>2013-08-12 13:55:46+00:00</td>\n    </tr>\n  </tbody>\n</table>\n</div>"
     },
     "execution_count": 104,
     "metadata": {},
     "output_type": "execute_result"
    }
   ],
   "source": [
    "df_service_single.head()"
   ]
  },
  {
   "cell_type": "code",
   "execution_count": 105,
   "id": "89977c44",
   "metadata": {
    "ExecuteTime": {
     "end_time": "2023-12-21T14:48:12.740126Z",
     "start_time": "2023-12-21T14:48:12.733369Z"
    }
   },
   "outputs": [
    {
     "data": {
      "text/plain": "                  timestamp                             server_id server_name  \\\n0 1970-01-01 00:05:00+00:00  00000000-0000-0000-06c4-5d188009454f        1019   \n1 1970-01-01 00:05:00+00:00  00000000-0000-0000-1b39-896a51a8749b        1023   \n2 1970-01-01 00:05:00+00:00  00000000-0000-0000-2c82-9abe1f4532e1        1026   \n3 1970-01-01 00:05:00+00:00  00000000-0000-0000-3ee5-789041c98ac3        1129   \n4 1970-01-01 00:05:00+00:00  00000000-0000-0000-657e-ecdd3cb13d09        1138   \n\n                                host_id  mem_capacity  cpu_count  cpu_limit  \\\n0  e220a839-7b1d-cdaf-0000-000000000000           181          1    25600.0   \n1  e220a839-7b1d-cdaf-0000-000000000000           260          1    25600.0   \n2  e220a839-7b1d-cdaf-0000-000000000000           250          1    25600.0   \n3  e220a839-7b1d-cdaf-0000-000000000000           125          1    25600.0   \n4  e220a839-7b1d-cdaf-0000-000000000000           157          1    25600.0   \n\n   cpu_time_active  cpu_time_idle  cpu_time_steal  cpu_time_lost  uptime  \\\n0                0           2624               0              0  300000   \n1                0           2624               0              0  300000   \n2                2           2622               0              0  300000   \n3                0           2624               0              0  300000   \n4                2           2951               0              0  300000   \n\n   downtime            provision_time                 boot_time  \\\n0         0 1970-01-01 00:00:00+00:00 1970-01-01 00:00:00+00:00   \n1         0 1970-01-01 00:00:00+00:00 1970-01-01 00:00:00+00:00   \n2         0 1970-01-01 00:00:00+00:00 1970-01-01 00:00:00+00:00   \n3         0 1970-01-01 00:00:00+00:00 1970-01-01 00:00:00+00:00   \n4         0 1970-01-01 00:00:00+00:00 1970-01-01 00:00:00+00:00   \n\n         absolute_timestamp  \n0 2013-08-12 13:35:46+00:00  \n1 2013-08-12 13:35:46+00:00  \n2 2013-08-12 13:35:46+00:00  \n3 2013-08-12 13:35:46+00:00  \n4 2013-08-12 13:35:46+00:00  ",
      "text/html": "<div>\n<style scoped>\n    .dataframe tbody tr th:only-of-type {\n        vertical-align: middle;\n    }\n\n    .dataframe tbody tr th {\n        vertical-align: top;\n    }\n\n    .dataframe thead th {\n        text-align: right;\n    }\n</style>\n<table border=\"1\" class=\"dataframe\">\n  <thead>\n    <tr style=\"text-align: right;\">\n      <th></th>\n      <th>timestamp</th>\n      <th>server_id</th>\n      <th>server_name</th>\n      <th>host_id</th>\n      <th>mem_capacity</th>\n      <th>cpu_count</th>\n      <th>cpu_limit</th>\n      <th>cpu_time_active</th>\n      <th>cpu_time_idle</th>\n      <th>cpu_time_steal</th>\n      <th>cpu_time_lost</th>\n      <th>uptime</th>\n      <th>downtime</th>\n      <th>provision_time</th>\n      <th>boot_time</th>\n      <th>absolute_timestamp</th>\n    </tr>\n  </thead>\n  <tbody>\n    <tr>\n      <th>0</th>\n      <td>1970-01-01 00:05:00+00:00</td>\n      <td>00000000-0000-0000-06c4-5d188009454f</td>\n      <td>1019</td>\n      <td>e220a839-7b1d-cdaf-0000-000000000000</td>\n      <td>181</td>\n      <td>1</td>\n      <td>25600.0</td>\n      <td>0</td>\n      <td>2624</td>\n      <td>0</td>\n      <td>0</td>\n      <td>300000</td>\n      <td>0</td>\n      <td>1970-01-01 00:00:00+00:00</td>\n      <td>1970-01-01 00:00:00+00:00</td>\n      <td>2013-08-12 13:35:46+00:00</td>\n    </tr>\n    <tr>\n      <th>1</th>\n      <td>1970-01-01 00:05:00+00:00</td>\n      <td>00000000-0000-0000-1b39-896a51a8749b</td>\n      <td>1023</td>\n      <td>e220a839-7b1d-cdaf-0000-000000000000</td>\n      <td>260</td>\n      <td>1</td>\n      <td>25600.0</td>\n      <td>0</td>\n      <td>2624</td>\n      <td>0</td>\n      <td>0</td>\n      <td>300000</td>\n      <td>0</td>\n      <td>1970-01-01 00:00:00+00:00</td>\n      <td>1970-01-01 00:00:00+00:00</td>\n      <td>2013-08-12 13:35:46+00:00</td>\n    </tr>\n    <tr>\n      <th>2</th>\n      <td>1970-01-01 00:05:00+00:00</td>\n      <td>00000000-0000-0000-2c82-9abe1f4532e1</td>\n      <td>1026</td>\n      <td>e220a839-7b1d-cdaf-0000-000000000000</td>\n      <td>250</td>\n      <td>1</td>\n      <td>25600.0</td>\n      <td>2</td>\n      <td>2622</td>\n      <td>0</td>\n      <td>0</td>\n      <td>300000</td>\n      <td>0</td>\n      <td>1970-01-01 00:00:00+00:00</td>\n      <td>1970-01-01 00:00:00+00:00</td>\n      <td>2013-08-12 13:35:46+00:00</td>\n    </tr>\n    <tr>\n      <th>3</th>\n      <td>1970-01-01 00:05:00+00:00</td>\n      <td>00000000-0000-0000-3ee5-789041c98ac3</td>\n      <td>1129</td>\n      <td>e220a839-7b1d-cdaf-0000-000000000000</td>\n      <td>125</td>\n      <td>1</td>\n      <td>25600.0</td>\n      <td>0</td>\n      <td>2624</td>\n      <td>0</td>\n      <td>0</td>\n      <td>300000</td>\n      <td>0</td>\n      <td>1970-01-01 00:00:00+00:00</td>\n      <td>1970-01-01 00:00:00+00:00</td>\n      <td>2013-08-12 13:35:46+00:00</td>\n    </tr>\n    <tr>\n      <th>4</th>\n      <td>1970-01-01 00:05:00+00:00</td>\n      <td>00000000-0000-0000-657e-ecdd3cb13d09</td>\n      <td>1138</td>\n      <td>e220a839-7b1d-cdaf-0000-000000000000</td>\n      <td>157</td>\n      <td>1</td>\n      <td>25600.0</td>\n      <td>2</td>\n      <td>2951</td>\n      <td>0</td>\n      <td>0</td>\n      <td>300000</td>\n      <td>0</td>\n      <td>1970-01-01 00:00:00+00:00</td>\n      <td>1970-01-01 00:00:00+00:00</td>\n      <td>2013-08-12 13:35:46+00:00</td>\n    </tr>\n  </tbody>\n</table>\n</div>"
     },
     "execution_count": 105,
     "metadata": {},
     "output_type": "execute_result"
    }
   ],
   "source": [
    "df_server_single.head()"
   ]
  },
  {
   "cell_type": "code",
   "execution_count": 106,
   "id": "eadd08e4",
   "metadata": {
    "ExecuteTime": {
     "end_time": "2023-12-21T14:48:12.843324Z",
     "start_time": "2023-12-21T14:48:12.741537Z"
    }
   },
   "outputs": [
    {
     "data": {
      "text/plain": "<Axes: >"
     },
     "execution_count": 106,
     "metadata": {},
     "output_type": "execute_result"
    },
    {
     "data": {
      "text/plain": "<Figure size 640x480 with 1 Axes>",
      "image/png": "[encoded data removed]"
     },
     "metadata": {},
     "output_type": "display_data"
    }
   ],
   "source": [
    "df_host_single.cpu_utilization\n",
    "# array of 50 numbers\n",
    "# arrayNumbers = np.square(np.arange(50))\n",
    "# plt.plot(arrayNumbers)\n",
    "# show the graph with matplotlib\n",
    "df_host_single.cpu_utilization[:200].plot()\n",
    "df_host_single.cpu_utilization[200:400].plot()\n",
    "df_host_single.cpu_utilization[400:600].plot()\n",
    "df_host_single.cpu_utilization[600:800].plot()"
   ]
  },
  {
   "cell_type": "code",
   "execution_count": 107,
   "id": "a32f9d66",
   "metadata": {
    "ExecuteTime": {
     "end_time": "2023-12-21T14:48:12.844011Z",
     "start_time": "2023-12-21T14:48:12.803760Z"
    }
   },
   "outputs": [
    {
     "data": {
      "text/plain": "                  timestamp                               host_id  cpu_count  \\\n0 1970-01-01 00:05:00+00:00  f88bb8a8-724c-81ec-0000-000000000002          8   \n1 1970-01-01 00:05:00+00:00  1b39896a-51a8-749b-0000-000000000003          8   \n2 1970-01-01 00:05:00+00:00  c584133a-c916-ab3c-0000-000000000000         16   \n3 1970-01-01 00:05:00+00:00  53cb9f0c-747e-a2ea-0000-000000000004          8   \n4 1970-01-01 00:05:00+00:00  e220a839-7b1d-cdaf-0000-000000000000         32   \n\n   mem_capacity  guests_terminated  guests_running  guests_error  \\\n0         64000                  0               5             0   \n1         64000                  0               5             0   \n2        128000                  0               5             0   \n3         64000                  0               5             0   \n4        256000                  0               5             0   \n\n   guests_invalid  cpu_limit     cpu_usage    cpu_demand  cpu_utilization  \\\n0               0    23440.0  10988.033203  10988.033203         0.468773   \n1               0    23440.0    641.603821    641.603821         0.027372   \n2               0    51200.0  10547.469727  10547.469727         0.206005   \n3               0    23440.0    351.659912    351.659912         0.015003   \n4               0   102400.0   2214.168945   2214.168945         0.021623   \n\n   cpu_time_active  cpu_time_idle  cpu_time_steal  cpu_time_lost  \\\n0             1125           1274               0              0   \n1               65           2334               0              0   \n2              988           3811               0              0   \n3               36           2363               0              0   \n4              207           9392               0              0   \n\n    power_total  uptime  downtime                 boot_time  \n0  81094.853325  300000         0 1970-01-01 00:00:00+00:00  \n1  61231.893844  300000         0 1970-01-01 00:00:00+00:00  \n2  69270.356164  300000         0 1970-01-01 00:00:00+00:00  \n3  60675.262769  300000         0 1970-01-01 00:00:00+00:00  \n4  60973.170219  300000         0 1970-01-01 00:00:00+00:00  ",
      "text/html": "<div>\n<style scoped>\n    .dataframe tbody tr th:only-of-type {\n        vertical-align: middle;\n    }\n\n    .dataframe tbody tr th {\n        vertical-align: top;\n    }\n\n    .dataframe thead th {\n        text-align: right;\n    }\n</style>\n<table border=\"1\" class=\"dataframe\">\n  <thead>\n    <tr style=\"text-align: right;\">\n      <th></th>\n      <th>timestamp</th>\n      <th>host_id</th>\n      <th>cpu_count</th>\n      <th>mem_capacity</th>\n      <th>guests_terminated</th>\n      <th>guests_running</th>\n      <th>guests_error</th>\n      <th>guests_invalid</th>\n      <th>cpu_limit</th>\n      <th>cpu_usage</th>\n      <th>cpu_demand</th>\n      <th>cpu_utilization</th>\n      <th>cpu_time_active</th>\n      <th>cpu_time_idle</th>\n      <th>cpu_time_steal</th>\n      <th>cpu_time_lost</th>\n      <th>power_total</th>\n      <th>uptime</th>\n      <th>downtime</th>\n      <th>boot_time</th>\n    </tr>\n  </thead>\n  <tbody>\n    <tr>\n      <th>0</th>\n      <td>1970-01-01 00:05:00+00:00</td>\n      <td>f88bb8a8-724c-81ec-0000-000000000002</td>\n      <td>8</td>\n      <td>64000</td>\n      <td>0</td>\n      <td>5</td>\n      <td>0</td>\n      <td>0</td>\n      <td>23440.0</td>\n      <td>10988.033203</td>\n      <td>10988.033203</td>\n      <td>0.468773</td>\n      <td>1125</td>\n      <td>1274</td>\n      <td>0</td>\n      <td>0</td>\n      <td>81094.853325</td>\n      <td>300000</td>\n      <td>0</td>\n      <td>1970-01-01 00:00:00+00:00</td>\n    </tr>\n    <tr>\n      <th>1</th>\n      <td>1970-01-01 00:05:00+00:00</td>\n      <td>1b39896a-51a8-749b-0000-000000000003</td>\n      <td>8</td>\n      <td>64000</td>\n      <td>0</td>\n      <td>5</td>\n      <td>0</td>\n      <td>0</td>\n      <td>23440.0</td>\n      <td>641.603821</td>\n      <td>641.603821</td>\n      <td>0.027372</td>\n      <td>65</td>\n      <td>2334</td>\n      <td>0</td>\n      <td>0</td>\n      <td>61231.893844</td>\n      <td>300000</td>\n      <td>0</td>\n      <td>1970-01-01 00:00:00+00:00</td>\n    </tr>\n    <tr>\n      <th>2</th>\n      <td>1970-01-01 00:05:00+00:00</td>\n      <td>c584133a-c916-ab3c-0000-000000000000</td>\n      <td>16</td>\n      <td>128000</td>\n      <td>0</td>\n      <td>5</td>\n      <td>0</td>\n      <td>0</td>\n      <td>51200.0</td>\n      <td>10547.469727</td>\n      <td>10547.469727</td>\n      <td>0.206005</td>\n      <td>988</td>\n      <td>3811</td>\n      <td>0</td>\n      <td>0</td>\n      <td>69270.356164</td>\n      <td>300000</td>\n      <td>0</td>\n      <td>1970-01-01 00:00:00+00:00</td>\n    </tr>\n    <tr>\n      <th>3</th>\n      <td>1970-01-01 00:05:00+00:00</td>\n      <td>53cb9f0c-747e-a2ea-0000-000000000004</td>\n      <td>8</td>\n      <td>64000</td>\n      <td>0</td>\n      <td>5</td>\n      <td>0</td>\n      <td>0</td>\n      <td>23440.0</td>\n      <td>351.659912</td>\n      <td>351.659912</td>\n      <td>0.015003</td>\n      <td>36</td>\n      <td>2363</td>\n      <td>0</td>\n      <td>0</td>\n      <td>60675.262769</td>\n      <td>300000</td>\n      <td>0</td>\n      <td>1970-01-01 00:00:00+00:00</td>\n    </tr>\n    <tr>\n      <th>4</th>\n      <td>1970-01-01 00:05:00+00:00</td>\n      <td>e220a839-7b1d-cdaf-0000-000000000000</td>\n      <td>32</td>\n      <td>256000</td>\n      <td>0</td>\n      <td>5</td>\n      <td>0</td>\n      <td>0</td>\n      <td>102400.0</td>\n      <td>2214.168945</td>\n      <td>2214.168945</td>\n      <td>0.021623</td>\n      <td>207</td>\n      <td>9392</td>\n      <td>0</td>\n      <td>0</td>\n      <td>60973.170219</td>\n      <td>300000</td>\n      <td>0</td>\n      <td>1970-01-01 00:00:00+00:00</td>\n    </tr>\n  </tbody>\n</table>\n</div>"
     },
     "execution_count": 107,
     "metadata": {},
     "output_type": "execute_result"
    }
   ],
   "source": [
    "df_host_multi.head()"
   ]
  },
  {
   "cell_type": "code",
   "execution_count": 108,
   "id": "16f4a6b6",
   "metadata": {
    "ExecuteTime": {
     "end_time": "2023-12-21T14:48:12.844697Z",
     "start_time": "2023-12-21T14:48:12.816053Z"
    }
   },
   "outputs": [
    {
     "ename": "NameError",
     "evalue": "name 'd1' is not defined",
     "output_type": "error",
     "traceback": [
      "\u001B[0;31m---------------------------------------------------------------------------\u001B[0m",
      "\u001B[0;31mNameError\u001B[0m                                 Traceback (most recent call last)",
      "Cell \u001B[0;32mIn[108], line 1\u001B[0m\n\u001B[0;32m----> 1\u001B[0m \u001B[38;5;28mset\u001B[39m(\u001B[43md1\u001B[49m) \u001B[38;5;241m==\u001B[39m \u001B[38;5;28mset\u001B[39m(d2)\n",
      "\u001B[0;31mNameError\u001B[0m: name 'd1' is not defined"
     ]
    }
   ],
   "source": [
    "set(d1) == set(d2)"
   ]
  },
  {
   "cell_type": "markdown",
   "id": "09d31c91",
   "metadata": {},
   "source": [
    "## Power Usage"
   ]
  },
  {
   "cell_type": "code",
   "execution_count": null,
   "id": "82f0a24a",
   "metadata": {
    "ExecuteTime": {
     "start_time": "2023-12-21T14:48:12.818452Z"
    }
   },
   "outputs": [],
   "source": [
    "print(f\"single topology:  {df_host_single.power_total.sum()}\")\n",
    "print(f\"multi topology:   {df_host_multi.power_total.sum()}\")"
   ]
  },
  {
   "cell_type": "markdown",
   "id": "7ab3357d",
   "metadata": {},
   "source": [
    "## CPU usage"
   ]
  },
  {
   "cell_type": "code",
   "execution_count": null,
   "id": "e94db3a6",
   "metadata": {
    "ExecuteTime": {
     "start_time": "2023-12-21T14:48:12.819264Z"
    }
   },
   "outputs": [],
   "source": [
    "print(f\"single topology:  {df_host_single.cpu_usage.mean()}\")\n",
    "print(f\"multi topology:   {df_host_multi.cpu_usage.mean()}\")"
   ]
  },
  {
   "cell_type": "markdown",
   "id": "e000a260",
   "metadata": {},
   "source": [
    "## CPU utilization"
   ]
  },
  {
   "cell_type": "code",
   "execution_count": null,
   "id": "8d7daa45",
   "metadata": {
    "ExecuteTime": {
     "start_time": "2023-12-21T14:48:12.820328Z"
    }
   },
   "outputs": [],
   "source": [
    "print(f\"single topology:  {df_host_single.cpu_utilization.mean()}\")\n",
    "print(f\"multi topology:   {df_host_multi.cpu_utilization.mean()}\")"
   ]
  },
  {
   "cell_type": "markdown",
   "id": "ad97741c",
   "metadata": {},
   "source": [
    "## Plotting Results"
   ]
  },
  {
   "cell_type": "code",
   "execution_count": null,
   "id": "5df8f9aa",
   "metadata": {
    "ExecuteTime": {
     "start_time": "2023-12-21T14:48:12.821258Z"
    }
   },
   "outputs": [],
   "source": [
    "data = df_host_multi.cpu_utilization\n",
    "plt.hist(data, weights=np.ones_like(data) / len(data),\n",
    "         alpha=0.7, label=\"multi\", bins=30)\n",
    "\n",
    "\n",
    "data = df_host_single.cpu_utilization\n",
    "plt.hist(data, weights=np.ones_like(data) / len(data),\n",
    "         alpha=0.7, label=\"single\", bins=30)\n",
    "\n",
    "plt.xlabel(\"CPU utilization\")\n",
    "plt.ylabel(\"Frequency\")\n",
    "plt.legend()\n",
    "plt.show()"
   ]
  },
  {
   "cell_type": "code",
   "execution_count": null,
   "id": "42c0c638",
   "metadata": {
    "ExecuteTime": {
     "start_time": "2023-12-21T14:48:12.821886Z"
    }
   },
   "outputs": [],
   "source": [
    "import matplotlib.pyplot as plt\n",
    "\n",
    "plt.plot(df_service_single.servers_pending, label=\"servers pending\")\n",
    "plt.plot(df_service_single.servers_active, label=\"servers active\")\n",
    "\n",
    "plt.legend()"
   ]
  },
  {
   "cell_type": "code",
   "execution_count": null,
   "id": "1a688c2d",
   "metadata": {
    "ExecuteTime": {
     "start_time": "2023-12-21T14:48:12.822701Z"
    }
   },
   "outputs": [],
   "source": [
    "import matplotlib.pyplot as plt\n",
    "\n",
    "plt.plot(df_service_multi.servers_pending, label=\"servers pending\")\n",
    "plt.plot(df_service_multi.servers_active, label=\"servers active\")\n",
    "\n",
    "plt.legend()"
   ]
  },
  {
   "cell_type": "code",
   "execution_count": null,
   "id": "dc4e17cd",
   "metadata": {
    "ExecuteTime": {
     "start_time": "2023-12-21T14:48:12.823523Z"
    }
   },
   "outputs": [],
   "source": [
    "df_server_single.head()"
   ]
  },
  {
   "cell_type": "code",
   "execution_count": null,
   "id": "b0e6c7bf",
   "metadata": {
    "ExecuteTime": {
     "start_time": "2023-12-21T14:48:12.824580Z"
    }
   },
   "outputs": [],
   "source": [
    "utilization = df_host_single.cpu_utilization.to_numpy()"
   ]
  },
  {
   "cell_type": "code",
   "execution_count": null,
   "id": "aea7b79d",
   "metadata": {
    "ExecuteTime": {
     "start_time": "2023-12-21T14:48:12.825206Z"
    }
   },
   "outputs": [],
   "source": [
    "window = 2000\n",
    "avg_utilization = []\n",
    "\n",
    "for ind in range(len(utilization) - window + 1):\n",
    "    avg_utilization.append(np.mean(utilization[ind:ind+window]))\n",
    "\n",
    "plt.plot(avg_utilization)"
   ]
  },
  {
   "cell_type": "code",
   "execution_count": null,
   "id": "575f824b",
   "metadata": {
    "ExecuteTime": {
     "start_time": "2023-12-21T14:48:12.825763Z"
    }
   },
   "outputs": [],
   "source": [
    "sum_util = []\n",
    "\n",
    "last_util = 0\n",
    "for util in utilization:\n",
    "    sum_util.append(util + last_util)\n",
    "    last_util = sum_util[-1]\n",
    "\n",
    "plt.plot(sum_util)"
   ]
  },
  {
   "cell_type": "code",
   "execution_count": null,
   "id": "d99dfce2",
   "metadata": {
    "ExecuteTime": {
     "start_time": "2023-12-21T14:48:12.826212Z"
    }
   },
   "outputs": [],
   "source": [
    "output_file = \"../Python_scripts/meta_small.parquet\"\n",
    "output_file_path = Path(output_file)\n",
    "\n",
    "df_meta_new.to_parquet(output_file_path, index=False)\n",
    "\n",
    "output_file = \"../Python_scripts/trace_small.parquet\"\n",
    "output_file_path = Path(output_file)\n",
    "df_trace_new.to_parquet(output_file_path, index=False)\n"
   ]
  }
 ],
 "metadata": {
  "kernelspec": {
   "display_name": "Python 3 (ipykernel)",
   "language": "python",
   "name": "python3"
  },
  "language_info": {
   "codemirror_mode": {
    "name": "ipython",
    "version": 3
   },
   "file_extension": ".py",
   "mimetype": "text/x-python",
   "name": "python",
   "nbconvert_exporter": "python",
   "pygments_lexer": "ipython3",
   "version": "3.10.12"
  }
 },
 "nbformat": 4,
 "nbformat_minor": 5
}
