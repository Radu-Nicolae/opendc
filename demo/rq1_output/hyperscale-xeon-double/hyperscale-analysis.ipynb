{
 "cells": [
  {
   "cell_type": "code",
   "execution_count": 1,
   "id": "initial_id",
   "metadata": {
    "collapsed": true,
    "ExecuteTime": {
     "end_time": "2024-06-14T09:40:42.940339Z",
     "start_time": "2024-06-14T09:40:42.251716Z"
    }
   },
   "outputs": [],
   "source": [
    "import matplotlib.pyplot as plt\n",
    "import numpy as np\n",
    "import os\n",
    "import pandas as pd"
   ]
  },
  {
   "cell_type": "code",
   "outputs": [
    {
     "name": "stdout",
     "output_type": "stream",
     "text": [
      "/Users/raz/atlarge/opendc/demo/output/hyperscale-xeon-double\n"
     ]
    }
   ],
   "source": [
    "# print the current working directory\n",
    "print(os.getcwd())"
   ],
   "metadata": {
    "collapsed": false,
    "ExecuteTime": {
     "end_time": "2024-06-14T09:40:42.943635Z",
     "start_time": "2024-06-14T09:40:42.941610Z"
    }
   },
   "id": "3abd8c27a5ba5cb5",
   "execution_count": 2
  },
  {
   "cell_type": "code",
   "outputs": [],
   "source": [
    "def process_host_data(path):\n",
    "    host = pd.read_parquet(path)\n",
    "    host = host.select_dtypes(include=[np.number]).groupby(\"timestamp\").aggregate(\"sum\")\n",
    "    host = host[\"energy_usage\"].sum() #value in Ws\n",
    "    host = host / 3600 #value in Wh\n",
    "    host = host / 1e6 #value in MWh\n",
    "    \n",
    "    return host"
   ],
   "metadata": {
    "collapsed": false,
    "ExecuteTime": {
     "end_time": "2024-06-14T09:40:42.946622Z",
     "start_time": "2024-06-14T09:40:42.944428Z"
    }
   },
   "id": "2f20d9df54d7bdae",
   "execution_count": 3
  },
  {
   "cell_type": "code",
   "outputs": [],
   "source": [
    "host_1 = process_host_data(\"raw-output/0/seed=0/host.parquet\")\n",
    "host_2 = process_host_data(\"raw-output/1/seed=0/host.parquet\")\n",
    "host_3 = process_host_data(\"raw-output/2/seed=0/host.parquet\")\n",
    "host_4 = process_host_data(\"raw-output/3/seed=0/host.parquet\")"
   ],
   "metadata": {
    "collapsed": false,
    "ExecuteTime": {
     "end_time": "2024-06-14T09:42:39.142859Z",
     "start_time": "2024-06-14T09:40:42.947365Z"
    }
   },
   "id": "37089033c172f6c2",
   "execution_count": 4
  },
  {
   "cell_type": "code",
   "outputs": [
    {
     "name": "stdout",
     "output_type": "stream",
     "text": [
      "Model 1 predicts  1083.2459170197048 MWh\n",
      "Model 2 predicts  1082.0750011910397 MWh\n",
      "Model 3 predicts  1081.7564537484443 MWh\n",
      "Model 4 predicts  1081.6992241749383 MWh\n"
     ]
    },
    {
     "data": {
      "text/plain": "<Figure size 640x480 with 1 Axes>",
      "image/png": "[encoded data removed]"
     },
     "metadata": {},
     "output_type": "display_data"
    }
   ],
   "source": [
    "# plot, in a bar char, the eergy usage of the host\n",
    "# horizontal barchart, with different colors, and the axis being between 535 and 545\n",
    "fig, ax = plt.subplots()\n",
    "ax.barh([\"Model 1\", \"Model 2\", \"Model 3\", \"Model 4\"], [host_1, host_2, host_3, host_4], color=[\"red\", \"green\", \"blue\", \"orange\"])\n",
    "ax.set_xlim(1080, 1090)\n",
    "# ax.y_label(\"Model\")\n",
    "# ax.x_label(\"Energy Usage (MWh)\")\n",
    "\n",
    "# set x_label\n",
    "plt.xlabel(\"Energy Usage [MWh]\")\n",
    "\n",
    "# ticks of y will be 540, 541, 542, 543, 544\n",
    "plt.xticks([1080, 1081, 1082, 1083, 1084])\n",
    "\n",
    "# save as pdf\n",
    "plt.savefig(\"energy_usage_multi_model.pdf\")\n",
    "\n",
    "\n",
    "\n",
    "print(\"Model 1 predicts \", host_1, \"MWh\")\n",
    "print(\"Model 2 predicts \", host_2, \"MWh\")\n",
    "print(\"Model 3 predicts \", host_3, \"MWh\")\n",
    "print(\"Model 4 predicts \", host_4, \"MWh\")"
   ],
   "metadata": {
    "collapsed": false,
    "ExecuteTime": {
     "end_time": "2024-06-14T09:44:12.257618Z",
     "start_time": "2024-06-14T09:44:12.179870Z"
    }
   },
   "id": "c30351f1ebac55b7",
   "execution_count": 8
  },
  {
   "cell_type": "code",
   "outputs": [],
   "source": [],
   "metadata": {
    "collapsed": false,
    "ExecuteTime": {
     "end_time": "2024-06-14T09:42:39.412861Z",
     "start_time": "2024-06-14T09:42:39.411472Z"
    }
   },
   "id": "3597f18ee8fc3429",
   "execution_count": 5
  }
 ],
 "metadata": {
  "kernelspec": {
   "display_name": "Python 3",
   "language": "python",
   "name": "python3"
  },
  "language_info": {
   "codemirror_mode": {
    "name": "ipython",
    "version": 2
   },
   "file_extension": ".py",
   "mimetype": "text/x-python",
   "name": "python",
   "nbconvert_exporter": "python",
   "pygments_lexer": "ipython2",
   "version": "2.7.6"
  }
 },
 "nbformat": 4,
 "nbformat_minor": 5
}
