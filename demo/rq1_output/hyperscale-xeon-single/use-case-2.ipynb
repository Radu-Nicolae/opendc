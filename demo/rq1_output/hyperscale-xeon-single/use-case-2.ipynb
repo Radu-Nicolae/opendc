{
 "cells": [
  {
   "cell_type": "code",
   "execution_count": 1,
   "id": "initial_id",
   "metadata": {
    "collapsed": true,
    "ExecuteTime": {
     "end_time": "2024-06-14T12:07:31.056032Z",
     "start_time": "2024-06-14T12:07:30.427232Z"
    }
   },
   "outputs": [],
   "source": [
    "import matplotlib.pyplot as plt\n",
    "import numpy as np\n",
    "import os\n",
    "import pandas as pd\n",
    "import math"
   ]
  },
  {
   "cell_type": "code",
   "outputs": [],
   "source": [
    "def process_host_data(path):\n",
    "    host = pd.read_parquet(path)\n",
    "    host = host.select_dtypes(include=[np.number]).groupby(\"timestamp\")[\"cpu_utilization\"]\n",
    "    one_day = math.floor(len(host) / 3)\n",
    "    host = host[:one_day]\n",
    "\n",
    "    # Convert timestamp from milliseconds to a timedelta\n",
    "    host.index = pd.to_timedelta(host.index, unit='ms')\n",
    "\n",
    "    # Convert timedelta to a human-readable format\n",
    "    host.index = host.index.map(lambda x: str(x).split(' ')[-1])\n",
    "\n",
    "    return host"
   ],
   "metadata": {
    "collapsed": false,
    "ExecuteTime": {
     "end_time": "2024-06-14T12:07:31.059966Z",
     "start_time": "2024-06-14T12:07:31.057220Z"
    }
   },
   "id": "159fb27662f2e81",
   "execution_count": 2
  },
  {
   "cell_type": "code",
   "outputs": [],
   "source": [
    "def retrieve_host(path):\n",
    "    host = pd.read_parquet(path)\n",
    "    host = host.select_dtypes(include=[np.number]).groupby(\"timestamp\").mean()[\"cpu_utilization\"]\n",
    "    \n",
    "    return host"
   ],
   "metadata": {
    "collapsed": false,
    "ExecuteTime": {
     "end_time": "2024-06-14T12:09:56.932128Z",
     "start_time": "2024-06-14T12:09:56.927875Z"
    }
   },
   "id": "6b56767c5f34b0a8",
   "execution_count": 9
  },
  {
   "cell_type": "code",
   "outputs": [
    {
     "data": {
      "text/plain": "      timestamp  absolute_timestamp                               host_id  \\\n2000     300000       1376314846000  c80cbfb7-0daa-5a48-0000-000000000cd5   \n2001     300000       1376314846000  7b4d4e44-f09a-5bf7-0000-0000000012f5   \n2002     300000       1376314846000  b1995b4c-073b-25c2-0000-0000000004be   \n2003     300000       1376314846000  efff56c3-685b-584f-0000-0000000005ba   \n2004     300000       1376314846000  caa56213-24d1-23e3-0000-000000000311   \n...         ...                 ...                                   ...   \n2995     300000       1376314846000  7309863d-7d6d-7123-0000-000000000a5d   \n2996     300000       1376314846000  87276eb6-b838-e97f-0000-000000000bf1   \n2997     300000       1376314846000  5c15853e-6f39-8fe5-0000-000000000adf   \n2998     300000       1376314846000  e733d1e8-acae-6f80-0000-0000000006df   \n2999     300000       1376314846000  d0576b2a-e376-86d8-0000-000000000dff   \n\n      cpu_count   mem_capacity  guests_terminated  guests_running  \\\n2000          2  1099511627776                  0               0   \n2001          2  1099511627776                  0               0   \n2002          2  1099511627776                  0               0   \n2003          2  1099511627776                  0               0   \n2004          2  1099511627776                  0               0   \n...         ...            ...                ...             ...   \n2995          2  1099511627776                  0               0   \n2996          2  1099511627776                  0               0   \n2997          2  1099511627776                  0               0   \n2998          2  1099511627776                  0               0   \n2999          2  1099511627776                  0               0   \n\n      guests_error  guests_invalid  cpu_limit  ...  cpu_time_idle  \\\n2000             0               0     4200.0  ...         600000   \n2001             0               0     4200.0  ...         600000   \n2002             0               0     4200.0  ...         600000   \n2003             0               0     4200.0  ...         600000   \n2004             0               0     4200.0  ...         600000   \n...            ...             ...        ...  ...            ...   \n2995             0               0     4200.0  ...         600000   \n2996             0               0     4200.0  ...         600000   \n2997             0               0     4200.0  ...         600000   \n2998             0               0     4200.0  ...         600000   \n2999             0               0     4200.0  ...         600000   \n\n      cpu_time_steal  cpu_time_lost  power_draw  energy_usage  \\\n2000               0              0       150.0       45000.0   \n2001               0              0       150.0       45000.0   \n2002               0              0       150.0       45000.0   \n2003               0              0       150.0       45000.0   \n2004               0              0       150.0       45000.0   \n...              ...            ...         ...           ...   \n2995               0              0       150.0       45000.0   \n2996               0              0       150.0       45000.0   \n2997               0              0       150.0       45000.0   \n2998               0              0       150.0       45000.0   \n2999               0              0       150.0       45000.0   \n\n      carbon_intensity  carbon_emission  uptime  downtime  boot_time  \n2000         43.004721         0.537559  300000         0          0  \n2001         43.004721         0.537559  300000         0          0  \n2002         43.004721         0.537559  300000         0          0  \n2003         43.004721         0.537559  300000         0          0  \n2004         43.004721         0.537559  300000         0          0  \n...                ...              ...     ...       ...        ...  \n2995         43.004721         0.537559  300000         0          0  \n2996         43.004721         0.537559  300000         0          0  \n2997         43.004721         0.537559  300000         0          0  \n2998         43.004721         0.537559  300000         0          0  \n2999         43.004721         0.537559  300000         0          0  \n\n[1000 rows x 24 columns]",
      "text/html": "<div>\n<style scoped>\n    .dataframe tbody tr th:only-of-type {\n        vertical-align: middle;\n    }\n\n    .dataframe tbody tr th {\n        vertical-align: top;\n    }\n\n    .dataframe thead th {\n        text-align: right;\n    }\n</style>\n<table border=\"1\" class=\"dataframe\">\n  <thead>\n    <tr style=\"text-align: right;\">\n      <th></th>\n      <th>timestamp</th>\n      <th>absolute_timestamp</th>\n      <th>host_id</th>\n      <th>cpu_count</th>\n      <th>mem_capacity</th>\n      <th>guests_terminated</th>\n      <th>guests_running</th>\n      <th>guests_error</th>\n      <th>guests_invalid</th>\n      <th>cpu_limit</th>\n      <th>...</th>\n      <th>cpu_time_idle</th>\n      <th>cpu_time_steal</th>\n      <th>cpu_time_lost</th>\n      <th>power_draw</th>\n      <th>energy_usage</th>\n      <th>carbon_intensity</th>\n      <th>carbon_emission</th>\n      <th>uptime</th>\n      <th>downtime</th>\n      <th>boot_time</th>\n    </tr>\n  </thead>\n  <tbody>\n    <tr>\n      <th>2000</th>\n      <td>300000</td>\n      <td>1376314846000</td>\n      <td>c80cbfb7-0daa-5a48-0000-000000000cd5</td>\n      <td>2</td>\n      <td>1099511627776</td>\n      <td>0</td>\n      <td>0</td>\n      <td>0</td>\n      <td>0</td>\n      <td>4200.0</td>\n      <td>...</td>\n      <td>600000</td>\n      <td>0</td>\n      <td>0</td>\n      <td>150.0</td>\n      <td>45000.0</td>\n      <td>43.004721</td>\n      <td>0.537559</td>\n      <td>300000</td>\n      <td>0</td>\n      <td>0</td>\n    </tr>\n    <tr>\n      <th>2001</th>\n      <td>300000</td>\n      <td>1376314846000</td>\n      <td>7b4d4e44-f09a-5bf7-0000-0000000012f5</td>\n      <td>2</td>\n      <td>1099511627776</td>\n      <td>0</td>\n      <td>0</td>\n      <td>0</td>\n      <td>0</td>\n      <td>4200.0</td>\n      <td>...</td>\n      <td>600000</td>\n      <td>0</td>\n      <td>0</td>\n      <td>150.0</td>\n      <td>45000.0</td>\n      <td>43.004721</td>\n      <td>0.537559</td>\n      <td>300000</td>\n      <td>0</td>\n      <td>0</td>\n    </tr>\n    <tr>\n      <th>2002</th>\n      <td>300000</td>\n      <td>1376314846000</td>\n      <td>b1995b4c-073b-25c2-0000-0000000004be</td>\n      <td>2</td>\n      <td>1099511627776</td>\n      <td>0</td>\n      <td>0</td>\n      <td>0</td>\n      <td>0</td>\n      <td>4200.0</td>\n      <td>...</td>\n      <td>600000</td>\n      <td>0</td>\n      <td>0</td>\n      <td>150.0</td>\n      <td>45000.0</td>\n      <td>43.004721</td>\n      <td>0.537559</td>\n      <td>300000</td>\n      <td>0</td>\n      <td>0</td>\n    </tr>\n    <tr>\n      <th>2003</th>\n      <td>300000</td>\n      <td>1376314846000</td>\n      <td>efff56c3-685b-584f-0000-0000000005ba</td>\n      <td>2</td>\n      <td>1099511627776</td>\n      <td>0</td>\n      <td>0</td>\n      <td>0</td>\n      <td>0</td>\n      <td>4200.0</td>\n      <td>...</td>\n      <td>600000</td>\n      <td>0</td>\n      <td>0</td>\n      <td>150.0</td>\n      <td>45000.0</td>\n      <td>43.004721</td>\n      <td>0.537559</td>\n      <td>300000</td>\n      <td>0</td>\n      <td>0</td>\n    </tr>\n    <tr>\n      <th>2004</th>\n      <td>300000</td>\n      <td>1376314846000</td>\n      <td>caa56213-24d1-23e3-0000-000000000311</td>\n      <td>2</td>\n      <td>1099511627776</td>\n      <td>0</td>\n      <td>0</td>\n      <td>0</td>\n      <td>0</td>\n      <td>4200.0</td>\n      <td>...</td>\n      <td>600000</td>\n      <td>0</td>\n      <td>0</td>\n      <td>150.0</td>\n      <td>45000.0</td>\n      <td>43.004721</td>\n      <td>0.537559</td>\n      <td>300000</td>\n      <td>0</td>\n      <td>0</td>\n    </tr>\n    <tr>\n      <th>...</th>\n      <td>...</td>\n      <td>...</td>\n      <td>...</td>\n      <td>...</td>\n      <td>...</td>\n      <td>...</td>\n      <td>...</td>\n      <td>...</td>\n      <td>...</td>\n      <td>...</td>\n      <td>...</td>\n      <td>...</td>\n      <td>...</td>\n      <td>...</td>\n      <td>...</td>\n      <td>...</td>\n      <td>...</td>\n      <td>...</td>\n      <td>...</td>\n      <td>...</td>\n      <td>...</td>\n    </tr>\n    <tr>\n      <th>2995</th>\n      <td>300000</td>\n      <td>1376314846000</td>\n      <td>7309863d-7d6d-7123-0000-000000000a5d</td>\n      <td>2</td>\n      <td>1099511627776</td>\n      <td>0</td>\n      <td>0</td>\n      <td>0</td>\n      <td>0</td>\n      <td>4200.0</td>\n      <td>...</td>\n      <td>600000</td>\n      <td>0</td>\n      <td>0</td>\n      <td>150.0</td>\n      <td>45000.0</td>\n      <td>43.004721</td>\n      <td>0.537559</td>\n      <td>300000</td>\n      <td>0</td>\n      <td>0</td>\n    </tr>\n    <tr>\n      <th>2996</th>\n      <td>300000</td>\n      <td>1376314846000</td>\n      <td>87276eb6-b838-e97f-0000-000000000bf1</td>\n      <td>2</td>\n      <td>1099511627776</td>\n      <td>0</td>\n      <td>0</td>\n      <td>0</td>\n      <td>0</td>\n      <td>4200.0</td>\n      <td>...</td>\n      <td>600000</td>\n      <td>0</td>\n      <td>0</td>\n      <td>150.0</td>\n      <td>45000.0</td>\n      <td>43.004721</td>\n      <td>0.537559</td>\n      <td>300000</td>\n      <td>0</td>\n      <td>0</td>\n    </tr>\n    <tr>\n      <th>2997</th>\n      <td>300000</td>\n      <td>1376314846000</td>\n      <td>5c15853e-6f39-8fe5-0000-000000000adf</td>\n      <td>2</td>\n      <td>1099511627776</td>\n      <td>0</td>\n      <td>0</td>\n      <td>0</td>\n      <td>0</td>\n      <td>4200.0</td>\n      <td>...</td>\n      <td>600000</td>\n      <td>0</td>\n      <td>0</td>\n      <td>150.0</td>\n      <td>45000.0</td>\n      <td>43.004721</td>\n      <td>0.537559</td>\n      <td>300000</td>\n      <td>0</td>\n      <td>0</td>\n    </tr>\n    <tr>\n      <th>2998</th>\n      <td>300000</td>\n      <td>1376314846000</td>\n      <td>e733d1e8-acae-6f80-0000-0000000006df</td>\n      <td>2</td>\n      <td>1099511627776</td>\n      <td>0</td>\n      <td>0</td>\n      <td>0</td>\n      <td>0</td>\n      <td>4200.0</td>\n      <td>...</td>\n      <td>600000</td>\n      <td>0</td>\n      <td>0</td>\n      <td>150.0</td>\n      <td>45000.0</td>\n      <td>43.004721</td>\n      <td>0.537559</td>\n      <td>300000</td>\n      <td>0</td>\n      <td>0</td>\n    </tr>\n    <tr>\n      <th>2999</th>\n      <td>300000</td>\n      <td>1376314846000</td>\n      <td>d0576b2a-e376-86d8-0000-000000000dff</td>\n      <td>2</td>\n      <td>1099511627776</td>\n      <td>0</td>\n      <td>0</td>\n      <td>0</td>\n      <td>0</td>\n      <td>4200.0</td>\n      <td>...</td>\n      <td>600000</td>\n      <td>0</td>\n      <td>0</td>\n      <td>150.0</td>\n      <td>45000.0</td>\n      <td>43.004721</td>\n      <td>0.537559</td>\n      <td>300000</td>\n      <td>0</td>\n      <td>0</td>\n    </tr>\n  </tbody>\n</table>\n<p>1000 rows × 24 columns</p>\n</div>"
     },
     "execution_count": 12,
     "metadata": {},
     "output_type": "execute_result"
    }
   ],
   "source": [
    "pd.read_parquet(\"raw-output/0/seed=0/host.parquet\")[2000:3000]"
   ],
   "metadata": {
    "collapsed": false,
    "ExecuteTime": {
     "end_time": "2024-06-14T12:12:10.279840Z",
     "start_time": "2024-06-14T12:12:04.699335Z"
    }
   },
   "id": "f79f80c14fded5ad",
   "execution_count": 12
  },
  {
   "cell_type": "code",
   "outputs": [
    {
     "data": {
      "text/plain": "timestamp\n300000        1.238395e-03\n600000        1.253859e-03\n900000        1.252346e-03\n1200000       1.244679e-03\n1500000       1.242084e-03\n                  ...     \n2591100000    7.840299e-04\n2591400000    7.765370e-04\n2591700000    7.923587e-04\n2592000000    1.180447e-03\n2592278000    6.690479e-10\nName: cpu_utilization, Length: 8641, dtype: float64"
     },
     "execution_count": 10,
     "metadata": {},
     "output_type": "execute_result"
    }
   ],
   "source": [
    "retrieve_host(\"raw-output/0/seed=0/host.parquet\")"
   ],
   "metadata": {
    "collapsed": false,
    "ExecuteTime": {
     "end_time": "2024-06-14T12:10:14.951511Z",
     "start_time": "2024-06-14T12:09:57.687070Z"
    }
   },
   "id": "e91cba4b07e1eee1",
   "execution_count": 10
  },
  {
   "cell_type": "code",
   "outputs": [
    {
     "ename": "IndexError",
     "evalue": "Column(s) cpu_utilization already selected",
     "output_type": "error",
     "traceback": [
      "\u001B[0;31m---------------------------------------------------------------------------\u001B[0m",
      "\u001B[0;31mIndexError\u001B[0m                                Traceback (most recent call last)",
      "Cell \u001B[0;32mIn[5], line 1\u001B[0m\n\u001B[0;32m----> 1\u001B[0m host_1 \u001B[38;5;241m=\u001B[39m \u001B[43mprocess_host_data\u001B[49m\u001B[43m(\u001B[49m\u001B[38;5;124;43m\"\u001B[39;49m\u001B[38;5;124;43mraw-output/0/seed=0/host.parquet\u001B[39;49m\u001B[38;5;124;43m\"\u001B[39;49m\u001B[43m)\u001B[49m\n\u001B[1;32m      2\u001B[0m \u001B[38;5;66;03m# host_2 = process_host_data(\"raw-output/1/seed=0/host.parquet\")\u001B[39;00m\n\u001B[1;32m      3\u001B[0m \u001B[38;5;66;03m# host_3 = process_host_data(\"raw-output/2/seed=0/host.parquet\")\u001B[39;00m\n\u001B[1;32m      4\u001B[0m \u001B[38;5;66;03m# host_4 = process_host_data(\"raw-output/3/seed=0/host.parquet\")\u001B[39;00m\n",
      "Cell \u001B[0;32mIn[2], line 5\u001B[0m, in \u001B[0;36mprocess_host_data\u001B[0;34m(path)\u001B[0m\n\u001B[1;32m      3\u001B[0m host \u001B[38;5;241m=\u001B[39m host\u001B[38;5;241m.\u001B[39mselect_dtypes(include\u001B[38;5;241m=\u001B[39m[np\u001B[38;5;241m.\u001B[39mnumber])\u001B[38;5;241m.\u001B[39mgroupby(\u001B[38;5;124m\"\u001B[39m\u001B[38;5;124mtimestamp\u001B[39m\u001B[38;5;124m\"\u001B[39m)[\u001B[38;5;124m\"\u001B[39m\u001B[38;5;124mcpu_utilization\u001B[39m\u001B[38;5;124m\"\u001B[39m]\n\u001B[1;32m      4\u001B[0m one_day \u001B[38;5;241m=\u001B[39m math\u001B[38;5;241m.\u001B[39mfloor(\u001B[38;5;28mlen\u001B[39m(host) \u001B[38;5;241m/\u001B[39m \u001B[38;5;241m3\u001B[39m)\n\u001B[0;32m----> 5\u001B[0m host \u001B[38;5;241m=\u001B[39m \u001B[43mhost\u001B[49m\u001B[43m[\u001B[49m\u001B[43m:\u001B[49m\u001B[43mone_day\u001B[49m\u001B[43m]\u001B[49m\n\u001B[1;32m      7\u001B[0m \u001B[38;5;66;03m# Convert timestamp from milliseconds to a timedelta\u001B[39;00m\n\u001B[1;32m      8\u001B[0m host\u001B[38;5;241m.\u001B[39mindex \u001B[38;5;241m=\u001B[39m pd\u001B[38;5;241m.\u001B[39mto_timedelta(host\u001B[38;5;241m.\u001B[39mindex, unit\u001B[38;5;241m=\u001B[39m\u001B[38;5;124m'\u001B[39m\u001B[38;5;124mms\u001B[39m\u001B[38;5;124m'\u001B[39m)\n",
      "File \u001B[0;32m~/atlarge/opendc/venv/lib/python3.10/site-packages/pandas/core/base.py:234\u001B[0m, in \u001B[0;36mSelectionMixin.__getitem__\u001B[0;34m(self, key)\u001B[0m\n\u001B[1;32m    232\u001B[0m \u001B[38;5;28;01mdef\u001B[39;00m \u001B[38;5;21m__getitem__\u001B[39m(\u001B[38;5;28mself\u001B[39m, key):\n\u001B[1;32m    233\u001B[0m     \u001B[38;5;28;01mif\u001B[39;00m \u001B[38;5;28mself\u001B[39m\u001B[38;5;241m.\u001B[39m_selection \u001B[38;5;129;01mis\u001B[39;00m \u001B[38;5;129;01mnot\u001B[39;00m \u001B[38;5;28;01mNone\u001B[39;00m:\n\u001B[0;32m--> 234\u001B[0m         \u001B[38;5;28;01mraise\u001B[39;00m \u001B[38;5;167;01mIndexError\u001B[39;00m(\u001B[38;5;124mf\u001B[39m\u001B[38;5;124m\"\u001B[39m\u001B[38;5;124mColumn(s) \u001B[39m\u001B[38;5;132;01m{\u001B[39;00m\u001B[38;5;28mself\u001B[39m\u001B[38;5;241m.\u001B[39m_selection\u001B[38;5;132;01m}\u001B[39;00m\u001B[38;5;124m already selected\u001B[39m\u001B[38;5;124m\"\u001B[39m)\n\u001B[1;32m    236\u001B[0m     \u001B[38;5;28;01mif\u001B[39;00m \u001B[38;5;28misinstance\u001B[39m(key, (\u001B[38;5;28mlist\u001B[39m, \u001B[38;5;28mtuple\u001B[39m, ABCSeries, ABCIndex, np\u001B[38;5;241m.\u001B[39mndarray)):\n\u001B[1;32m    237\u001B[0m         \u001B[38;5;28;01mif\u001B[39;00m \u001B[38;5;28mlen\u001B[39m(\u001B[38;5;28mself\u001B[39m\u001B[38;5;241m.\u001B[39mobj\u001B[38;5;241m.\u001B[39mcolumns\u001B[38;5;241m.\u001B[39mintersection(key)) \u001B[38;5;241m!=\u001B[39m \u001B[38;5;28mlen\u001B[39m(\u001B[38;5;28mset\u001B[39m(key)):\n",
      "\u001B[0;31mIndexError\u001B[0m: Column(s) cpu_utilization already selected"
     ]
    }
   ],
   "source": [
    "\n",
    "\n",
    "host_1 = process_host_data(\"raw-output/0/seed=0/host.parquet\")\n",
    "# host_2 = process_host_data(\"raw-output/1/seed=0/host.parquet\")\n",
    "# host_3 = process_host_data(\"raw-output/2/seed=0/host.parquet\")\n",
    "# host_4 = process_host_data(\"raw-output/3/seed=0/host.parquet\")"
   ],
   "metadata": {
    "collapsed": false,
    "ExecuteTime": {
     "end_time": "2024-06-14T12:07:52.598233Z",
     "start_time": "2024-06-14T12:07:41.254015Z"
    }
   },
   "id": "d015431eb1ce9c6c",
   "execution_count": 5
  },
  {
   "cell_type": "code",
   "outputs": [],
   "source": [
    "host_1[:280].plot()"
   ],
   "metadata": {
    "collapsed": false
   },
   "id": "1967f6c78a6cacd7",
   "execution_count": null
  },
  {
   "cell_type": "code",
   "outputs": [],
   "source": [],
   "metadata": {
    "collapsed": false
   },
   "id": "67706572e911c7f8",
   "execution_count": null
  }
 ],
 "metadata": {
  "kernelspec": {
   "display_name": "Python 3",
   "language": "python",
   "name": "python3"
  },
  "language_info": {
   "codemirror_mode": {
    "name": "ipython",
    "version": 2
   },
   "file_extension": ".py",
   "mimetype": "text/x-python",
   "name": "python",
   "nbconvert_exporter": "python",
   "pygments_lexer": "ipython2",
   "version": "2.7.6"
  }
 },
 "nbformat": 4,
 "nbformat_minor": 5
}
