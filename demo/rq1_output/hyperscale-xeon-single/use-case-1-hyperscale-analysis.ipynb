{
 "cells": [
  {
   "cell_type": "code",
   "execution_count": 1,
   "id": "initial_id",
   "metadata": {
    "collapsed": true,
    "ExecuteTime": {
     "end_time": "2024-06-14T08:10:36.462279Z",
     "start_time": "2024-06-14T08:10:33.930759Z"
    }
   },
   "outputs": [],
   "source": [
    "import matplotlib.pyplot as plt\n",
    "import numpy as np\n",
    "import os\n",
    "import pandas as pd"
   ]
  },
  {
   "cell_type": "code",
   "outputs": [
    {
     "name": "stdout",
     "output_type": "stream",
     "text": [
      "/Users/raz/atlarge/opendc/demo/output/hyperscale-xeon\n"
     ]
    }
   ],
   "source": [
    "# print the current working directory\n",
    "print(os.getcwd())"
   ],
   "metadata": {
    "collapsed": false,
    "ExecuteTime": {
     "end_time": "2024-06-14T08:10:36.469755Z",
     "start_time": "2024-06-14T08:10:36.465280Z"
    }
   },
   "id": "3abd8c27a5ba5cb5",
   "execution_count": 2
  },
  {
   "cell_type": "code",
   "outputs": [],
   "source": [
    "def process_host_data(path):\n",
    "    host = pd.read_parquet(path)\n",
    "    host = host.select_dtypes(include=[np.number]).groupby(\"timestamp\").aggregate(\"sum\")\n",
    "    host = host[\"energy_usage\"].sum() #value in Ws\n",
    "    host = host / 3600 #value in Wh\n",
    "    host = host / 1e6 #value in MWh\n",
    "    \n",
    "    return host"
   ],
   "metadata": {
    "collapsed": false,
    "ExecuteTime": {
     "end_time": "2024-06-14T08:10:36.474950Z",
     "start_time": "2024-06-14T08:10:36.471160Z"
    }
   },
   "id": "2f20d9df54d7bdae",
   "execution_count": 3
  },
  {
   "cell_type": "code",
   "outputs": [],
   "source": [
    "host_1 = process_host_data(\"raw-output/0/seed=0/host.parquet\")\n",
    "host_2 = process_host_data(\"raw-output/1/seed=0/host.parquet\")\n",
    "host_3 = process_host_data(\"raw-output/2/seed=0/host.parquet\")\n",
    "host_4 = process_host_data(\"raw-output/3/seed=0/host.parquet\")"
   ],
   "metadata": {
    "collapsed": false,
    "ExecuteTime": {
     "end_time": "2024-06-14T08:11:35.441726Z",
     "start_time": "2024-06-14T08:10:36.476608Z"
    }
   },
   "id": "37089033c172f6c2",
   "execution_count": 4
  },
  {
   "cell_type": "code",
   "outputs": [
    {
     "name": "stdout",
     "output_type": "stream",
     "text": [
      "Model 1 predicts  543.188000353038 MWh\n",
      "Model 2 predicts  542.0170845243732 MWh\n",
      "Model 3 predicts  541.6985370817777 MWh\n",
      "Model 4 predicts  541.6413075082716 MWh\n"
     ]
    },
    {
     "data": {
      "text/plain": "<Figure size 640x480 with 1 Axes>",
      "image/png": "[encoded data removed]"
     },
     "metadata": {},
     "output_type": "display_data"
    }
   ],
   "source": [
    "# plot, in a bar char, the eergy usage of the host\n",
    "# horizontal barchart, with different colors, and the axis being between 535 and 545\n",
    "fig, ax = plt.subplots()\n",
    "ax.barh([\"Model 1\", \"Model 2\", \"Model 3\", \"Model 4\"], [host_1, host_2, host_3, host_4], color=[\"red\", \"green\", \"blue\", \"orange\"])\n",
    "ax.set_xlim(540, 544)\n",
    "# ax.y_label(\"Model\")\n",
    "# ax.x_label(\"Energy Usage (MWh)\")\n",
    "\n",
    "# set x_label\n",
    "plt.xlabel(\"Energy Usage [MWh]\")\n",
    "\n",
    "# ticks of y will be 540, 541, 542, 543, 544\n",
    "plt.xticks([540, 541, 542, 543, 544])\n",
    "\n",
    "# save as pdf\n",
    "plt.savefig(\"energy_usage_multi_model.pdf\")\n",
    "\n",
    "\n",
    "\n",
    "print(\"Model 1 predicts \", host_1, \"MWh\")\n",
    "print(\"Model 2 predicts \", host_2, \"MWh\")\n",
    "print(\"Model 3 predicts \", host_3, \"MWh\")\n",
    "print(\"Model 4 predicts \", host_4, \"MWh\")"
   ],
   "metadata": {
    "collapsed": false,
    "ExecuteTime": {
     "end_time": "2024-06-14T09:19:43.596779Z",
     "start_time": "2024-06-14T09:19:43.519505Z"
    }
   },
   "id": "c30351f1ebac55b7",
   "execution_count": 24
  },
  {
   "cell_type": "code",
   "outputs": [],
   "source": [],
   "metadata": {
    "collapsed": false
   },
   "id": "3597f18ee8fc3429"
  }
 ],
 "metadata": {
  "kernelspec": {
   "display_name": "Python 3",
   "language": "python",
   "name": "python3"
  },
  "language_info": {
   "codemirror_mode": {
    "name": "ipython",
    "version": 2
   },
   "file_extension": ".py",
   "mimetype": "text/x-python",
   "name": "python",
   "nbconvert_exporter": "python",
   "pygments_lexer": "ipython2",
   "version": "2.7.6"
  }
 },
 "nbformat": 4,
 "nbformat_minor": 5
}
