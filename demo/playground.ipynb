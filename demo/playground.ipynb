{
 "cells": [
  {
   "cell_type": "code",
   "execution_count": 3,
   "id": "initial_id",
   "metadata": {
    "collapsed": true,
    "ExecuteTime": {
     "end_time": "2024-04-28T16:45:10.887019Z",
     "start_time": "2024-04-28T16:45:10.884790Z"
    }
   },
   "outputs": [],
   "source": [
    "import pandas as pd\n",
    "import numpy as np\n",
    "import os"
   ]
  },
  {
   "cell_type": "code",
   "outputs": [
    {
     "name": "stdout",
     "output_type": "stream",
     "text": [
      "current path is : /Users/raz/atlarge/opendc/demo\n"
     ]
    }
   ],
   "source": [
    "\n",
    "print('current path is :', os.getcwd())\n",
    "# change directory to outoutput/toppology-experiment/raw-output\n",
    "os.chdir('outoutput/toppology-experiment/raw-output')"
   ],
   "metadata": {
    "collapsed": false,
    "ExecuteTime": {
     "end_time": "2024-04-28T16:45:11.122522Z",
     "start_time": "2024-04-28T16:45:11.120297Z"
    }
   },
   "id": "a28d603c35c40ec9",
   "execution_count": 4
  },
  {
   "cell_type": "code",
   "outputs": [],
   "source": [
    "os.chdir(\"0/seed=0/\")"
   ],
   "metadata": {
    "collapsed": false,
    "ExecuteTime": {
     "end_time": "2024-04-28T16:45:37.352449Z",
     "start_time": "2024-04-28T16:45:37.349636Z"
    }
   },
   "id": "61d79f266e22d013",
   "execution_count": 6
  },
  {
   "cell_type": "code",
   "outputs": [],
   "source": [
    "host = pd.read_parquet('host.parquet')\n",
    "server = pd.read_parquet('server.parquet')\n",
    "service = pd.read_parquet('service.parquet')"
   ],
   "metadata": {
    "collapsed": false,
    "ExecuteTime": {
     "end_time": "2024-04-28T16:46:08.374281Z",
     "start_time": "2024-04-28T16:46:08.134939Z"
    }
   },
   "id": "1d00c0b57878305f",
   "execution_count": 8
  },
  {
   "cell_type": "code",
   "outputs": [
    {
     "data": {
      "text/plain": "         timestamp  absolute_timestamp                               host_id  \\\n0           300000       1376314846000  e220a839-7b1d-cdaf-0000-000000000000   \n1           600000       1376315146000  e220a839-7b1d-cdaf-0000-000000000000   \n2           900000       1376315446000  e220a839-7b1d-cdaf-0000-000000000000   \n3          1200000       1376315746000  e220a839-7b1d-cdaf-0000-000000000000   \n4          1500000       1376316046000  e220a839-7b1d-cdaf-0000-000000000000   \n...            ...                 ...                                   ...   \n43200  12960300000       1389274846000  e220a839-7b1d-cdaf-0000-000000000000   \n43201  12960600000       1389275146000  e220a839-7b1d-cdaf-0000-000000000000   \n43202  12960900000       1389275446000  e220a839-7b1d-cdaf-0000-000000000000   \n43203  12961200000       1389275746000  e220a839-7b1d-cdaf-0000-000000000000   \n43204  12961452000       1389275998000  e220a839-7b1d-cdaf-0000-000000000000   \n\n       cpu_count  mem_capacity  guests_terminated  guests_running  \\\n0             32         82000                  0              13   \n1             32         82000                  0              13   \n2             32         82000                  0              13   \n3             32         82000                  0              13   \n4             32         82000                  0              13   \n...          ...           ...                ...             ...   \n43200         32         82000                  0               1   \n43201         32         82000                  0               1   \n43202         32         82000                  0               1   \n43203         32         82000                  0               1   \n43204         32         82000                  0               0   \n\n       guests_error  guests_invalid  cpu_limit  ...  cpu_time_idle  \\\n0                 0               0    80000.0  ...        5854411   \n1                 0               0    80000.0  ...        6212060   \n2                 0               0    80000.0  ...        6320948   \n3                 0               0    80000.0  ...        7751754   \n4                 0               0    80000.0  ...        7634338   \n...             ...             ...        ...  ...            ...   \n43200             0               0    80000.0  ...        8332490   \n43201             0               0    80000.0  ...        8279284   \n43202             0               0    80000.0  ...        8168362   \n43203             0               0    80000.0  ...        8361859   \n43204             0               0    80000.0  ...        6879409   \n\n       cpu_time_steal  cpu_time_lost  power_draw  energy_usage  \\\n0                 301              0  293.694598  88108.435672   \n1                   0              0  289.109400  86732.819897   \n2                   0              0  287.665709  86299.712727   \n3                   0              0  265.816615  79744.984437   \n4                   0              0  267.875032  80362.509712   \n...               ...            ...         ...           ...   \n43200               0              0  255.015113  76351.152991   \n43201               0              0  258.791264  76685.789176   \n43202               0              0  253.151319  77366.661756   \n43203               0              0  257.490980  76153.699483   \n43204               0              0  200.000000  64887.726975   \n\n       carbon_intensity  carbon_emission  uptime  downtime  boot_time  \n0             43.004721         1.052522  300000         0          0  \n1             42.607796         1.026526  300000         0          0  \n2             42.607796         1.021400  300000         0          0  \n3             42.607796         0.943822  300000         0          0  \n4             42.292972         0.944103  300000         0          0  \n...                 ...              ...     ...       ...        ...  \n43200         28.089877         0.595748  300000         0          0  \n43201         28.089877         0.598360  300000         0          0  \n43202         28.089877         0.603672  300000         0          0  \n43203         28.089877         0.594208  300000         0          0  \n43204         28.089877         0.506302  252000         0          0  \n\n[43205 rows x 24 columns]",
      "text/html": "<div>\n<style scoped>\n    .dataframe tbody tr th:only-of-type {\n        vertical-align: middle;\n    }\n\n    .dataframe tbody tr th {\n        vertical-align: top;\n    }\n\n    .dataframe thead th {\n        text-align: right;\n    }\n</style>\n<table border=\"1\" class=\"dataframe\">\n  <thead>\n    <tr style=\"text-align: right;\">\n      <th></th>\n      <th>timestamp</th>\n      <th>absolute_timestamp</th>\n      <th>host_id</th>\n      <th>cpu_count</th>\n      <th>mem_capacity</th>\n      <th>guests_terminated</th>\n      <th>guests_running</th>\n      <th>guests_error</th>\n      <th>guests_invalid</th>\n      <th>cpu_limit</th>\n      <th>...</th>\n      <th>cpu_time_idle</th>\n      <th>cpu_time_steal</th>\n      <th>cpu_time_lost</th>\n      <th>power_draw</th>\n      <th>energy_usage</th>\n      <th>carbon_intensity</th>\n      <th>carbon_emission</th>\n      <th>uptime</th>\n      <th>downtime</th>\n      <th>boot_time</th>\n    </tr>\n  </thead>\n  <tbody>\n    <tr>\n      <th>0</th>\n      <td>300000</td>\n      <td>1376314846000</td>\n      <td>e220a839-7b1d-cdaf-0000-000000000000</td>\n      <td>32</td>\n      <td>82000</td>\n      <td>0</td>\n      <td>13</td>\n      <td>0</td>\n      <td>0</td>\n      <td>80000.0</td>\n      <td>...</td>\n      <td>5854411</td>\n      <td>301</td>\n      <td>0</td>\n      <td>293.694598</td>\n      <td>88108.435672</td>\n      <td>43.004721</td>\n      <td>1.052522</td>\n      <td>300000</td>\n      <td>0</td>\n      <td>0</td>\n    </tr>\n    <tr>\n      <th>1</th>\n      <td>600000</td>\n      <td>1376315146000</td>\n      <td>e220a839-7b1d-cdaf-0000-000000000000</td>\n      <td>32</td>\n      <td>82000</td>\n      <td>0</td>\n      <td>13</td>\n      <td>0</td>\n      <td>0</td>\n      <td>80000.0</td>\n      <td>...</td>\n      <td>6212060</td>\n      <td>0</td>\n      <td>0</td>\n      <td>289.109400</td>\n      <td>86732.819897</td>\n      <td>42.607796</td>\n      <td>1.026526</td>\n      <td>300000</td>\n      <td>0</td>\n      <td>0</td>\n    </tr>\n    <tr>\n      <th>2</th>\n      <td>900000</td>\n      <td>1376315446000</td>\n      <td>e220a839-7b1d-cdaf-0000-000000000000</td>\n      <td>32</td>\n      <td>82000</td>\n      <td>0</td>\n      <td>13</td>\n      <td>0</td>\n      <td>0</td>\n      <td>80000.0</td>\n      <td>...</td>\n      <td>6320948</td>\n      <td>0</td>\n      <td>0</td>\n      <td>287.665709</td>\n      <td>86299.712727</td>\n      <td>42.607796</td>\n      <td>1.021400</td>\n      <td>300000</td>\n      <td>0</td>\n      <td>0</td>\n    </tr>\n    <tr>\n      <th>3</th>\n      <td>1200000</td>\n      <td>1376315746000</td>\n      <td>e220a839-7b1d-cdaf-0000-000000000000</td>\n      <td>32</td>\n      <td>82000</td>\n      <td>0</td>\n      <td>13</td>\n      <td>0</td>\n      <td>0</td>\n      <td>80000.0</td>\n      <td>...</td>\n      <td>7751754</td>\n      <td>0</td>\n      <td>0</td>\n      <td>265.816615</td>\n      <td>79744.984437</td>\n      <td>42.607796</td>\n      <td>0.943822</td>\n      <td>300000</td>\n      <td>0</td>\n      <td>0</td>\n    </tr>\n    <tr>\n      <th>4</th>\n      <td>1500000</td>\n      <td>1376316046000</td>\n      <td>e220a839-7b1d-cdaf-0000-000000000000</td>\n      <td>32</td>\n      <td>82000</td>\n      <td>0</td>\n      <td>13</td>\n      <td>0</td>\n      <td>0</td>\n      <td>80000.0</td>\n      <td>...</td>\n      <td>7634338</td>\n      <td>0</td>\n      <td>0</td>\n      <td>267.875032</td>\n      <td>80362.509712</td>\n      <td>42.292972</td>\n      <td>0.944103</td>\n      <td>300000</td>\n      <td>0</td>\n      <td>0</td>\n    </tr>\n    <tr>\n      <th>...</th>\n      <td>...</td>\n      <td>...</td>\n      <td>...</td>\n      <td>...</td>\n      <td>...</td>\n      <td>...</td>\n      <td>...</td>\n      <td>...</td>\n      <td>...</td>\n      <td>...</td>\n      <td>...</td>\n      <td>...</td>\n      <td>...</td>\n      <td>...</td>\n      <td>...</td>\n      <td>...</td>\n      <td>...</td>\n      <td>...</td>\n      <td>...</td>\n      <td>...</td>\n      <td>...</td>\n    </tr>\n    <tr>\n      <th>43200</th>\n      <td>12960300000</td>\n      <td>1389274846000</td>\n      <td>e220a839-7b1d-cdaf-0000-000000000000</td>\n      <td>32</td>\n      <td>82000</td>\n      <td>0</td>\n      <td>1</td>\n      <td>0</td>\n      <td>0</td>\n      <td>80000.0</td>\n      <td>...</td>\n      <td>8332490</td>\n      <td>0</td>\n      <td>0</td>\n      <td>255.015113</td>\n      <td>76351.152991</td>\n      <td>28.089877</td>\n      <td>0.595748</td>\n      <td>300000</td>\n      <td>0</td>\n      <td>0</td>\n    </tr>\n    <tr>\n      <th>43201</th>\n      <td>12960600000</td>\n      <td>1389275146000</td>\n      <td>e220a839-7b1d-cdaf-0000-000000000000</td>\n      <td>32</td>\n      <td>82000</td>\n      <td>0</td>\n      <td>1</td>\n      <td>0</td>\n      <td>0</td>\n      <td>80000.0</td>\n      <td>...</td>\n      <td>8279284</td>\n      <td>0</td>\n      <td>0</td>\n      <td>258.791264</td>\n      <td>76685.789176</td>\n      <td>28.089877</td>\n      <td>0.598360</td>\n      <td>300000</td>\n      <td>0</td>\n      <td>0</td>\n    </tr>\n    <tr>\n      <th>43202</th>\n      <td>12960900000</td>\n      <td>1389275446000</td>\n      <td>e220a839-7b1d-cdaf-0000-000000000000</td>\n      <td>32</td>\n      <td>82000</td>\n      <td>0</td>\n      <td>1</td>\n      <td>0</td>\n      <td>0</td>\n      <td>80000.0</td>\n      <td>...</td>\n      <td>8168362</td>\n      <td>0</td>\n      <td>0</td>\n      <td>253.151319</td>\n      <td>77366.661756</td>\n      <td>28.089877</td>\n      <td>0.603672</td>\n      <td>300000</td>\n      <td>0</td>\n      <td>0</td>\n    </tr>\n    <tr>\n      <th>43203</th>\n      <td>12961200000</td>\n      <td>1389275746000</td>\n      <td>e220a839-7b1d-cdaf-0000-000000000000</td>\n      <td>32</td>\n      <td>82000</td>\n      <td>0</td>\n      <td>1</td>\n      <td>0</td>\n      <td>0</td>\n      <td>80000.0</td>\n      <td>...</td>\n      <td>8361859</td>\n      <td>0</td>\n      <td>0</td>\n      <td>257.490980</td>\n      <td>76153.699483</td>\n      <td>28.089877</td>\n      <td>0.594208</td>\n      <td>300000</td>\n      <td>0</td>\n      <td>0</td>\n    </tr>\n    <tr>\n      <th>43204</th>\n      <td>12961452000</td>\n      <td>1389275998000</td>\n      <td>e220a839-7b1d-cdaf-0000-000000000000</td>\n      <td>32</td>\n      <td>82000</td>\n      <td>0</td>\n      <td>0</td>\n      <td>0</td>\n      <td>0</td>\n      <td>80000.0</td>\n      <td>...</td>\n      <td>6879409</td>\n      <td>0</td>\n      <td>0</td>\n      <td>200.000000</td>\n      <td>64887.726975</td>\n      <td>28.089877</td>\n      <td>0.506302</td>\n      <td>252000</td>\n      <td>0</td>\n      <td>0</td>\n    </tr>\n  </tbody>\n</table>\n<p>43205 rows × 24 columns</p>\n</div>"
     },
     "execution_count": 10,
     "metadata": {},
     "output_type": "execute_result"
    }
   ],
   "source": [
    "host"
   ],
   "metadata": {
    "collapsed": false,
    "ExecuteTime": {
     "end_time": "2024-04-28T16:46:11.892409Z",
     "start_time": "2024-04-28T16:46:11.858240Z"
    }
   },
   "id": "3e161b174ca50ec",
   "execution_count": 10
  },
  {
   "cell_type": "code",
   "outputs": [],
   "source": [],
   "metadata": {
    "collapsed": false
   },
   "id": "9446197d847da4f1"
  }
 ],
 "metadata": {
  "kernelspec": {
   "display_name": "Python 3",
   "language": "python",
   "name": "python3"
  },
  "language_info": {
   "codemirror_mode": {
    "name": "ipython",
    "version": 2
   },
   "file_extension": ".py",
   "mimetype": "text/x-python",
   "name": "python",
   "nbconvert_exporter": "python",
   "pygments_lexer": "ipython2",
   "version": "2.7.6"
  }
 },
 "nbformat": 4,
 "nbformat_minor": 5
}
