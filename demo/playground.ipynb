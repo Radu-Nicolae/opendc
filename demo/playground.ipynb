{
 "cells": [
  {
   "cell_type": "code",
   "execution_count": 1,
   "id": "initial_id",
   "metadata": {
    "collapsed": true,
    "ExecuteTime": {
     "end_time": "2024-04-29T14:50:16.375600Z",
     "start_time": "2024-04-29T14:50:15.517490Z"
    }
   },
   "outputs": [],
   "source": [
    "import pandas as pd\n",
    "import numpy as np\n",
    "import os"
   ]
  },
  {
   "cell_type": "code",
   "outputs": [],
   "source": [
    "path_prefix = 'output/topology-experiment/raw-output/1/seed=0/'"
   ],
   "metadata": {
    "collapsed": false,
    "ExecuteTime": {
     "end_time": "2024-04-29T14:50:16.380622Z",
     "start_time": "2024-04-29T14:50:16.377897Z"
    }
   },
   "id": "a28d603c35c40ec9",
   "execution_count": 2
  },
  {
   "cell_type": "code",
   "outputs": [
    {
     "ename": "FileNotFoundError",
     "evalue": "[Errno 2] No such file or directory: '1/seed=0/'",
     "output_type": "error",
     "traceback": [
      "\u001B[0;31m---------------------------------------------------------------------------\u001B[0m",
      "\u001B[0;31mFileNotFoundError\u001B[0m                         Traceback (most recent call last)",
      "Cell \u001B[0;32mIn[3], line 1\u001B[0m\n\u001B[0;32m----> 1\u001B[0m \u001B[43mos\u001B[49m\u001B[38;5;241;43m.\u001B[39;49m\u001B[43mchdir\u001B[49m\u001B[43m(\u001B[49m\u001B[38;5;124;43m\"\u001B[39;49m\u001B[38;5;124;43m1/seed=0/\u001B[39;49m\u001B[38;5;124;43m\"\u001B[39;49m\u001B[43m)\u001B[49m\n",
      "\u001B[0;31mFileNotFoundError\u001B[0m: [Errno 2] No such file or directory: '1/seed=0/'"
     ]
    }
   ],
   "source": [
    "os.chdir(\"1/seed=0/\")"
   ],
   "metadata": {
    "collapsed": false,
    "ExecuteTime": {
     "end_time": "2024-04-29T14:50:16.499774Z",
     "start_time": "2024-04-29T14:50:16.381775Z"
    }
   },
   "id": "61d79f266e22d013",
   "execution_count": 3
  },
  {
   "cell_type": "code",
   "outputs": [],
   "source": [
    "host = pd.read_parquet(path_prefix + 'host.parquet')\n",
    "server = pd.read_parquet(path_prefix + 'server.parquet')\n",
    "service = pd.read_parquet(path_prefix + 'service.parquet')"
   ],
   "metadata": {
    "collapsed": false,
    "ExecuteTime": {
     "end_time": "2024-04-29T14:50:16.895633Z",
     "start_time": "2024-04-29T14:50:16.699592Z"
    }
   },
   "id": "1d00c0b57878305f",
   "execution_count": 4
  },
  {
   "cell_type": "code",
   "outputs": [
    {
     "data": {
      "text/plain": "            absolute_timestamp  \\\ntimestamp                        \n300000           4128944538000   \n600000           4128945438000   \n900000           4128946338000   \n1200000          4128947238000   \n1500000          4128948138000   \n...                        ...   \n5183400000       4144493838000   \n5183700000       4144494738000   \n5184000000       4144495638000   \n5184300000       4144496538000   \n5184552000       4144497294000   \n\n                                                      host_id  cpu_count  \\\ntimestamp                                                                  \n300000      06c45d18-8009-454f-0000-000000000003e220a839-7...         96   \n600000      06c45d18-8009-454f-0000-000000000003e220a839-7...         96   \n900000      06c45d18-8009-454f-0000-000000000003e220a839-7...         96   \n1200000     06c45d18-8009-454f-0000-000000000003e220a839-7...         96   \n1500000     06c45d18-8009-454f-0000-000000000003e220a839-7...         96   \n...                                                       ...        ...   \n5183400000  06c45d18-8009-454f-0000-000000000003e220a839-7...         96   \n5183700000  06c45d18-8009-454f-0000-000000000003e220a839-7...         96   \n5184000000  06c45d18-8009-454f-0000-000000000003e220a839-7...         96   \n5184300000  06c45d18-8009-454f-0000-000000000003e220a839-7...         96   \n5184552000  06c45d18-8009-454f-0000-000000000003e220a839-7...         96   \n\n            mem_capacity  guests_terminated  guests_running  guests_error  \\\ntimestamp                                                                   \n300000            246000                  0              32             0   \n600000            246000                  0              32             0   \n900000            246000                  0              32             0   \n1200000           246000                  0              32             0   \n1500000           246000                  0              32             0   \n...                  ...                ...             ...           ...   \n5183400000        246000                  0              11             0   \n5183700000        246000                  0              11             0   \n5184000000        246000                  0              11             0   \n5184300000        246000                  0              11             0   \n5184552000        246000                  0               0             0   \n\n            guests_invalid  cpu_limit     cpu_usage  ...  cpu_time_idle  \\\ntimestamp                                            ...                  \n300000                   0   240000.0  54821.091797  ...       22221395   \n600000                   0   240000.0  52049.714844  ...       22554033   \n900000                   0   240000.0  51178.490234  ...       22658580   \n1200000                  0   240000.0  39062.495117  ...       24112501   \n1500000                  0   240000.0  32991.280273  ...       24841046   \n...                    ...        ...           ...  ...            ...   \n5183400000               0   240000.0  11519.280373  ...       27434956   \n5183700000               0   240000.0  13084.661194  ...       27387630   \n5184000000               0   240000.0  10863.146988  ...       27272493   \n5184300000               0   240000.0  12551.648010  ...       27464003   \n5184552000               0   240000.0      0.208732  ...       22926793   \n\n            cpu_time_steal  cpu_time_lost  power_draw   energy_usage  \\\ntimestamp                                                              \n300000                 723              0  702.789547  210837.211346   \n600000                   0              0  697.593215  209277.964600   \n900000                   0              0  695.959669  208787.900757   \n1200000                  0              0  673.242178  201972.653503   \n1500000                  0              0  661.858651  198557.595154   \n...                    ...            ...         ...            ...   \n5183400000               0              0  621.598664  186398.640393   \n5183700000               0              0  624.533753  186620.483536   \n5184000000               0              0  620.368414  187160.189696   \n5184300000               0              0  623.534354  186262.489325   \n5184552000               0              0  600.000660  157130.657089   \n\n            carbon_intensity  carbon_emission  uptime  downtime  boot_time  \ntimestamp                                                                   \n300000            129.014162         2.518610  900000         0          0  \n600000            127.823389         2.476909  900000         0          0  \n900000            127.823389         2.471109  900000         0          0  \n1200000           127.823389         2.390447  900000         0          0  \n1500000           126.878917         2.332664  900000         0          0  \n...                      ...              ...     ...       ...        ...  \n5183400000        178.242440         3.076310  900000         0          0  \n5183700000        184.526855         3.188564  900000         0          0  \n5184000000        184.526855         3.197785  900000         0          0  \n5184300000        184.526855         3.182447  900000         0          0  \n5184552000        184.526855         2.684706  756000         0          0  \n\n[17282 rows x 23 columns]",
      "text/html": "<div>\n<style scoped>\n    .dataframe tbody tr th:only-of-type {\n        vertical-align: middle;\n    }\n\n    .dataframe tbody tr th {\n        vertical-align: top;\n    }\n\n    .dataframe thead th {\n        text-align: right;\n    }\n</style>\n<table border=\"1\" class=\"dataframe\">\n  <thead>\n    <tr style=\"text-align: right;\">\n      <th></th>\n      <th>absolute_timestamp</th>\n      <th>host_id</th>\n      <th>cpu_count</th>\n      <th>mem_capacity</th>\n      <th>guests_terminated</th>\n      <th>guests_running</th>\n      <th>guests_error</th>\n      <th>guests_invalid</th>\n      <th>cpu_limit</th>\n      <th>cpu_usage</th>\n      <th>...</th>\n      <th>cpu_time_idle</th>\n      <th>cpu_time_steal</th>\n      <th>cpu_time_lost</th>\n      <th>power_draw</th>\n      <th>energy_usage</th>\n      <th>carbon_intensity</th>\n      <th>carbon_emission</th>\n      <th>uptime</th>\n      <th>downtime</th>\n      <th>boot_time</th>\n    </tr>\n    <tr>\n      <th>timestamp</th>\n      <th></th>\n      <th></th>\n      <th></th>\n      <th></th>\n      <th></th>\n      <th></th>\n      <th></th>\n      <th></th>\n      <th></th>\n      <th></th>\n      <th></th>\n      <th></th>\n      <th></th>\n      <th></th>\n      <th></th>\n      <th></th>\n      <th></th>\n      <th></th>\n      <th></th>\n      <th></th>\n      <th></th>\n    </tr>\n  </thead>\n  <tbody>\n    <tr>\n      <th>300000</th>\n      <td>4128944538000</td>\n      <td>06c45d18-8009-454f-0000-000000000003e220a839-7...</td>\n      <td>96</td>\n      <td>246000</td>\n      <td>0</td>\n      <td>32</td>\n      <td>0</td>\n      <td>0</td>\n      <td>240000.0</td>\n      <td>54821.091797</td>\n      <td>...</td>\n      <td>22221395</td>\n      <td>723</td>\n      <td>0</td>\n      <td>702.789547</td>\n      <td>210837.211346</td>\n      <td>129.014162</td>\n      <td>2.518610</td>\n      <td>900000</td>\n      <td>0</td>\n      <td>0</td>\n    </tr>\n    <tr>\n      <th>600000</th>\n      <td>4128945438000</td>\n      <td>06c45d18-8009-454f-0000-000000000003e220a839-7...</td>\n      <td>96</td>\n      <td>246000</td>\n      <td>0</td>\n      <td>32</td>\n      <td>0</td>\n      <td>0</td>\n      <td>240000.0</td>\n      <td>52049.714844</td>\n      <td>...</td>\n      <td>22554033</td>\n      <td>0</td>\n      <td>0</td>\n      <td>697.593215</td>\n      <td>209277.964600</td>\n      <td>127.823389</td>\n      <td>2.476909</td>\n      <td>900000</td>\n      <td>0</td>\n      <td>0</td>\n    </tr>\n    <tr>\n      <th>900000</th>\n      <td>4128946338000</td>\n      <td>06c45d18-8009-454f-0000-000000000003e220a839-7...</td>\n      <td>96</td>\n      <td>246000</td>\n      <td>0</td>\n      <td>32</td>\n      <td>0</td>\n      <td>0</td>\n      <td>240000.0</td>\n      <td>51178.490234</td>\n      <td>...</td>\n      <td>22658580</td>\n      <td>0</td>\n      <td>0</td>\n      <td>695.959669</td>\n      <td>208787.900757</td>\n      <td>127.823389</td>\n      <td>2.471109</td>\n      <td>900000</td>\n      <td>0</td>\n      <td>0</td>\n    </tr>\n    <tr>\n      <th>1200000</th>\n      <td>4128947238000</td>\n      <td>06c45d18-8009-454f-0000-000000000003e220a839-7...</td>\n      <td>96</td>\n      <td>246000</td>\n      <td>0</td>\n      <td>32</td>\n      <td>0</td>\n      <td>0</td>\n      <td>240000.0</td>\n      <td>39062.495117</td>\n      <td>...</td>\n      <td>24112501</td>\n      <td>0</td>\n      <td>0</td>\n      <td>673.242178</td>\n      <td>201972.653503</td>\n      <td>127.823389</td>\n      <td>2.390447</td>\n      <td>900000</td>\n      <td>0</td>\n      <td>0</td>\n    </tr>\n    <tr>\n      <th>1500000</th>\n      <td>4128948138000</td>\n      <td>06c45d18-8009-454f-0000-000000000003e220a839-7...</td>\n      <td>96</td>\n      <td>246000</td>\n      <td>0</td>\n      <td>32</td>\n      <td>0</td>\n      <td>0</td>\n      <td>240000.0</td>\n      <td>32991.280273</td>\n      <td>...</td>\n      <td>24841046</td>\n      <td>0</td>\n      <td>0</td>\n      <td>661.858651</td>\n      <td>198557.595154</td>\n      <td>126.878917</td>\n      <td>2.332664</td>\n      <td>900000</td>\n      <td>0</td>\n      <td>0</td>\n    </tr>\n    <tr>\n      <th>...</th>\n      <td>...</td>\n      <td>...</td>\n      <td>...</td>\n      <td>...</td>\n      <td>...</td>\n      <td>...</td>\n      <td>...</td>\n      <td>...</td>\n      <td>...</td>\n      <td>...</td>\n      <td>...</td>\n      <td>...</td>\n      <td>...</td>\n      <td>...</td>\n      <td>...</td>\n      <td>...</td>\n      <td>...</td>\n      <td>...</td>\n      <td>...</td>\n      <td>...</td>\n      <td>...</td>\n    </tr>\n    <tr>\n      <th>5183400000</th>\n      <td>4144493838000</td>\n      <td>06c45d18-8009-454f-0000-000000000003e220a839-7...</td>\n      <td>96</td>\n      <td>246000</td>\n      <td>0</td>\n      <td>11</td>\n      <td>0</td>\n      <td>0</td>\n      <td>240000.0</td>\n      <td>11519.280373</td>\n      <td>...</td>\n      <td>27434956</td>\n      <td>0</td>\n      <td>0</td>\n      <td>621.598664</td>\n      <td>186398.640393</td>\n      <td>178.242440</td>\n      <td>3.076310</td>\n      <td>900000</td>\n      <td>0</td>\n      <td>0</td>\n    </tr>\n    <tr>\n      <th>5183700000</th>\n      <td>4144494738000</td>\n      <td>06c45d18-8009-454f-0000-000000000003e220a839-7...</td>\n      <td>96</td>\n      <td>246000</td>\n      <td>0</td>\n      <td>11</td>\n      <td>0</td>\n      <td>0</td>\n      <td>240000.0</td>\n      <td>13084.661194</td>\n      <td>...</td>\n      <td>27387630</td>\n      <td>0</td>\n      <td>0</td>\n      <td>624.533753</td>\n      <td>186620.483536</td>\n      <td>184.526855</td>\n      <td>3.188564</td>\n      <td>900000</td>\n      <td>0</td>\n      <td>0</td>\n    </tr>\n    <tr>\n      <th>5184000000</th>\n      <td>4144495638000</td>\n      <td>06c45d18-8009-454f-0000-000000000003e220a839-7...</td>\n      <td>96</td>\n      <td>246000</td>\n      <td>0</td>\n      <td>11</td>\n      <td>0</td>\n      <td>0</td>\n      <td>240000.0</td>\n      <td>10863.146988</td>\n      <td>...</td>\n      <td>27272493</td>\n      <td>0</td>\n      <td>0</td>\n      <td>620.368414</td>\n      <td>187160.189696</td>\n      <td>184.526855</td>\n      <td>3.197785</td>\n      <td>900000</td>\n      <td>0</td>\n      <td>0</td>\n    </tr>\n    <tr>\n      <th>5184300000</th>\n      <td>4144496538000</td>\n      <td>06c45d18-8009-454f-0000-000000000003e220a839-7...</td>\n      <td>96</td>\n      <td>246000</td>\n      <td>0</td>\n      <td>11</td>\n      <td>0</td>\n      <td>0</td>\n      <td>240000.0</td>\n      <td>12551.648010</td>\n      <td>...</td>\n      <td>27464003</td>\n      <td>0</td>\n      <td>0</td>\n      <td>623.534354</td>\n      <td>186262.489325</td>\n      <td>184.526855</td>\n      <td>3.182447</td>\n      <td>900000</td>\n      <td>0</td>\n      <td>0</td>\n    </tr>\n    <tr>\n      <th>5184552000</th>\n      <td>4144497294000</td>\n      <td>06c45d18-8009-454f-0000-000000000003e220a839-7...</td>\n      <td>96</td>\n      <td>246000</td>\n      <td>0</td>\n      <td>0</td>\n      <td>0</td>\n      <td>0</td>\n      <td>240000.0</td>\n      <td>0.208732</td>\n      <td>...</td>\n      <td>22926793</td>\n      <td>0</td>\n      <td>0</td>\n      <td>600.000660</td>\n      <td>157130.657089</td>\n      <td>184.526855</td>\n      <td>2.684706</td>\n      <td>756000</td>\n      <td>0</td>\n      <td>0</td>\n    </tr>\n  </tbody>\n</table>\n<p>17282 rows × 23 columns</p>\n</div>"
     },
     "execution_count": 5,
     "metadata": {},
     "output_type": "execute_result"
    }
   ],
   "source": [
    "host.groupby(\"timestamp\").aggregate(\"sum\")"
   ],
   "metadata": {
    "collapsed": false,
    "ExecuteTime": {
     "end_time": "2024-04-29T14:50:17.543487Z",
     "start_time": "2024-04-29T14:50:17.503869Z"
    }
   },
   "id": "3e161b174ca50ec",
   "execution_count": 5
  },
  {
   "cell_type": "code",
   "outputs": [
    {
     "data": {
      "text/plain": "        timestamp  absolute_timestamp                               host_id  \\\n0          300000       1376314846000  06c45d18-8009-454f-0000-000000000003   \n1          300000       1376314846000  e220a839-7b1d-cdaf-0000-000000000001   \n2          300000       1376314846000  6e789e6a-a1b9-65f4-0000-000000000002   \n3          600000       1376315146000  06c45d18-8009-454f-0000-000000000003   \n4          600000       1376315146000  e220a839-7b1d-cdaf-0000-000000000001   \n...           ...                 ...                                   ...   \n51841  5184300000       1381498846000  e220a839-7b1d-cdaf-0000-000000000001   \n51842  5184300000       1381498846000  6e789e6a-a1b9-65f4-0000-000000000002   \n51843  5184552000       1381499098000  06c45d18-8009-454f-0000-000000000003   \n51844  5184552000       1381499098000  e220a839-7b1d-cdaf-0000-000000000001   \n51845  5184552000       1381499098000  6e789e6a-a1b9-65f4-0000-000000000002   \n\n       cpu_count  mem_capacity  guests_terminated  guests_running  \\\n0             32         82000                  0               7   \n1             32         82000                  0              14   \n2             32         82000                  0              11   \n3             32         82000                  0               7   \n4             32         82000                  0              14   \n...          ...           ...                ...             ...   \n51841         32         82000                  0               2   \n51842         32         82000                  0               3   \n51843         32         82000                  0               0   \n51844         32         82000                  0               0   \n51845         32         82000                  0               0   \n\n       guests_error  guests_invalid  cpu_limit  ...  cpu_time_idle  \\\n0                 0               0    80000.0  ...        8276361   \n1                 0               0    80000.0  ...        7496911   \n2                 0               0    80000.0  ...        6448123   \n3                 0               0    80000.0  ...        8274724   \n4                 0               0    80000.0  ...        7741673   \n...             ...             ...        ...  ...            ...   \n51841             0               0    80000.0  ...        9584254   \n51842             0               0    80000.0  ...        8321128   \n51843             0               0    80000.0  ...        8029736   \n51844             0               0    80000.0  ...        8050687   \n51845             0               0    80000.0  ...        6846370   \n\n       cpu_time_steal  cpu_time_lost  power_draw  energy_usage  \\\n0                 147              0  220.681426  66204.557053   \n1                 326              0  232.860375  69858.229566   \n2                 250              0  249.247747  74774.424727   \n3                   0              0  220.707425  66212.227478   \n4                   0              0  229.036358  68710.907410   \n...               ...            ...         ...           ...   \n51841               0              0  200.247606  60073.799924   \n51842               0              0  222.649395  65994.718654   \n51843               0              0  200.000000  50560.612773   \n51844               0              0  200.000513  50462.396776   \n51845               0              0  200.000148  56107.647540   \n\n       carbon_intensity  carbon_emission  uptime  downtime  boot_time  \n0             43.004721         0.790863  300000         0          0  \n1             43.004721         0.834509  300000         0          0  \n2             43.004721         0.893237  300000         0          0  \n3             42.607796         0.783655  300000         0          0  \n4             42.607796         0.813228  300000         0          0  \n...                 ...              ...     ...       ...        ...  \n51841         61.508952         1.026410  300000         0          0  \n51842         61.508952         1.127574  300000         0          0  \n51843         61.508952         0.863870  252000         0          0  \n51844         61.508952         0.862191  252000         0          0  \n51845         61.508952         0.958645  252000         0          0  \n\n[51846 rows x 24 columns]",
      "text/html": "<div>\n<style scoped>\n    .dataframe tbody tr th:only-of-type {\n        vertical-align: middle;\n    }\n\n    .dataframe tbody tr th {\n        vertical-align: top;\n    }\n\n    .dataframe thead th {\n        text-align: right;\n    }\n</style>\n<table border=\"1\" class=\"dataframe\">\n  <thead>\n    <tr style=\"text-align: right;\">\n      <th></th>\n      <th>timestamp</th>\n      <th>absolute_timestamp</th>\n      <th>host_id</th>\n      <th>cpu_count</th>\n      <th>mem_capacity</th>\n      <th>guests_terminated</th>\n      <th>guests_running</th>\n      <th>guests_error</th>\n      <th>guests_invalid</th>\n      <th>cpu_limit</th>\n      <th>...</th>\n      <th>cpu_time_idle</th>\n      <th>cpu_time_steal</th>\n      <th>cpu_time_lost</th>\n      <th>power_draw</th>\n      <th>energy_usage</th>\n      <th>carbon_intensity</th>\n      <th>carbon_emission</th>\n      <th>uptime</th>\n      <th>downtime</th>\n      <th>boot_time</th>\n    </tr>\n  </thead>\n  <tbody>\n    <tr>\n      <th>0</th>\n      <td>300000</td>\n      <td>1376314846000</td>\n      <td>06c45d18-8009-454f-0000-000000000003</td>\n      <td>32</td>\n      <td>82000</td>\n      <td>0</td>\n      <td>7</td>\n      <td>0</td>\n      <td>0</td>\n      <td>80000.0</td>\n      <td>...</td>\n      <td>8276361</td>\n      <td>147</td>\n      <td>0</td>\n      <td>220.681426</td>\n      <td>66204.557053</td>\n      <td>43.004721</td>\n      <td>0.790863</td>\n      <td>300000</td>\n      <td>0</td>\n      <td>0</td>\n    </tr>\n    <tr>\n      <th>1</th>\n      <td>300000</td>\n      <td>1376314846000</td>\n      <td>e220a839-7b1d-cdaf-0000-000000000001</td>\n      <td>32</td>\n      <td>82000</td>\n      <td>0</td>\n      <td>14</td>\n      <td>0</td>\n      <td>0</td>\n      <td>80000.0</td>\n      <td>...</td>\n      <td>7496911</td>\n      <td>326</td>\n      <td>0</td>\n      <td>232.860375</td>\n      <td>69858.229566</td>\n      <td>43.004721</td>\n      <td>0.834509</td>\n      <td>300000</td>\n      <td>0</td>\n      <td>0</td>\n    </tr>\n    <tr>\n      <th>2</th>\n      <td>300000</td>\n      <td>1376314846000</td>\n      <td>6e789e6a-a1b9-65f4-0000-000000000002</td>\n      <td>32</td>\n      <td>82000</td>\n      <td>0</td>\n      <td>11</td>\n      <td>0</td>\n      <td>0</td>\n      <td>80000.0</td>\n      <td>...</td>\n      <td>6448123</td>\n      <td>250</td>\n      <td>0</td>\n      <td>249.247747</td>\n      <td>74774.424727</td>\n      <td>43.004721</td>\n      <td>0.893237</td>\n      <td>300000</td>\n      <td>0</td>\n      <td>0</td>\n    </tr>\n    <tr>\n      <th>3</th>\n      <td>600000</td>\n      <td>1376315146000</td>\n      <td>06c45d18-8009-454f-0000-000000000003</td>\n      <td>32</td>\n      <td>82000</td>\n      <td>0</td>\n      <td>7</td>\n      <td>0</td>\n      <td>0</td>\n      <td>80000.0</td>\n      <td>...</td>\n      <td>8274724</td>\n      <td>0</td>\n      <td>0</td>\n      <td>220.707425</td>\n      <td>66212.227478</td>\n      <td>42.607796</td>\n      <td>0.783655</td>\n      <td>300000</td>\n      <td>0</td>\n      <td>0</td>\n    </tr>\n    <tr>\n      <th>4</th>\n      <td>600000</td>\n      <td>1376315146000</td>\n      <td>e220a839-7b1d-cdaf-0000-000000000001</td>\n      <td>32</td>\n      <td>82000</td>\n      <td>0</td>\n      <td>14</td>\n      <td>0</td>\n      <td>0</td>\n      <td>80000.0</td>\n      <td>...</td>\n      <td>7741673</td>\n      <td>0</td>\n      <td>0</td>\n      <td>229.036358</td>\n      <td>68710.907410</td>\n      <td>42.607796</td>\n      <td>0.813228</td>\n      <td>300000</td>\n      <td>0</td>\n      <td>0</td>\n    </tr>\n    <tr>\n      <th>...</th>\n      <td>...</td>\n      <td>...</td>\n      <td>...</td>\n      <td>...</td>\n      <td>...</td>\n      <td>...</td>\n      <td>...</td>\n      <td>...</td>\n      <td>...</td>\n      <td>...</td>\n      <td>...</td>\n      <td>...</td>\n      <td>...</td>\n      <td>...</td>\n      <td>...</td>\n      <td>...</td>\n      <td>...</td>\n      <td>...</td>\n      <td>...</td>\n      <td>...</td>\n      <td>...</td>\n    </tr>\n    <tr>\n      <th>51841</th>\n      <td>5184300000</td>\n      <td>1381498846000</td>\n      <td>e220a839-7b1d-cdaf-0000-000000000001</td>\n      <td>32</td>\n      <td>82000</td>\n      <td>0</td>\n      <td>2</td>\n      <td>0</td>\n      <td>0</td>\n      <td>80000.0</td>\n      <td>...</td>\n      <td>9584254</td>\n      <td>0</td>\n      <td>0</td>\n      <td>200.247606</td>\n      <td>60073.799924</td>\n      <td>61.508952</td>\n      <td>1.026410</td>\n      <td>300000</td>\n      <td>0</td>\n      <td>0</td>\n    </tr>\n    <tr>\n      <th>51842</th>\n      <td>5184300000</td>\n      <td>1381498846000</td>\n      <td>6e789e6a-a1b9-65f4-0000-000000000002</td>\n      <td>32</td>\n      <td>82000</td>\n      <td>0</td>\n      <td>3</td>\n      <td>0</td>\n      <td>0</td>\n      <td>80000.0</td>\n      <td>...</td>\n      <td>8321128</td>\n      <td>0</td>\n      <td>0</td>\n      <td>222.649395</td>\n      <td>65994.718654</td>\n      <td>61.508952</td>\n      <td>1.127574</td>\n      <td>300000</td>\n      <td>0</td>\n      <td>0</td>\n    </tr>\n    <tr>\n      <th>51843</th>\n      <td>5184552000</td>\n      <td>1381499098000</td>\n      <td>06c45d18-8009-454f-0000-000000000003</td>\n      <td>32</td>\n      <td>82000</td>\n      <td>0</td>\n      <td>0</td>\n      <td>0</td>\n      <td>0</td>\n      <td>80000.0</td>\n      <td>...</td>\n      <td>8029736</td>\n      <td>0</td>\n      <td>0</td>\n      <td>200.000000</td>\n      <td>50560.612773</td>\n      <td>61.508952</td>\n      <td>0.863870</td>\n      <td>252000</td>\n      <td>0</td>\n      <td>0</td>\n    </tr>\n    <tr>\n      <th>51844</th>\n      <td>5184552000</td>\n      <td>1381499098000</td>\n      <td>e220a839-7b1d-cdaf-0000-000000000001</td>\n      <td>32</td>\n      <td>82000</td>\n      <td>0</td>\n      <td>0</td>\n      <td>0</td>\n      <td>0</td>\n      <td>80000.0</td>\n      <td>...</td>\n      <td>8050687</td>\n      <td>0</td>\n      <td>0</td>\n      <td>200.000513</td>\n      <td>50462.396776</td>\n      <td>61.508952</td>\n      <td>0.862191</td>\n      <td>252000</td>\n      <td>0</td>\n      <td>0</td>\n    </tr>\n    <tr>\n      <th>51845</th>\n      <td>5184552000</td>\n      <td>1381499098000</td>\n      <td>6e789e6a-a1b9-65f4-0000-000000000002</td>\n      <td>32</td>\n      <td>82000</td>\n      <td>0</td>\n      <td>0</td>\n      <td>0</td>\n      <td>0</td>\n      <td>80000.0</td>\n      <td>...</td>\n      <td>6846370</td>\n      <td>0</td>\n      <td>0</td>\n      <td>200.000148</td>\n      <td>56107.647540</td>\n      <td>61.508952</td>\n      <td>0.958645</td>\n      <td>252000</td>\n      <td>0</td>\n      <td>0</td>\n    </tr>\n  </tbody>\n</table>\n<p>51846 rows × 24 columns</p>\n</div>"
     },
     "execution_count": 6,
     "metadata": {},
     "output_type": "execute_result"
    }
   ],
   "source": [
    "host"
   ],
   "metadata": {
    "collapsed": false,
    "ExecuteTime": {
     "end_time": "2024-04-29T15:49:06.999138Z",
     "start_time": "2024-04-29T15:49:06.963089Z"
    }
   },
   "id": "e40d6391b105a507",
   "execution_count": 6
  },
  {
   "cell_type": "code",
   "outputs": [
    {
     "data": {
      "text/plain": "timestamp\n300000        702.789547\n600000        697.593215\n900000        695.959669\n1200000       673.242178\n1500000       661.858651\n                 ...    \n5183400000    621.598664\n5183700000    624.533753\n5184000000    620.368414\n5184300000    623.534354\n5184552000    600.000660\nName: power_draw, Length: 17282, dtype: float64"
     },
     "execution_count": 21,
     "metadata": {},
     "output_type": "execute_result"
    }
   ],
   "source": [
    "host.groupby(\"timestamp\")[\"power_draw\"].aggregate(\"sum\")\n"
   ],
   "metadata": {
    "collapsed": false,
    "ExecuteTime": {
     "end_time": "2024-04-29T12:36:10.633498Z",
     "start_time": "2024-04-29T12:36:10.617251Z"
    }
   },
   "id": "9446197d847da4f1",
   "execution_count": 21
  },
  {
   "cell_type": "code",
   "outputs": [
    {
     "data": {
      "text/plain": "timestamp\n300000        2.284212e-01\n600000        2.168738e-01\n900000        2.132437e-01\n1200000       1.627604e-01\n1500000       1.374637e-01\n                  ...     \n5183400000    4.799700e-02\n5183700000    5.451942e-02\n5184000000    4.526311e-02\n5184300000    5.229853e-02\n5184552000    8.697152e-07\nName: cpu_utilization, Length: 17282, dtype: float64"
     },
     "execution_count": 23,
     "metadata": {},
     "output_type": "execute_result"
    }
   ],
   "source": [
    "host.groupby(\"timestamp\")[\"cpu_utilization\"].aggregate(\"mean\")"
   ],
   "metadata": {
    "collapsed": false,
    "ExecuteTime": {
     "end_time": "2024-04-29T12:38:55.611326Z",
     "start_time": "2024-04-29T12:38:55.595445Z"
    }
   },
   "id": "c98bc9de94a54ab7",
   "execution_count": 23
  },
  {
   "cell_type": "code",
   "outputs": [],
   "source": [],
   "metadata": {
    "collapsed": false
   },
   "id": "f1d2b25968a8a277"
  }
 ],
 "metadata": {
  "kernelspec": {
   "display_name": "Python 3",
   "language": "python",
   "name": "python3"
  },
  "language_info": {
   "codemirror_mode": {
    "name": "ipython",
    "version": 2
   },
   "file_extension": ".py",
   "mimetype": "text/x-python",
   "name": "python",
   "nbconvert_exporter": "python",
   "pygments_lexer": "ipython2",
   "version": "2.7.6"
  }
 },
 "nbformat": 4,
 "nbformat_minor": 5
}
