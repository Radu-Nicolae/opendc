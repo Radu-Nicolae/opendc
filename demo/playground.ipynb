{
 "cells": [
  {
   "cell_type": "code",
   "outputs": [],
   "source": [
    "import numpy as np\n",
    "import pandas as pd\n",
    "import matplotlib.pyplot as plt\n",
    "import os"
   ],
   "metadata": {
    "collapsed": false,
    "ExecuteTime": {
     "end_time": "2024-06-09T12:47:17.532410Z",
     "start_time": "2024-06-09T12:47:17.530376Z"
    }
   },
   "id": "b3cf5d0ea4008984",
   "execution_count": 8
  },
  {
   "cell_type": "code",
   "outputs": [
    {
     "data": {
      "text/plain": "         timestamp  absolute_timestamp                               host_id  \\\n0           300000       1376314846000  2587af97-b486-5538-0000-00000000000c   \n1           300000       1376314846000  20ff6758-5e33-a8f6-0000-00000000000b   \n2           300000       1376314846000  8ce970b7-1df4-2503-0000-000000000003   \n3           300000       1376314846000  4663620f-501c-9270-0000-00000000000a   \n4           300000       1376314846000  3d93cb79-9b39-70be-0000-000000000001   \n...            ...                 ...                                   ...   \n129625  2592474000       1378907020000  629bc222-9cef-e94d-0000-000000000006   \n129626  2592474000       1378907020000  e1121b08-05e8-b107-0000-000000000008   \n129627  2592474000       1378907020000  bb20b45f-d4d9-5138-0000-000000000000   \n129628  2592474000       1378907020000  a32dc9f6-4f1d-f03a-0000-000000000002   \n129629  2592474000       1378907020000  98f8ba3d-c812-a76d-0000-000000000004   \n\n        cpu_count  mem_capacity  guests_terminated  guests_running  \\\n0               1         82000                  0               1   \n1               1         82000                  0               1   \n2               1         82000                  0               3   \n3               1         82000                  0               1   \n4               1         82000                  0               5   \n...           ...           ...                ...             ...   \n129625          1         82000                  0               0   \n129626          1         82000                  0               0   \n129627          1         82000                  0               0   \n129628          1         82000                  0               0   \n129629          1         82000                  0               0   \n\n        guests_error  guests_invalid  cpu_limit  ...  cpu_time_idle  \\\n0                  0               0     2500.0  ...         291471   \n1                  0               0     2500.0  ...              0   \n2                  0               0     2500.0  ...              0   \n3                  0               0     2500.0  ...              0   \n4                  0               0     2500.0  ...         254653   \n...              ...             ...        ...  ...            ...   \n129625             0               0     2500.0  ...         174000   \n129626             0               0     2500.0  ...         174000   \n129627             0               0     2500.0  ...         174000   \n129628             0               0     2500.0  ...         159439   \n129629             0               0     2500.0  ...         174000   \n\n        cpu_time_steal  cpu_time_lost  power_draw   energy_usage  \\\n0                    0              0  200.003446   60001.110486   \n1              1642298              0  350.000000  104999.926800   \n2              1005042              0  350.000000  105000.000000   \n3              1463211              0  350.000000  104999.926800   \n4                    3              0  200.518036   60155.560420   \n...                ...            ...         ...            ...   \n129625               0              0  200.000000   34800.000000   \n129626               0              0  200.000000   34800.000000   \n129627               0              0  200.000000   34800.000000   \n129628               0              0  200.000000   34818.551208   \n129629               0              0  200.000000   34800.000000   \n\n        carbon_intensity  carbon_emission  uptime  downtime  boot_time  \n0              43.004721         0.716759  300000         0          0  \n1              43.004721         1.254303  300000         0          0  \n2              43.004721         1.254304  300000         0          0  \n3              43.004721         1.254303  300000         0          0  \n4              43.004721         0.718604  300000         0          0  \n...                  ...              ...     ...       ...        ...  \n129625         92.869964         0.897743  174000         0          0  \n129626         92.869964         0.897743  174000         0          0  \n129627         92.869964         0.897743  174000         0          0  \n129628         92.869964         0.898222  174000         0          0  \n129629         92.869964         0.897743  174000         0          0  \n\n[129630 rows x 24 columns]",
      "text/html": "<div>\n<style scoped>\n    .dataframe tbody tr th:only-of-type {\n        vertical-align: middle;\n    }\n\n    .dataframe tbody tr th {\n        vertical-align: top;\n    }\n\n    .dataframe thead th {\n        text-align: right;\n    }\n</style>\n<table border=\"1\" class=\"dataframe\">\n  <thead>\n    <tr style=\"text-align: right;\">\n      <th></th>\n      <th>timestamp</th>\n      <th>absolute_timestamp</th>\n      <th>host_id</th>\n      <th>cpu_count</th>\n      <th>mem_capacity</th>\n      <th>guests_terminated</th>\n      <th>guests_running</th>\n      <th>guests_error</th>\n      <th>guests_invalid</th>\n      <th>cpu_limit</th>\n      <th>...</th>\n      <th>cpu_time_idle</th>\n      <th>cpu_time_steal</th>\n      <th>cpu_time_lost</th>\n      <th>power_draw</th>\n      <th>energy_usage</th>\n      <th>carbon_intensity</th>\n      <th>carbon_emission</th>\n      <th>uptime</th>\n      <th>downtime</th>\n      <th>boot_time</th>\n    </tr>\n  </thead>\n  <tbody>\n    <tr>\n      <th>0</th>\n      <td>300000</td>\n      <td>1376314846000</td>\n      <td>2587af97-b486-5538-0000-00000000000c</td>\n      <td>1</td>\n      <td>82000</td>\n      <td>0</td>\n      <td>1</td>\n      <td>0</td>\n      <td>0</td>\n      <td>2500.0</td>\n      <td>...</td>\n      <td>291471</td>\n      <td>0</td>\n      <td>0</td>\n      <td>200.003446</td>\n      <td>60001.110486</td>\n      <td>43.004721</td>\n      <td>0.716759</td>\n      <td>300000</td>\n      <td>0</td>\n      <td>0</td>\n    </tr>\n    <tr>\n      <th>1</th>\n      <td>300000</td>\n      <td>1376314846000</td>\n      <td>20ff6758-5e33-a8f6-0000-00000000000b</td>\n      <td>1</td>\n      <td>82000</td>\n      <td>0</td>\n      <td>1</td>\n      <td>0</td>\n      <td>0</td>\n      <td>2500.0</td>\n      <td>...</td>\n      <td>0</td>\n      <td>1642298</td>\n      <td>0</td>\n      <td>350.000000</td>\n      <td>104999.926800</td>\n      <td>43.004721</td>\n      <td>1.254303</td>\n      <td>300000</td>\n      <td>0</td>\n      <td>0</td>\n    </tr>\n    <tr>\n      <th>2</th>\n      <td>300000</td>\n      <td>1376314846000</td>\n      <td>8ce970b7-1df4-2503-0000-000000000003</td>\n      <td>1</td>\n      <td>82000</td>\n      <td>0</td>\n      <td>3</td>\n      <td>0</td>\n      <td>0</td>\n      <td>2500.0</td>\n      <td>...</td>\n      <td>0</td>\n      <td>1005042</td>\n      <td>0</td>\n      <td>350.000000</td>\n      <td>105000.000000</td>\n      <td>43.004721</td>\n      <td>1.254304</td>\n      <td>300000</td>\n      <td>0</td>\n      <td>0</td>\n    </tr>\n    <tr>\n      <th>3</th>\n      <td>300000</td>\n      <td>1376314846000</td>\n      <td>4663620f-501c-9270-0000-00000000000a</td>\n      <td>1</td>\n      <td>82000</td>\n      <td>0</td>\n      <td>1</td>\n      <td>0</td>\n      <td>0</td>\n      <td>2500.0</td>\n      <td>...</td>\n      <td>0</td>\n      <td>1463211</td>\n      <td>0</td>\n      <td>350.000000</td>\n      <td>104999.926800</td>\n      <td>43.004721</td>\n      <td>1.254303</td>\n      <td>300000</td>\n      <td>0</td>\n      <td>0</td>\n    </tr>\n    <tr>\n      <th>4</th>\n      <td>300000</td>\n      <td>1376314846000</td>\n      <td>3d93cb79-9b39-70be-0000-000000000001</td>\n      <td>1</td>\n      <td>82000</td>\n      <td>0</td>\n      <td>5</td>\n      <td>0</td>\n      <td>0</td>\n      <td>2500.0</td>\n      <td>...</td>\n      <td>254653</td>\n      <td>3</td>\n      <td>0</td>\n      <td>200.518036</td>\n      <td>60155.560420</td>\n      <td>43.004721</td>\n      <td>0.718604</td>\n      <td>300000</td>\n      <td>0</td>\n      <td>0</td>\n    </tr>\n    <tr>\n      <th>...</th>\n      <td>...</td>\n      <td>...</td>\n      <td>...</td>\n      <td>...</td>\n      <td>...</td>\n      <td>...</td>\n      <td>...</td>\n      <td>...</td>\n      <td>...</td>\n      <td>...</td>\n      <td>...</td>\n      <td>...</td>\n      <td>...</td>\n      <td>...</td>\n      <td>...</td>\n      <td>...</td>\n      <td>...</td>\n      <td>...</td>\n      <td>...</td>\n      <td>...</td>\n      <td>...</td>\n    </tr>\n    <tr>\n      <th>129625</th>\n      <td>2592474000</td>\n      <td>1378907020000</td>\n      <td>629bc222-9cef-e94d-0000-000000000006</td>\n      <td>1</td>\n      <td>82000</td>\n      <td>0</td>\n      <td>0</td>\n      <td>0</td>\n      <td>0</td>\n      <td>2500.0</td>\n      <td>...</td>\n      <td>174000</td>\n      <td>0</td>\n      <td>0</td>\n      <td>200.000000</td>\n      <td>34800.000000</td>\n      <td>92.869964</td>\n      <td>0.897743</td>\n      <td>174000</td>\n      <td>0</td>\n      <td>0</td>\n    </tr>\n    <tr>\n      <th>129626</th>\n      <td>2592474000</td>\n      <td>1378907020000</td>\n      <td>e1121b08-05e8-b107-0000-000000000008</td>\n      <td>1</td>\n      <td>82000</td>\n      <td>0</td>\n      <td>0</td>\n      <td>0</td>\n      <td>0</td>\n      <td>2500.0</td>\n      <td>...</td>\n      <td>174000</td>\n      <td>0</td>\n      <td>0</td>\n      <td>200.000000</td>\n      <td>34800.000000</td>\n      <td>92.869964</td>\n      <td>0.897743</td>\n      <td>174000</td>\n      <td>0</td>\n      <td>0</td>\n    </tr>\n    <tr>\n      <th>129627</th>\n      <td>2592474000</td>\n      <td>1378907020000</td>\n      <td>bb20b45f-d4d9-5138-0000-000000000000</td>\n      <td>1</td>\n      <td>82000</td>\n      <td>0</td>\n      <td>0</td>\n      <td>0</td>\n      <td>0</td>\n      <td>2500.0</td>\n      <td>...</td>\n      <td>174000</td>\n      <td>0</td>\n      <td>0</td>\n      <td>200.000000</td>\n      <td>34800.000000</td>\n      <td>92.869964</td>\n      <td>0.897743</td>\n      <td>174000</td>\n      <td>0</td>\n      <td>0</td>\n    </tr>\n    <tr>\n      <th>129628</th>\n      <td>2592474000</td>\n      <td>1378907020000</td>\n      <td>a32dc9f6-4f1d-f03a-0000-000000000002</td>\n      <td>1</td>\n      <td>82000</td>\n      <td>0</td>\n      <td>0</td>\n      <td>0</td>\n      <td>0</td>\n      <td>2500.0</td>\n      <td>...</td>\n      <td>159439</td>\n      <td>0</td>\n      <td>0</td>\n      <td>200.000000</td>\n      <td>34818.551208</td>\n      <td>92.869964</td>\n      <td>0.898222</td>\n      <td>174000</td>\n      <td>0</td>\n      <td>0</td>\n    </tr>\n    <tr>\n      <th>129629</th>\n      <td>2592474000</td>\n      <td>1378907020000</td>\n      <td>98f8ba3d-c812-a76d-0000-000000000004</td>\n      <td>1</td>\n      <td>82000</td>\n      <td>0</td>\n      <td>0</td>\n      <td>0</td>\n      <td>0</td>\n      <td>2500.0</td>\n      <td>...</td>\n      <td>174000</td>\n      <td>0</td>\n      <td>0</td>\n      <td>200.000000</td>\n      <td>34800.000000</td>\n      <td>92.869964</td>\n      <td>0.897743</td>\n      <td>174000</td>\n      <td>0</td>\n      <td>0</td>\n    </tr>\n  </tbody>\n</table>\n<p>129630 rows × 24 columns</p>\n</div>"
     },
     "execution_count": 21,
     "metadata": {},
     "output_type": "execute_result"
    }
   ],
   "source": [
    "# switch to host\n",
    "PATH = \"output/4-models-and-ground-truth/raw-output/0/seed=0/\"\n",
    "host = pd.read_parquet(PATH + \"host.parquet\")\n",
    "\n",
    "\n",
    "# total time\n",
    "host"
   ],
   "metadata": {
    "collapsed": false,
    "ExecuteTime": {
     "end_time": "2024-06-09T12:49:33.561381Z",
     "start_time": "2024-06-09T12:49:33.529948Z"
    }
   },
   "id": "70c5a5070f9ba5d3",
   "execution_count": 21
  },
  {
   "cell_type": "code",
   "outputs": [],
   "source": [],
   "metadata": {
    "collapsed": false,
    "ExecuteTime": {
     "end_time": "2024-06-09T12:49:05.351211Z",
     "start_time": "2024-06-09T12:49:05.348634Z"
    }
   },
   "id": "df3d28ba37567799",
   "execution_count": 17
  },
  {
   "cell_type": "code",
   "outputs": [
    {
     "data": {
      "text/plain": "450.1041666666667"
     },
     "execution_count": 18,
     "metadata": {},
     "output_type": "execute_result"
    }
   ],
   "source": [],
   "metadata": {
    "collapsed": false,
    "ExecuteTime": {
     "end_time": "2024-06-09T12:49:06.896754Z",
     "start_time": "2024-06-09T12:49:06.893055Z"
    }
   },
   "id": "7e925a7837afe9ac",
   "execution_count": 18
  },
  {
   "cell_type": "code",
   "outputs": [],
   "source": [],
   "metadata": {
    "collapsed": false
   },
   "id": "5fc98a3f3f10f74"
  }
 ],
 "metadata": {
  "kernelspec": {
   "display_name": "Python 3",
   "language": "python",
   "name": "python3"
  },
  "language_info": {
   "codemirror_mode": {
    "name": "ipython",
    "version": 2
   },
   "file_extension": ".py",
   "mimetype": "text/x-python",
   "name": "python",
   "nbconvert_exporter": "python",
   "pygments_lexer": "ipython2",
   "version": "2.7.6"
  }
 },
 "nbformat": 4,
 "nbformat_minor": 5
}
