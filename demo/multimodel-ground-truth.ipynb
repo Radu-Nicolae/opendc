{
 "cells": [
  {
   "cell_type": "markdown",
   "source": [
    "# 0. Imports and helpers"
   ],
   "metadata": {
    "collapsed": false
   },
   "id": "993780dc72435e41"
  },
  {
   "cell_type": "code",
   "outputs": [],
   "source": [
    "import numpy as np\n",
    "import pandas as pd\n",
    "import matplotlib.pyplot as plt\n",
    "import os"
   ],
   "metadata": {
    "collapsed": false,
    "ExecuteTime": {
     "end_time": "2024-06-14T11:57:52.541402Z",
     "start_time": "2024-06-14T11:57:52.004864Z"
    }
   },
   "id": "b3cf5d0ea4008984",
   "execution_count": 1
  },
  {
   "cell_type": "code",
   "outputs": [],
   "source": [
    "# Define the functions\n",
    "def mean_of_chunks_and_margin_error(np_array, window_size):\n",
    "    chunks = [np_array[i:i + window_size] for i in range(0, len(np_array), window_size)]\n",
    "    means = [np.mean(chunk) for chunk in chunks]\n",
    "    return np.array(means)\n",
    "\n",
    "\n",
    "def augment_host(host, augment_factor):\n",
    "    return np.repeat(host, augment_factor)\n",
    "\n",
    "def get_host_prediction(path):\n",
    "    host_prediction = pd.read_parquet(path).groupby(\"timestamp\")[\"energy_usage\"].sum()\n",
    "    host_prediction = augment_host(host_prediction, 10)\n",
    "    host_prediction = host_prediction / 1e6\n",
    "    return host_prediction"
   ],
   "metadata": {
    "collapsed": false,
    "ExecuteTime": {
     "end_time": "2024-06-14T11:57:52.545955Z",
     "start_time": "2024-06-14T11:57:52.542944Z"
    }
   },
   "id": "1e3c2950a962b295",
   "execution_count": 2
  },
  {
   "cell_type": "markdown",
   "source": [
    "# 1. Energy.parquet, already given"
   ],
   "metadata": {
    "collapsed": false
   },
   "id": "b57686f35ebf1016"
  },
  {
   "cell_type": "code",
   "outputs": [],
   "source": [
    "# Load the energy data\n",
    "energy_trace = pd.read_parquet(\"traces/surf-sara/trace/energy.parquet\").groupby(\"timestamp\")[\"energy\"].sum()\n",
    "\n",
    "# multiply all the value by 10\n",
    "energy_trace = energy_trace * 12\n",
    "energy_trace = energy_trace / 1e6\n",
    "\n",
    "# search for the index of the value \"2022-10-07 23:59:30+02:00\" in timestamp\n",
    "index = energy_trace.index.get_loc(\"2022-10-07 23:59:30+02:00\")\n"
   ],
   "metadata": {
    "collapsed": false,
    "ExecuteTime": {
     "end_time": "2024-06-14T11:57:52.853528Z",
     "start_time": "2024-06-14T11:57:52.546703Z"
    }
   },
   "id": "947024b1befe689a",
   "execution_count": 3
  },
  {
   "cell_type": "markdown",
   "source": [
    "# 2. Host.parquet, simulated"
   ],
   "metadata": {
    "collapsed": false
   },
   "id": "c3d4fbce4b83ab93"
  },
  {
   "cell_type": "code",
   "outputs": [
    {
     "ename": "FileNotFoundError",
     "evalue": "[Errno 2] No such file or directory: 'output/surf-sara-sim/raw-output/0/seed=0/host.parquet'",
     "output_type": "error",
     "traceback": [
      "\u001B[0;31m---------------------------------------------------------------------------\u001B[0m",
      "\u001B[0;31mFileNotFoundError\u001B[0m                         Traceback (most recent call last)",
      "Cell \u001B[0;32mIn[4], line 1\u001B[0m\n\u001B[0;32m----> 1\u001B[0m host_prediction_linear \u001B[38;5;241m=\u001B[39m \u001B[43mget_host_prediction\u001B[49m\u001B[43m(\u001B[49m\u001B[38;5;124;43m\"\u001B[39;49m\u001B[38;5;124;43moutput/surf-sara-sim/raw-output/0/seed=0/host.parquet\u001B[39;49m\u001B[38;5;124;43m\"\u001B[39;49m\u001B[43m)\u001B[49m\n\u001B[1;32m      2\u001B[0m host_prediction_cubic \u001B[38;5;241m=\u001B[39m get_host_prediction(\u001B[38;5;124m\"\u001B[39m\u001B[38;5;124moutput/surf-sara-sim/raw-output/1/seed=0/host.parquet\u001B[39m\u001B[38;5;124m\"\u001B[39m)\n\u001B[1;32m      3\u001B[0m host_prediction_square \u001B[38;5;241m=\u001B[39m get_host_prediction(\u001B[38;5;124m\"\u001B[39m\u001B[38;5;124moutput/surf-sara-sim/raw-output/2/seed=0/host.parquet\u001B[39m\u001B[38;5;124m\"\u001B[39m)\n",
      "Cell \u001B[0;32mIn[2], line 12\u001B[0m, in \u001B[0;36mget_host_prediction\u001B[0;34m(path)\u001B[0m\n\u001B[1;32m     11\u001B[0m \u001B[38;5;28;01mdef\u001B[39;00m \u001B[38;5;21mget_host_prediction\u001B[39m(path):\n\u001B[0;32m---> 12\u001B[0m     host_prediction \u001B[38;5;241m=\u001B[39m \u001B[43mpd\u001B[49m\u001B[38;5;241;43m.\u001B[39;49m\u001B[43mread_parquet\u001B[49m\u001B[43m(\u001B[49m\u001B[43mpath\u001B[49m\u001B[43m)\u001B[49m\u001B[38;5;241m.\u001B[39mgroupby(\u001B[38;5;124m\"\u001B[39m\u001B[38;5;124mtimestamp\u001B[39m\u001B[38;5;124m\"\u001B[39m)[\u001B[38;5;124m\"\u001B[39m\u001B[38;5;124menergy_usage\u001B[39m\u001B[38;5;124m\"\u001B[39m]\u001B[38;5;241m.\u001B[39msum()\n\u001B[1;32m     13\u001B[0m     host_prediction \u001B[38;5;241m=\u001B[39m augment_host(host_prediction, \u001B[38;5;241m10\u001B[39m)\n\u001B[1;32m     14\u001B[0m     host_prediction \u001B[38;5;241m=\u001B[39m host_prediction \u001B[38;5;241m/\u001B[39m \u001B[38;5;241m1e6\u001B[39m\n",
      "File \u001B[0;32m~/atlarge/opendc/venv/lib/python3.10/site-packages/pandas/io/parquet.py:667\u001B[0m, in \u001B[0;36mread_parquet\u001B[0;34m(path, engine, columns, storage_options, use_nullable_dtypes, dtype_backend, filesystem, filters, **kwargs)\u001B[0m\n\u001B[1;32m    664\u001B[0m     use_nullable_dtypes \u001B[38;5;241m=\u001B[39m \u001B[38;5;28;01mFalse\u001B[39;00m\n\u001B[1;32m    665\u001B[0m check_dtype_backend(dtype_backend)\n\u001B[0;32m--> 667\u001B[0m \u001B[38;5;28;01mreturn\u001B[39;00m \u001B[43mimpl\u001B[49m\u001B[38;5;241;43m.\u001B[39;49m\u001B[43mread\u001B[49m\u001B[43m(\u001B[49m\n\u001B[1;32m    668\u001B[0m \u001B[43m    \u001B[49m\u001B[43mpath\u001B[49m\u001B[43m,\u001B[49m\n\u001B[1;32m    669\u001B[0m \u001B[43m    \u001B[49m\u001B[43mcolumns\u001B[49m\u001B[38;5;241;43m=\u001B[39;49m\u001B[43mcolumns\u001B[49m\u001B[43m,\u001B[49m\n\u001B[1;32m    670\u001B[0m \u001B[43m    \u001B[49m\u001B[43mfilters\u001B[49m\u001B[38;5;241;43m=\u001B[39;49m\u001B[43mfilters\u001B[49m\u001B[43m,\u001B[49m\n\u001B[1;32m    671\u001B[0m \u001B[43m    \u001B[49m\u001B[43mstorage_options\u001B[49m\u001B[38;5;241;43m=\u001B[39;49m\u001B[43mstorage_options\u001B[49m\u001B[43m,\u001B[49m\n\u001B[1;32m    672\u001B[0m \u001B[43m    \u001B[49m\u001B[43muse_nullable_dtypes\u001B[49m\u001B[38;5;241;43m=\u001B[39;49m\u001B[43muse_nullable_dtypes\u001B[49m\u001B[43m,\u001B[49m\n\u001B[1;32m    673\u001B[0m \u001B[43m    \u001B[49m\u001B[43mdtype_backend\u001B[49m\u001B[38;5;241;43m=\u001B[39;49m\u001B[43mdtype_backend\u001B[49m\u001B[43m,\u001B[49m\n\u001B[1;32m    674\u001B[0m \u001B[43m    \u001B[49m\u001B[43mfilesystem\u001B[49m\u001B[38;5;241;43m=\u001B[39;49m\u001B[43mfilesystem\u001B[49m\u001B[43m,\u001B[49m\n\u001B[1;32m    675\u001B[0m \u001B[43m    \u001B[49m\u001B[38;5;241;43m*\u001B[39;49m\u001B[38;5;241;43m*\u001B[39;49m\u001B[43mkwargs\u001B[49m\u001B[43m,\u001B[49m\n\u001B[1;32m    676\u001B[0m \u001B[43m\u001B[49m\u001B[43m)\u001B[49m\n",
      "File \u001B[0;32m~/atlarge/opendc/venv/lib/python3.10/site-packages/pandas/io/parquet.py:267\u001B[0m, in \u001B[0;36mPyArrowImpl.read\u001B[0;34m(self, path, columns, filters, use_nullable_dtypes, dtype_backend, storage_options, filesystem, **kwargs)\u001B[0m\n\u001B[1;32m    264\u001B[0m \u001B[38;5;28;01mif\u001B[39;00m manager \u001B[38;5;241m==\u001B[39m \u001B[38;5;124m\"\u001B[39m\u001B[38;5;124marray\u001B[39m\u001B[38;5;124m\"\u001B[39m:\n\u001B[1;32m    265\u001B[0m     to_pandas_kwargs[\u001B[38;5;124m\"\u001B[39m\u001B[38;5;124msplit_blocks\u001B[39m\u001B[38;5;124m\"\u001B[39m] \u001B[38;5;241m=\u001B[39m \u001B[38;5;28;01mTrue\u001B[39;00m  \u001B[38;5;66;03m# type: ignore[assignment]\u001B[39;00m\n\u001B[0;32m--> 267\u001B[0m path_or_handle, handles, filesystem \u001B[38;5;241m=\u001B[39m \u001B[43m_get_path_or_handle\u001B[49m\u001B[43m(\u001B[49m\n\u001B[1;32m    268\u001B[0m \u001B[43m    \u001B[49m\u001B[43mpath\u001B[49m\u001B[43m,\u001B[49m\n\u001B[1;32m    269\u001B[0m \u001B[43m    \u001B[49m\u001B[43mfilesystem\u001B[49m\u001B[43m,\u001B[49m\n\u001B[1;32m    270\u001B[0m \u001B[43m    \u001B[49m\u001B[43mstorage_options\u001B[49m\u001B[38;5;241;43m=\u001B[39;49m\u001B[43mstorage_options\u001B[49m\u001B[43m,\u001B[49m\n\u001B[1;32m    271\u001B[0m \u001B[43m    \u001B[49m\u001B[43mmode\u001B[49m\u001B[38;5;241;43m=\u001B[39;49m\u001B[38;5;124;43m\"\u001B[39;49m\u001B[38;5;124;43mrb\u001B[39;49m\u001B[38;5;124;43m\"\u001B[39;49m\u001B[43m,\u001B[49m\n\u001B[1;32m    272\u001B[0m \u001B[43m\u001B[49m\u001B[43m)\u001B[49m\n\u001B[1;32m    273\u001B[0m \u001B[38;5;28;01mtry\u001B[39;00m:\n\u001B[1;32m    274\u001B[0m     pa_table \u001B[38;5;241m=\u001B[39m \u001B[38;5;28mself\u001B[39m\u001B[38;5;241m.\u001B[39mapi\u001B[38;5;241m.\u001B[39mparquet\u001B[38;5;241m.\u001B[39mread_table(\n\u001B[1;32m    275\u001B[0m         path_or_handle,\n\u001B[1;32m    276\u001B[0m         columns\u001B[38;5;241m=\u001B[39mcolumns,\n\u001B[0;32m   (...)\u001B[0m\n\u001B[1;32m    279\u001B[0m         \u001B[38;5;241m*\u001B[39m\u001B[38;5;241m*\u001B[39mkwargs,\n\u001B[1;32m    280\u001B[0m     )\n",
      "File \u001B[0;32m~/atlarge/opendc/venv/lib/python3.10/site-packages/pandas/io/parquet.py:140\u001B[0m, in \u001B[0;36m_get_path_or_handle\u001B[0;34m(path, fs, storage_options, mode, is_dir)\u001B[0m\n\u001B[1;32m    130\u001B[0m handles \u001B[38;5;241m=\u001B[39m \u001B[38;5;28;01mNone\u001B[39;00m\n\u001B[1;32m    131\u001B[0m \u001B[38;5;28;01mif\u001B[39;00m (\n\u001B[1;32m    132\u001B[0m     \u001B[38;5;129;01mnot\u001B[39;00m fs\n\u001B[1;32m    133\u001B[0m     \u001B[38;5;129;01mand\u001B[39;00m \u001B[38;5;129;01mnot\u001B[39;00m is_dir\n\u001B[0;32m   (...)\u001B[0m\n\u001B[1;32m    138\u001B[0m     \u001B[38;5;66;03m# fsspec resources can also point to directories\u001B[39;00m\n\u001B[1;32m    139\u001B[0m     \u001B[38;5;66;03m# this branch is used for example when reading from non-fsspec URLs\u001B[39;00m\n\u001B[0;32m--> 140\u001B[0m     handles \u001B[38;5;241m=\u001B[39m \u001B[43mget_handle\u001B[49m\u001B[43m(\u001B[49m\n\u001B[1;32m    141\u001B[0m \u001B[43m        \u001B[49m\u001B[43mpath_or_handle\u001B[49m\u001B[43m,\u001B[49m\u001B[43m \u001B[49m\u001B[43mmode\u001B[49m\u001B[43m,\u001B[49m\u001B[43m \u001B[49m\u001B[43mis_text\u001B[49m\u001B[38;5;241;43m=\u001B[39;49m\u001B[38;5;28;43;01mFalse\u001B[39;49;00m\u001B[43m,\u001B[49m\u001B[43m \u001B[49m\u001B[43mstorage_options\u001B[49m\u001B[38;5;241;43m=\u001B[39;49m\u001B[43mstorage_options\u001B[49m\n\u001B[1;32m    142\u001B[0m \u001B[43m    \u001B[49m\u001B[43m)\u001B[49m\n\u001B[1;32m    143\u001B[0m     fs \u001B[38;5;241m=\u001B[39m \u001B[38;5;28;01mNone\u001B[39;00m\n\u001B[1;32m    144\u001B[0m     path_or_handle \u001B[38;5;241m=\u001B[39m handles\u001B[38;5;241m.\u001B[39mhandle\n",
      "File \u001B[0;32m~/atlarge/opendc/venv/lib/python3.10/site-packages/pandas/io/common.py:882\u001B[0m, in \u001B[0;36mget_handle\u001B[0;34m(path_or_buf, mode, encoding, compression, memory_map, is_text, errors, storage_options)\u001B[0m\n\u001B[1;32m    873\u001B[0m         handle \u001B[38;5;241m=\u001B[39m \u001B[38;5;28mopen\u001B[39m(\n\u001B[1;32m    874\u001B[0m             handle,\n\u001B[1;32m    875\u001B[0m             ioargs\u001B[38;5;241m.\u001B[39mmode,\n\u001B[0;32m   (...)\u001B[0m\n\u001B[1;32m    878\u001B[0m             newline\u001B[38;5;241m=\u001B[39m\u001B[38;5;124m\"\u001B[39m\u001B[38;5;124m\"\u001B[39m,\n\u001B[1;32m    879\u001B[0m         )\n\u001B[1;32m    880\u001B[0m     \u001B[38;5;28;01melse\u001B[39;00m:\n\u001B[1;32m    881\u001B[0m         \u001B[38;5;66;03m# Binary mode\u001B[39;00m\n\u001B[0;32m--> 882\u001B[0m         handle \u001B[38;5;241m=\u001B[39m \u001B[38;5;28;43mopen\u001B[39;49m\u001B[43m(\u001B[49m\u001B[43mhandle\u001B[49m\u001B[43m,\u001B[49m\u001B[43m \u001B[49m\u001B[43mioargs\u001B[49m\u001B[38;5;241;43m.\u001B[39;49m\u001B[43mmode\u001B[49m\u001B[43m)\u001B[49m\n\u001B[1;32m    883\u001B[0m     handles\u001B[38;5;241m.\u001B[39mappend(handle)\n\u001B[1;32m    885\u001B[0m \u001B[38;5;66;03m# Convert BytesIO or file objects passed with an encoding\u001B[39;00m\n",
      "\u001B[0;31mFileNotFoundError\u001B[0m: [Errno 2] No such file or directory: 'output/surf-sara-sim/raw-output/0/seed=0/host.parquet'"
     ]
    }
   ],
   "source": [
    "host_prediction_linear = get_host_prediction(\"output/surf-sara-sim/raw-output/0/seed=0/host.parquet\")\n",
    "host_prediction_cubic = get_host_prediction(\"output/surf-sara-sim/raw-output/1/seed=0/host.parquet\")\n",
    "host_prediction_square = get_host_prediction(\"output/surf-sara-sim/raw-output/2/seed=0/host.parquet\")\n",
    "host_prediction_sqrt = get_host_prediction(\"output/surf-sara-sim/raw-output/3/seed=0/host.parquet\")\n",
    "\n",
    "max_size = min(\n",
    "    len(host_prediction_linear), \n",
    "    len(host_prediction_cubic), \n",
    "    len(host_prediction_square), \n",
    "    len(host_prediction_sqrt), \n",
    "    len(energy_trace)\n",
    ")\n",
    "\n",
    "max_size = index # we take only the data from the first day\n",
    "\n",
    "host_prediction_linear = host_prediction_linear[:max_size]\n",
    "host_prediction_cubic = host_prediction_cubic[:max_size]\n",
    "host_prediction_square = host_prediction_square[:max_size]\n",
    "host_prediction_sqrt = host_prediction_sqrt[:max_size]\n",
    "energy_trace = energy_trace[:max_size]"
   ],
   "metadata": {
    "collapsed": false,
    "ExecuteTime": {
     "end_time": "2024-06-14T11:57:53.078831Z",
     "start_time": "2024-06-14T11:57:52.854490Z"
    }
   },
   "id": "f14c2d0eea5333d7",
   "execution_count": 4
  },
  {
   "cell_type": "code",
   "outputs": [],
   "source": [
    "# Ensure both indices are datetime\n",
    "energy_trace.index = pd.to_datetime(energy_trace.index)\n",
    "host_prediction_linear.index = pd.to_datetime(energy_trace.index)\n",
    "host_prediction_cubic.index = pd.to_datetime(energy_trace.index)\n",
    "host_prediction_square.index = pd.to_datetime(energy_trace.index)\n",
    "host_prediction_sqrt.index = pd.to_datetime(energy_trace.index)"
   ],
   "metadata": {
    "collapsed": false,
    "ExecuteTime": {
     "end_time": "2024-06-14T11:57:53.079978Z",
     "start_time": "2024-06-14T11:57:53.079914Z"
    }
   },
   "id": "e16f7d8023eb7865",
   "execution_count": null
  },
  {
   "cell_type": "code",
   "outputs": [],
   "source": [
    "energy_trace"
   ],
   "metadata": {
    "collapsed": false
   },
   "id": "afb18c0ad20e0425",
   "execution_count": null
  },
  {
   "cell_type": "markdown",
   "source": [
    "# 3. Put the data together, in the same place"
   ],
   "metadata": {
    "collapsed": false
   },
   "id": "8226ea3977cb4439"
  },
  {
   "cell_type": "code",
   "outputs": [],
   "source": [
    "aligned_index = energy_trace.index.union(host_prediction_linear.index).union(host_prediction_cubic.index).union(host_prediction_square.index).union(host_prediction_sqrt.index)\n",
    "energy_trace = energy_trace.reindex(aligned_index, fill_value=np.nan)\n",
    "host_prediction_linear = host_prediction_linear.reindex(aligned_index, fill_value=np.nan)\n",
    "host_prediction_cubic = host_prediction_cubic.reindex(aligned_index, fill_value=np.nan)\n",
    "host_prediction_square = host_prediction_square.reindex(aligned_index, fill_value=np.nan)\n",
    "host_prediction_sqrt = host_prediction_sqrt.reindex(aligned_index, fill_value=np.nan)"
   ],
   "metadata": {
    "collapsed": false
   },
   "id": "3a645c6ae75c3085",
   "execution_count": null
  },
  {
   "cell_type": "markdown",
   "source": [],
   "metadata": {
    "collapsed": false
   },
   "id": "bbff57d80f94cc17"
  },
  {
   "cell_type": "code",
   "outputs": [],
   "source": [
    "# Create a new dataframe\n",
    "# Create a new dataframe\n",
    "df = pd.DataFrame({\n",
    "    \"energy\": energy_trace,\n",
    "    \"linear\": host_prediction_linear,\n",
    "    \"cubic\": host_prediction_cubic,\n",
    "    \"square\": host_prediction_square,\n",
    "    \"sqrt\": host_prediction_sqrt\n",
    "})"
   ],
   "metadata": {
    "collapsed": false
   },
   "id": "4a3ace65e4287197",
   "execution_count": null
  },
  {
   "cell_type": "code",
   "outputs": [],
   "source": [
    "# Plot the data with thinner lines\n",
    "light_gray = \"#D3D3D3\"\n",
    "\n",
    "plt.figure(figsize=(20, 10))\n",
    "plt.plot(df.index, df[\"energy\"], label=\"Energy Trace\", color=\"blue\", linewidth=1) # ground truth\n",
    "plt.plot(df.index, df[\"linear\"], label=\"Linear Power Model\", color=light_gray, linewidth=1)\n",
    "plt.plot(df.index, df[\"cubic\"], label=\"Cubic Power Model\", color=light_gray, linewidth=1)\n",
    "plt.plot(df.index, df[\"square\"], label=\"Square Power Model\", color=light_gray, linewidth=1)\n",
    "plt.plot(df.index, df[\"sqrt\"], label=\"Sqrt Power Model\", color=light_gray, linewidth=1)\n",
    "plt.xlabel(\"Timestamp\")\n",
    "plt.ylabel(\"Energy [MWh]\")\n",
    "plt.title(\"Energy Trace and Host Predictions\")\n",
    "plt.ylim(7.25, 10)\n",
    "plt.legend()\n",
    "plt.savefig(\"output/surf-sara-sim/simulation-analysis/multimodel-groundtruth.pdf\")\n"
   ],
   "metadata": {
    "collapsed": false
   },
   "id": "ef136024dd58689e",
   "execution_count": null
  },
  {
   "cell_type": "code",
   "outputs": [],
   "source": [],
   "metadata": {
    "collapsed": false
   },
   "id": "284298a97893f339",
   "execution_count": null
  }
 ],
 "metadata": {
  "kernelspec": {
   "display_name": "Python 3",
   "language": "python",
   "name": "python3"
  },
  "language_info": {
   "codemirror_mode": {
    "name": "ipython",
    "version": 2
   },
   "file_extension": ".py",
   "mimetype": "text/x-python",
   "name": "python",
   "nbconvert_exporter": "python",
   "pygments_lexer": "ipython2",
   "version": "2.7.6"
  }
 },
 "nbformat": 4,
 "nbformat_minor": 5
}
