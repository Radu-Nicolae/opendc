{
 "cells": [
  {
   "cell_type": "markdown",
   "source": [
    "# OpenDC MultiModel Demo"
   ],
   "metadata": {
    "collapsed": false
   },
   "id": "fb60c8069ab28634"
  },
  {
   "cell_type": "markdown",
   "source": [
    "> this file assembles multiple simulation models into a single simulation tool -- <b>the multimodel</b>\n",
    "> we leverage the outputs of the simulation models, in the same plot\n",
    "> and more :>"
   ],
   "metadata": {
    "collapsed": false
   },
   "id": "6db427bbc013a04f"
  }
 ],
 "metadata": {
  "kernelspec": {
   "display_name": "Python 3",
   "language": "python",
   "name": "python3"
  },
  "language_info": {
   "codemirror_mode": {
    "name": "ipython",
    "version": 2
   },
   "file_extension": ".py",
   "mimetype": "text/x-python",
   "name": "python",
   "nbconvert_exporter": "python",
   "pygments_lexer": "ipython2",
   "version": "2.7.6"
  }
 },
 "nbformat": 4,
 "nbformat_minor": 5
}
