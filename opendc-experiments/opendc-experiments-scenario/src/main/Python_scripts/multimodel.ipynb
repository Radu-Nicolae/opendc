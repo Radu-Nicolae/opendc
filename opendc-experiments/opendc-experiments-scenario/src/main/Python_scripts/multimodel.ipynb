{
 "cells": [
  {
   "cell_type": "markdown",
   "source": [
    "# OpenDC MultiModel Demo"
   ],
   "metadata": {
    "collapsed": false
   },
   "id": "fb60c8069ab28634"
  },
  {
   "cell_type": "markdown",
   "source": [
    "> this file assembles multiple simulation models into a single simulation tool -- <b>the multimodel</b>\n",
    "> we leverage the outputs of the simulation models, in the same plot\n",
    "> and more :>"
   ],
   "metadata": {
    "collapsed": false
   },
   "id": "6db427bbc013a04f"
  },
  {
   "cell_type": "markdown",
   "source": [
    "### 0. Imports"
   ],
   "metadata": {
    "collapsed": false
   },
   "id": "613ddc7764c074d2"
  },
  {
   "cell_type": "code",
   "outputs": [],
   "source": [
    "import numpy as np\n",
    "import matplotlib.pyplot as plt\n",
    "import pandas as pd\n",
    "import os\n",
    "import pyarrow.parquet as pq\n",
    "import fastparquet as fp"
   ],
   "metadata": {
    "collapsed": false,
    "ExecuteTime": {
     "end_time": "2024-04-17T18:55:22.650889Z",
     "start_time": "2024-04-17T18:55:21.693431Z"
    }
   },
   "id": "bfbf3ccebf48cde4",
   "execution_count": 1
  },
  {
   "cell_type": "markdown",
   "source": [
    "### 1. Load the outputs of the simulation models"
   ],
   "metadata": {
    "collapsed": false
   },
   "id": "46656be1992088cc"
  },
  {
   "cell_type": "code",
   "outputs": [
    {
     "name": "stdout",
     "output_type": "stream",
     "text": [
      "We are now in:  /Users/raz/atlarge/opendc/demo/output/simulation-results\n"
     ]
    },
    {
     "data": {
      "text/plain": "[         timestamp  absolute_timestamp                               host_id  \\\n 0           300000       1376314846000  e220a839-7b1d-cdaf-0000-000000000000   \n 1           600000       1376315146000  e220a839-7b1d-cdaf-0000-000000000000   \n 2           900000       1376315446000  e220a839-7b1d-cdaf-0000-000000000000   \n 3          1200000       1376315746000  e220a839-7b1d-cdaf-0000-000000000000   \n 4          1500000       1376316046000  e220a839-7b1d-cdaf-0000-000000000000   \n ...            ...                 ...                                   ...   \n 57631  17289600000       1393604146000  e220a839-7b1d-cdaf-0000-000000000000   \n 57632  17289900000       1393604446000  e220a839-7b1d-cdaf-0000-000000000000   \n 57633  17290200000       1393604746000  e220a839-7b1d-cdaf-0000-000000000000   \n 57634  17290500000       1393605046000  e220a839-7b1d-cdaf-0000-000000000000   \n 57635  17290658000       1393605204000  e220a839-7b1d-cdaf-0000-000000000000   \n \n        cpu_count  mem_capacity  guests_terminated  guests_running  \\\n 0              8         32000                  0              10   \n 1              8         32000                  0              10   \n 2              8         32000                  0              10   \n 3              8         32000                  0              10   \n 4              8         32000                  0              10   \n ...          ...           ...                ...             ...   \n 57631          8         32000                  0               1   \n 57632          8         32000                  0               1   \n 57633          8         32000                  0               1   \n 57634          8         32000                  0               1   \n 57635          8         32000                  0               0   \n \n        guests_error  guests_invalid  cpu_limit  ...  cpu_utilization  \\\n 0                 0               0    25600.0  ...         0.010261   \n 1                 0               0    25600.0  ...         0.011793   \n 2                 0               0    25600.0  ...         0.010608   \n 3                 0               0    25600.0  ...         0.011023   \n 4                 0               0    25600.0  ...         0.011057   \n ...             ...             ...        ...  ...              ...   \n 57631             0               0    25600.0  ...         0.007810   \n 57632             0               0    25600.0  ...         0.008935   \n 57633             0               0    25600.0  ...         0.008513   \n 57634             0               0    25600.0  ...         0.009005   \n 57635             0               0    25600.0  ...         0.000005   \n \n        cpu_time_active  cpu_time_idle  cpu_time_steal  cpu_time_lost  \\\n 0                24634        2375365              56              0   \n 1                28304        2371696               0              0   \n 2                25459        2374541               0              0   \n 3                26455        2373545               0              0   \n 4                26536        2373464               0              0   \n ...                ...            ...             ...            ...   \n 57631            19365        2380635               0              0   \n 57632            20021        2379979               0              0   \n 57633            20963        2379037               0              0   \n 57634            20990        2379010               0              0   \n 57635            11382        1252618               0              0   \n \n        power_draw   energy_usage  uptime  downtime  boot_time  \n 0      397.947792  119384.139668  300000         0          0  \n 1      397.641344  119292.403221  300000         0          0  \n 2      397.878386  119363.515735  300000         0          0  \n 3      397.795396  119338.618755  300000         0          0  \n 4      397.788646  119336.593795  300000         0          0  \n ...           ...            ...     ...       ...        ...  \n 57631  398.438157  119515.894080  300000         0          0  \n 57632  398.213157  119499.497210  300000         0          0  \n 57633  398.297532  119475.928459  300000         0          0  \n 57634  398.199095  119475.281598  300000         0          0  \n 57635  399.999094   62915.457002  158000         0          0  \n \n [57636 rows x 22 columns],\n          timestamp  absolute_timestamp                               host_id  \\\n 0           300000       1376314846000  e220a839-7b1d-cdaf-0000-000000000000   \n 1           600000       1376315146000  e220a839-7b1d-cdaf-0000-000000000000   \n 2           900000       1376315446000  e220a839-7b1d-cdaf-0000-000000000000   \n 3          1200000       1376315746000  e220a839-7b1d-cdaf-0000-000000000000   \n 4          1500000       1376316046000  e220a839-7b1d-cdaf-0000-000000000000   \n ...            ...                 ...                                   ...   \n 57631  17289600000       1393604146000  e220a839-7b1d-cdaf-0000-000000000000   \n 57632  17289900000       1393604446000  e220a839-7b1d-cdaf-0000-000000000000   \n 57633  17290200000       1393604746000  e220a839-7b1d-cdaf-0000-000000000000   \n 57634  17290500000       1393605046000  e220a839-7b1d-cdaf-0000-000000000000   \n 57635  17290658000       1393605204000  e220a839-7b1d-cdaf-0000-000000000000   \n \n        cpu_count  mem_capacity  guests_terminated  guests_running  \\\n 0              8         32000                  0              10   \n 1              8         32000                  0              10   \n 2              8         32000                  0              10   \n 3              8         32000                  0              10   \n 4              8         32000                  0              10   \n ...          ...           ...                ...             ...   \n 57631          8         32000                  0               1   \n 57632          8         32000                  0               1   \n 57633          8         32000                  0               1   \n 57634          8         32000                  0               1   \n 57635          8         32000                  0               0   \n \n        guests_error  guests_invalid  cpu_limit  ...  cpu_utilization  \\\n 0                 0               0    25600.0  ...         0.010261   \n 1                 0               0    25600.0  ...         0.011793   \n 2                 0               0    25600.0  ...         0.010608   \n 3                 0               0    25600.0  ...         0.011023   \n 4                 0               0    25600.0  ...         0.011057   \n ...             ...             ...        ...  ...              ...   \n 57631             0               0    25600.0  ...         0.007810   \n 57632             0               0    25600.0  ...         0.008935   \n 57633             0               0    25600.0  ...         0.008513   \n 57634             0               0    25600.0  ...         0.009005   \n 57635             0               0    25600.0  ...         0.000005   \n \n        cpu_time_active  cpu_time_idle  cpu_time_steal  cpu_time_lost  \\\n 0                24634        2375365              56              0   \n 1                28304        2371696               0              0   \n 2                25459        2374541               0              0   \n 3                26455        2373545               0              0   \n 4                26536        2373464               0              0   \n ...                ...            ...             ...            ...   \n 57631            19365        2380635               0              0   \n 57632            20021        2379979               0              0   \n 57633            20963        2379037               0              0   \n 57634            20990        2379010               0              0   \n 57635            11382        1252618               0              0   \n \n        power_draw   energy_usage  uptime  downtime  boot_time  \n 0      397.947792  119384.139668  300000         0          0  \n 1      397.641344  119292.403221  300000         0          0  \n 2      397.878386  119363.515735  300000         0          0  \n 3      397.795396  119338.618755  300000         0          0  \n 4      397.788646  119336.593795  300000         0          0  \n ...           ...            ...     ...       ...        ...  \n 57631  398.438157  119515.894080  300000         0          0  \n 57632  398.213157  119499.497210  300000         0          0  \n 57633  398.297532  119475.928459  300000         0          0  \n 57634  398.199095  119475.281598  300000         0          0  \n 57635  399.999094   62915.457002  158000         0          0  \n \n [57636 rows x 22 columns],\n          timestamp  absolute_timestamp                               host_id  \\\n 0           300000       1376314846000  e220a839-7b1d-cdaf-0000-000000000000   \n 1           600000       1376315146000  e220a839-7b1d-cdaf-0000-000000000000   \n 2           900000       1376315446000  e220a839-7b1d-cdaf-0000-000000000000   \n 3          1200000       1376315746000  e220a839-7b1d-cdaf-0000-000000000000   \n 4          1500000       1376316046000  e220a839-7b1d-cdaf-0000-000000000000   \n ...            ...                 ...                                   ...   \n 57631  17289600000       1393604146000  e220a839-7b1d-cdaf-0000-000000000000   \n 57632  17289900000       1393604446000  e220a839-7b1d-cdaf-0000-000000000000   \n 57633  17290200000       1393604746000  e220a839-7b1d-cdaf-0000-000000000000   \n 57634  17290500000       1393605046000  e220a839-7b1d-cdaf-0000-000000000000   \n 57635  17290658000       1393605204000  e220a839-7b1d-cdaf-0000-000000000000   \n \n        cpu_count  mem_capacity  guests_terminated  guests_running  \\\n 0              8         32000                  0              10   \n 1              8         32000                  0              10   \n 2              8         32000                  0              10   \n 3              8         32000                  0              10   \n 4              8         32000                  0              10   \n ...          ...           ...                ...             ...   \n 57631          8         32000                  0               1   \n 57632          8         32000                  0               1   \n 57633          8         32000                  0               1   \n 57634          8         32000                  0               1   \n 57635          8         32000                  0               0   \n \n        guests_error  guests_invalid  cpu_limit  ...  cpu_utilization  \\\n 0                 0               0    25600.0  ...         0.010261   \n 1                 0               0    25600.0  ...         0.011793   \n 2                 0               0    25600.0  ...         0.010608   \n 3                 0               0    25600.0  ...         0.011023   \n 4                 0               0    25600.0  ...         0.011057   \n ...             ...             ...        ...  ...              ...   \n 57631             0               0    25600.0  ...         0.007810   \n 57632             0               0    25600.0  ...         0.008935   \n 57633             0               0    25600.0  ...         0.008513   \n 57634             0               0    25600.0  ...         0.009005   \n 57635             0               0    25600.0  ...         0.000005   \n \n        cpu_time_active  cpu_time_idle  cpu_time_steal  cpu_time_lost  \\\n 0                24634        2375365              56              0   \n 1                28304        2371696               0              0   \n 2                25459        2374541               0              0   \n 3                26455        2373545               0              0   \n 4                26536        2373464               0              0   \n ...                ...            ...             ...            ...   \n 57631            19365        2380635               0              0   \n 57632            20021        2379979               0              0   \n 57633            20963        2379037               0              0   \n 57634            20990        2379010               0              0   \n 57635            11382        1252618               0              0   \n \n        power_draw   energy_usage  uptime  downtime  boot_time  \n 0      397.947792  119384.139668  300000         0          0  \n 1      397.641344  119292.403221  300000         0          0  \n 2      397.878386  119363.515735  300000         0          0  \n 3      397.795396  119338.618755  300000         0          0  \n 4      397.788646  119336.593795  300000         0          0  \n ...           ...            ...     ...       ...        ...  \n 57631  398.438157  119515.894080  300000         0          0  \n 57632  398.213157  119499.497210  300000         0          0  \n 57633  398.297532  119475.928459  300000         0          0  \n 57634  398.199095  119475.281598  300000         0          0  \n 57635  399.999094   62915.457002  158000         0          0  \n \n [57636 rows x 22 columns],\n          timestamp  absolute_timestamp                               host_id  \\\n 0           300000       1376314846000  e220a839-7b1d-cdaf-0000-000000000000   \n 1           600000       1376315146000  e220a839-7b1d-cdaf-0000-000000000000   \n 2           900000       1376315446000  e220a839-7b1d-cdaf-0000-000000000000   \n 3          1200000       1376315746000  e220a839-7b1d-cdaf-0000-000000000000   \n 4          1500000       1376316046000  e220a839-7b1d-cdaf-0000-000000000000   \n ...            ...                 ...                                   ...   \n 57631  17289600000       1393604146000  e220a839-7b1d-cdaf-0000-000000000000   \n 57632  17289900000       1393604446000  e220a839-7b1d-cdaf-0000-000000000000   \n 57633  17290200000       1393604746000  e220a839-7b1d-cdaf-0000-000000000000   \n 57634  17290500000       1393605046000  e220a839-7b1d-cdaf-0000-000000000000   \n 57635  17290658000       1393605204000  e220a839-7b1d-cdaf-0000-000000000000   \n \n        cpu_count  mem_capacity  guests_terminated  guests_running  \\\n 0              8         32000                  0              10   \n 1              8         32000                  0              10   \n 2              8         32000                  0              10   \n 3              8         32000                  0              10   \n 4              8         32000                  0              10   \n ...          ...           ...                ...             ...   \n 57631          8         32000                  0               1   \n 57632          8         32000                  0               1   \n 57633          8         32000                  0               1   \n 57634          8         32000                  0               1   \n 57635          8         32000                  0               0   \n \n        guests_error  guests_invalid  cpu_limit  ...  cpu_utilization  \\\n 0                 0               0    25600.0  ...         0.010261   \n 1                 0               0    25600.0  ...         0.011793   \n 2                 0               0    25600.0  ...         0.010608   \n 3                 0               0    25600.0  ...         0.011023   \n 4                 0               0    25600.0  ...         0.011057   \n ...             ...             ...        ...  ...              ...   \n 57631             0               0    25600.0  ...         0.007810   \n 57632             0               0    25600.0  ...         0.008935   \n 57633             0               0    25600.0  ...         0.008513   \n 57634             0               0    25600.0  ...         0.009005   \n 57635             0               0    25600.0  ...         0.000005   \n \n        cpu_time_active  cpu_time_idle  cpu_time_steal  cpu_time_lost  \\\n 0                24634        2375365              56              0   \n 1                28304        2371696               0              0   \n 2                25459        2374541               0              0   \n 3                26455        2373545               0              0   \n 4                26536        2373464               0              0   \n ...                ...            ...             ...            ...   \n 57631            19365        2380635               0              0   \n 57632            20021        2379979               0              0   \n 57633            20963        2379037               0              0   \n 57634            20990        2379010               0              0   \n 57635            11382        1252618               0              0   \n \n        power_draw   energy_usage  uptime  downtime  boot_time  \n 0      397.947792  119384.139668  300000         0          0  \n 1      397.641344  119292.403221  300000         0          0  \n 2      397.878386  119363.515735  300000         0          0  \n 3      397.795396  119338.618755  300000         0          0  \n 4      397.788646  119336.593795  300000         0          0  \n ...           ...            ...     ...       ...        ...  \n 57631  398.438157  119515.894080  300000         0          0  \n 57632  398.213157  119499.497210  300000         0          0  \n 57633  398.297532  119475.928459  300000         0          0  \n 57634  398.199095  119475.281598  300000         0          0  \n 57635  399.999094   62915.457002  158000         0          0  \n \n [57636 rows x 22 columns]]"
     },
     "execution_count": 2,
     "metadata": {},
     "output_type": "execute_result"
    }
   ],
   "source": [
    "os.chdir('../../../../../demo/output/simulation-results')\n",
    "print(\"We are now in: \", os.getcwd())\n",
    "\n",
    "# loop through the files, take only the first word of the file name, which is in format modelname-*\n",
    "model_names = [file.split('-')[0] for file in os.listdir()]\n",
    "directories = [d for d in os.listdir() if os.path.isdir(d)]\n",
    "\n",
    "# output data is a list of lists -- there are multiple arrays, and each array has data for host, server, service, in this order\n",
    "# basically we will have\n",
    "host_data = []\n",
    "server_data = []\n",
    "service_data = []\n",
    "\n",
    "# loop through each directory and add the data to the list\n",
    "for directory in directories:\n",
    "    host_data.append(pd.read_parquet(os.path.join(directory, 'host.parquet')))\n",
    "    server_data.append(pd.read_parquet(os.path.join(directory, 'server.parquet')))\n",
    "    service_data.append(pd.read_parquet(os.path.join(directory, 'service.parquet')))"
   ],
   "metadata": {
    "collapsed": false,
    "ExecuteTime": {
     "end_time": "2024-04-17T18:55:23.197850Z",
     "start_time": "2024-04-17T18:55:22.651829Z"
    }
   },
   "id": "df9bb28b2ca1ced1",
   "execution_count": 2
  },
  {
   "cell_type": "markdown",
   "source": [
    "### 2. Define useful functions"
   ],
   "metadata": {
    "collapsed": false
   },
   "id": "434a191b3b902e14"
  },
  {
   "cell_type": "code",
   "outputs": [],
   "source": [
    "def mean_of_chunks(series, chunk_size):\n",
    "    return series.groupby(np.arange(len(series)) // chunk_size).mean(numeric_only=True)"
   ],
   "metadata": {
    "collapsed": false,
    "ExecuteTime": {
     "end_time": "2024-04-17T18:55:23.200640Z",
     "start_time": "2024-04-17T18:55:23.198573Z"
    }
   },
   "id": "5d832e6bbd09c8ac",
   "execution_count": 3
  },
  {
   "cell_type": "code",
   "outputs": [],
   "source": [
    "def plot_singular_model(single_model):\n",
    "    plt.figure(figsize=(20,10))\n",
    "    plt.plot(single_model)\n",
    "    plt.show()"
   ],
   "metadata": {
    "collapsed": false,
    "ExecuteTime": {
     "end_time": "2024-04-17T18:55:23.203736Z",
     "start_time": "2024-04-17T18:55:23.201979Z"
    }
   },
   "id": "6b1e2a5c7c656307",
   "execution_count": 4
  },
  {
   "cell_type": "code",
   "outputs": [],
   "source": [
    "def plot_multi_model(multi_model):\n",
    "    plt.figure(figsize=(20,10))\n",
    "    for model in multi_model:\n",
    "        plt.plot(model)\n",
    "    plt.show()"
   ],
   "metadata": {
    "collapsed": false,
    "ExecuteTime": {
     "end_time": "2024-04-17T18:55:23.206178Z",
     "start_time": "2024-04-17T18:55:23.204232Z"
    }
   },
   "id": "295c7f5fd087324d",
   "execution_count": 5
  },
  {
   "cell_type": "code",
   "outputs": [
    {
     "name": "stdout",
     "output_type": "stream",
     "text": [
      "True\n"
     ]
    }
   ],
   "source": [
    "### 3. Plot the outputs of the simulation models\n",
    "# simulation_data = [\n",
    "#     mean_of_chunks(host_data[0]['power_draw'], 1000),\n",
    "#     mean_of_chunks(host_data[1]['power_draw'], 1000),\n",
    "#     mean_of_chunks(host_data[2]['power_draw'], 1000),\n",
    "#     mean_of_chunks(host_data[3]['power_draw'], 1000),\n",
    "# ]\n",
    "# \n",
    "# plot_multi_model(simulation_data)\n",
    "areEqual = service_data[2].equals(service_data[3])\n",
    "print(areEqual)"
   ],
   "metadata": {
    "collapsed": false,
    "ExecuteTime": {
     "end_time": "2024-04-17T19:01:27.409929Z",
     "start_time": "2024-04-17T19:01:27.398892Z"
    }
   },
   "id": "d46afc205586d40a",
   "execution_count": 28
  },
  {
   "cell_type": "code",
   "outputs": [
    {
     "data": {
      "text/plain": "         timestamp  absolute_timestamp  hosts_up  hosts_down  servers_pending  \\\n0           300000       1376314846000         1           0               34   \n1           600000       1376315146000         1           0               34   \n2           900000       1376315446000         1           0               34   \n3          1200000       1376315746000         1           0               34   \n4          1500000       1376316046000         1           0               34   \n...            ...                 ...       ...         ...              ...   \n57631  17289600000       1393604146000         1           0                0   \n57632  17289900000       1393604446000         1           0                0   \n57633  17290200000       1393604746000         1           0                0   \n57634  17290500000       1393605046000         1           0                0   \n57635  17290658000       1393605204000         1           0                0   \n\n       servers_active  attempts_success  attempts_failure  attempts_error  \n0                  10                10                 0               0  \n1                  10                10                 0               0  \n2                  10                10                 0               0  \n3                  10                10                 0               0  \n4                  10                10                 0               0  \n...               ...               ...               ...             ...  \n57631               1                43                 7               0  \n57632               1                43                 7               0  \n57633               1                43                 7               0  \n57634               1                43                 7               0  \n57635               0                43                 7               0  \n\n[57636 rows x 9 columns]",
      "text/html": "<div>\n<style scoped>\n    .dataframe tbody tr th:only-of-type {\n        vertical-align: middle;\n    }\n\n    .dataframe tbody tr th {\n        vertical-align: top;\n    }\n\n    .dataframe thead th {\n        text-align: right;\n    }\n</style>\n<table border=\"1\" class=\"dataframe\">\n  <thead>\n    <tr style=\"text-align: right;\">\n      <th></th>\n      <th>timestamp</th>\n      <th>absolute_timestamp</th>\n      <th>hosts_up</th>\n      <th>hosts_down</th>\n      <th>servers_pending</th>\n      <th>servers_active</th>\n      <th>attempts_success</th>\n      <th>attempts_failure</th>\n      <th>attempts_error</th>\n    </tr>\n  </thead>\n  <tbody>\n    <tr>\n      <th>0</th>\n      <td>300000</td>\n      <td>1376314846000</td>\n      <td>1</td>\n      <td>0</td>\n      <td>34</td>\n      <td>10</td>\n      <td>10</td>\n      <td>0</td>\n      <td>0</td>\n    </tr>\n    <tr>\n      <th>1</th>\n      <td>600000</td>\n      <td>1376315146000</td>\n      <td>1</td>\n      <td>0</td>\n      <td>34</td>\n      <td>10</td>\n      <td>10</td>\n      <td>0</td>\n      <td>0</td>\n    </tr>\n    <tr>\n      <th>2</th>\n      <td>900000</td>\n      <td>1376315446000</td>\n      <td>1</td>\n      <td>0</td>\n      <td>34</td>\n      <td>10</td>\n      <td>10</td>\n      <td>0</td>\n      <td>0</td>\n    </tr>\n    <tr>\n      <th>3</th>\n      <td>1200000</td>\n      <td>1376315746000</td>\n      <td>1</td>\n      <td>0</td>\n      <td>34</td>\n      <td>10</td>\n      <td>10</td>\n      <td>0</td>\n      <td>0</td>\n    </tr>\n    <tr>\n      <th>4</th>\n      <td>1500000</td>\n      <td>1376316046000</td>\n      <td>1</td>\n      <td>0</td>\n      <td>34</td>\n      <td>10</td>\n      <td>10</td>\n      <td>0</td>\n      <td>0</td>\n    </tr>\n    <tr>\n      <th>...</th>\n      <td>...</td>\n      <td>...</td>\n      <td>...</td>\n      <td>...</td>\n      <td>...</td>\n      <td>...</td>\n      <td>...</td>\n      <td>...</td>\n      <td>...</td>\n    </tr>\n    <tr>\n      <th>57631</th>\n      <td>17289600000</td>\n      <td>1393604146000</td>\n      <td>1</td>\n      <td>0</td>\n      <td>0</td>\n      <td>1</td>\n      <td>43</td>\n      <td>7</td>\n      <td>0</td>\n    </tr>\n    <tr>\n      <th>57632</th>\n      <td>17289900000</td>\n      <td>1393604446000</td>\n      <td>1</td>\n      <td>0</td>\n      <td>0</td>\n      <td>1</td>\n      <td>43</td>\n      <td>7</td>\n      <td>0</td>\n    </tr>\n    <tr>\n      <th>57633</th>\n      <td>17290200000</td>\n      <td>1393604746000</td>\n      <td>1</td>\n      <td>0</td>\n      <td>0</td>\n      <td>1</td>\n      <td>43</td>\n      <td>7</td>\n      <td>0</td>\n    </tr>\n    <tr>\n      <th>57634</th>\n      <td>17290500000</td>\n      <td>1393605046000</td>\n      <td>1</td>\n      <td>0</td>\n      <td>0</td>\n      <td>1</td>\n      <td>43</td>\n      <td>7</td>\n      <td>0</td>\n    </tr>\n    <tr>\n      <th>57635</th>\n      <td>17290658000</td>\n      <td>1393605204000</td>\n      <td>1</td>\n      <td>0</td>\n      <td>0</td>\n      <td>0</td>\n      <td>43</td>\n      <td>7</td>\n      <td>0</td>\n    </tr>\n  </tbody>\n</table>\n<p>57636 rows × 9 columns</p>\n</div>"
     },
     "execution_count": 20,
     "metadata": {},
     "output_type": "execute_result"
    }
   ],
   "source": [
    "# print host_data as a table\n",
    "service_data[0]\n"
   ],
   "metadata": {
    "collapsed": false,
    "ExecuteTime": {
     "end_time": "2024-04-17T18:59:55.257495Z",
     "start_time": "2024-04-17T18:59:55.243885Z"
    }
   },
   "id": "7f7dcf086ce45547",
   "execution_count": 20
  },
  {
   "cell_type": "code",
   "outputs": [],
   "source": [],
   "metadata": {
    "collapsed": false
   },
   "id": "540df677d458c972"
  }
 ],
 "metadata": {
  "kernelspec": {
   "display_name": "Python 3",
   "language": "python",
   "name": "python3"
  },
  "language_info": {
   "codemirror_mode": {
    "name": "ipython",
    "version": 2
   },
   "file_extension": ".py",
   "mimetype": "text/x-python",
   "name": "python",
   "nbconvert_exporter": "python",
   "pygments_lexer": "ipython2",
   "version": "2.7.6"
  }
 },
 "nbformat": 4,
 "nbformat_minor": 5
}
