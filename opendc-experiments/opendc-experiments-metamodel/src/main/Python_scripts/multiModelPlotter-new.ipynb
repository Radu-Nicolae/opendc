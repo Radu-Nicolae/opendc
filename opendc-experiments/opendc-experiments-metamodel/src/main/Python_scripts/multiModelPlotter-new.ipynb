{
 "cells": [
  {
   "cell_type": "code",
   "execution_count": 43,
   "id": "initial_id",
   "metadata": {
    "collapsed": true,
    "ExecuteTime": {
     "end_time": "2024-02-01T12:53:51.054719Z",
     "start_time": "2024-02-01T12:53:51.050956Z"
    }
   },
   "outputs": [],
   "source": [
    "import numpy as np\n",
    "import pandas as pd\n",
    "import matplotlib.pyplot as plt\n",
    "from datetime import datetime\n",
    "import os\n",
    "\n",
    "from IPython.display import display, HTML\n",
    "BASE_FOLDER = \"..\"\n",
    "CONFIGURATION_INPUT_FILE = \"configuration-input-new.csv\""
   ]
  },
  {
   "cell_type": "code",
   "outputs": [],
   "source": [
    "def list_directories(directory):\n",
    "    return [d for d in os.listdir(directory) if os.path.isdir(os.path.join(directory, d))]"
   ],
   "metadata": {
    "collapsed": false,
    "ExecuteTime": {
     "end_time": "2024-02-01T12:53:51.191230Z",
     "start_time": "2024-02-01T12:53:51.189570Z"
    }
   },
   "id": "e920b71fc7a36ea",
   "execution_count": 44
  },
  {
   "cell_type": "code",
   "outputs": [],
   "source": [
    "def most_recent_directory(directory):\n",
    "    dirs = list_directories(directory)\n",
    "    if not dirs:\n",
    "        return None\n",
    "    \n",
    "    most_recent = max(dirs, key=lambda d: os.path.getctime(os.path.join(directory, d)))\n",
    "    return os.path.join(directory, most_recent)"
   ],
   "metadata": {
    "collapsed": false,
    "ExecuteTime": {
     "end_time": "2024-02-01T12:53:51.313870Z",
     "start_time": "2024-02-01T12:53:51.311795Z"
    }
   },
   "id": "7768fa2aeb19dbaf",
   "execution_count": 45
  },
  {
   "cell_type": "code",
   "outputs": [],
   "source": [
    "def mean_of_chunks(series, chunk_size):\n",
    "    # Explicitly setting numeric_only to True to avoid FutureWarning about deprecation\n",
    "    return series.groupby(np.arange(len(series)) // chunk_size).mean(numeric_only=True)"
   ],
   "metadata": {
    "collapsed": false,
    "ExecuteTime": {
     "end_time": "2024-02-01T12:53:51.696011Z",
     "start_time": "2024-02-01T12:53:51.693967Z"
    }
   },
   "id": "425f4305825ee5fe",
   "execution_count": 46
  },
  {
   "cell_type": "code",
   "outputs": [],
   "source": [
    "def retrieve_metrics():\n",
    "    input_path = f\"{BASE_FOLDER}/input/{CONFIGURATION_INPUT_FILE}\"\n",
    "    with open(input_path, 'r') as file:\n",
    "        lines = file.readlines()\n",
    "        second_line = lines[1]  # get the second line\n",
    "        second_line_elements = second_line.split(',')  # split the line by comma\n",
    "\n",
    "    df = pd.read_csv(input_path, sep=\",\")\n",
    "    all_metrics = []\n",
    "    read_value = \"\"\n",
    "    found_number = False\n",
    "    index_of_metrics = len(df.columns) - 2\n",
    "\n",
    "    while not found_number:\n",
    "        read_value = df.iloc[0, index_of_metrics]\n",
    "        try:\n",
    "            int(read_value)\n",
    "            found_number = True\n",
    "        except ValueError:\n",
    "            all_metrics.append(df.iloc[0, index_of_metrics])\n",
    "            index_of_metrics -= 1\n",
    "\n",
    "    return all_metrics[::-1]\n",
    "\n",
    "all_metrics = retrieve_metrics()"
   ],
   "metadata": {
    "collapsed": false,
    "ExecuteTime": {
     "end_time": "2024-02-01T13:08:52.612630Z",
     "start_time": "2024-02-01T13:08:52.603215Z"
    }
   },
   "id": "64827c5b07b64497",
   "execution_count": 73
  },
  {
   "cell_type": "code",
   "outputs": [
    {
     "name": "stdout",
     "output_type": "stream",
     "text": [
      "['cpu_limit', 'cpu_usage', 'cpu_utilization', 'cpu_time_active']\n",
      "['power_total']\n"
     ]
    }
   ],
   "source": [
    "all_performance_metrics = ['cpu_limit', 'cpu_usage', 'cpu_demand', 'cpu_utilization', 'cpu_time_active', 'cpu_time_idle', 'cpu_time_steal', 'cpu_time_lost']\n",
    "all_energy_metrics = ['power_total']\n",
    "        \n",
    "selected_performance_metrics = [metric for metric in all_metrics if metric in all_performance_metrics]\n",
    "selected_energy_metrics = [metric for metric in all_metrics if metric in all_energy_metrics]\n",
    "\n",
    "print(selected_performance_metrics)\n",
    "print(selected_energy_metrics)"
   ],
   "metadata": {
    "collapsed": false,
    "ExecuteTime": {
     "end_time": "2024-02-01T13:09:11.004879Z",
     "start_time": "2024-02-01T13:09:11.002258Z"
    }
   },
   "id": "11f5afc9ea8656fb",
   "execution_count": 75
  },
  {
   "cell_type": "code",
   "outputs": [
    {
     "data": {
      "text/plain": "    cpu_count  mem_capacity  guests_terminated  guests_running  guests_error  \\\n0   12.440000  99520.000000                0.0        4.889000           0.0   \n1   12.440000  99520.000000                0.0        4.889000           0.0   \n2   12.448000  99584.000000                0.0        4.889000           0.0   \n3   12.440000  99520.000000                0.0        4.889000           0.0   \n4   12.464000  99712.000000                0.0        4.889000           0.0   \n..        ...           ...                ...             ...           ...   \n73  12.440000  99520.000000                0.0        5.334000           0.0   \n74  12.448000  99584.000000                0.0        5.333000           0.0   \n75  12.440000  99520.000000                0.0        5.333000           0.0   \n76  12.464000  99712.000000                0.0        5.334000           0.0   \n77  12.431877  99455.012853                0.0        5.214653           0.0   \n\n    guests_invalid     cpu_limit     cpu_usage    cpu_demand  cpu_utilization  \\\n0              0.0  38367.280000   9598.129214   9598.129214         0.381752   \n1              0.0  38367.280000  12066.561652  12066.561652         0.488412   \n2              0.0  38395.040000  13086.369981  13086.369981         0.518187   \n3              0.0  38367.280000   9127.604039   9127.604039         0.359644   \n4              0.0  38446.240000   3909.118420   3909.118420         0.134652   \n..             ...           ...           ...           ...              ...   \n73             0.0  38367.280000   2400.631512   2400.631512         0.076533   \n74             0.0  38395.040000   1798.723409   1798.723409         0.046372   \n75             0.0  38367.280000   5735.523457   5735.523457         0.207959   \n76             0.0  38446.240000   4542.487654   4542.487654         0.166209   \n77             0.0  38341.079692   5996.248533   5996.248533         0.224420   \n\n    cpu_time_active  cpu_time_idle  cpu_time_steal  cpu_time_lost  \\\n0        973.224000     2758.76700          29.721            0.0   \n1       1226.278000     2505.72200          50.879            0.0   \n2       1325.736000     2408.66400          78.209            0.0   \n3        924.555000     2807.44500           0.299            0.0   \n4        388.991000     3350.20900           2.259            0.0   \n..              ...            ...             ...            ...   \n73       236.434000     3495.56800           0.000            0.0   \n74       172.820000     3561.57700           0.000            0.0   \n75       573.358000     3158.64200           0.000            0.0   \n76       453.150000     3286.05300           2.823            0.0   \n77       607.383033     3104.03599           0.000            0.0   \n\n     power_total         uptime  downtime  \n0   77177.762211  300000.000000       0.0  \n1   81974.557057  300000.000000       0.0  \n2   83316.468652  300000.000000       0.0  \n3   76187.646193  300000.000000       0.0  \n4   66056.400984  300000.000000       0.0  \n..           ...            ...       ...  \n73  63443.570806  300000.000000       0.0  \n74  62083.321033  300000.000000       0.0  \n75  69346.906178  300000.000000       0.0  \n76  67443.474125  300000.000000       0.0  \n77  69884.504278  298542.416452       0.0  \n\n[78 rows x 17 columns]",
      "text/html": "<div>\n<style scoped>\n    .dataframe tbody tr th:only-of-type {\n        vertical-align: middle;\n    }\n\n    .dataframe tbody tr th {\n        vertical-align: top;\n    }\n\n    .dataframe thead th {\n        text-align: right;\n    }\n</style>\n<table border=\"1\" class=\"dataframe\">\n  <thead>\n    <tr style=\"text-align: right;\">\n      <th></th>\n      <th>cpu_count</th>\n      <th>mem_capacity</th>\n      <th>guests_terminated</th>\n      <th>guests_running</th>\n      <th>guests_error</th>\n      <th>guests_invalid</th>\n      <th>cpu_limit</th>\n      <th>cpu_usage</th>\n      <th>cpu_demand</th>\n      <th>cpu_utilization</th>\n      <th>cpu_time_active</th>\n      <th>cpu_time_idle</th>\n      <th>cpu_time_steal</th>\n      <th>cpu_time_lost</th>\n      <th>power_total</th>\n      <th>uptime</th>\n      <th>downtime</th>\n    </tr>\n  </thead>\n  <tbody>\n    <tr>\n      <th>0</th>\n      <td>12.440000</td>\n      <td>99520.000000</td>\n      <td>0.0</td>\n      <td>4.889000</td>\n      <td>0.0</td>\n      <td>0.0</td>\n      <td>38367.280000</td>\n      <td>9598.129214</td>\n      <td>9598.129214</td>\n      <td>0.381752</td>\n      <td>973.224000</td>\n      <td>2758.76700</td>\n      <td>29.721</td>\n      <td>0.0</td>\n      <td>77177.762211</td>\n      <td>300000.000000</td>\n      <td>0.0</td>\n    </tr>\n    <tr>\n      <th>1</th>\n      <td>12.440000</td>\n      <td>99520.000000</td>\n      <td>0.0</td>\n      <td>4.889000</td>\n      <td>0.0</td>\n      <td>0.0</td>\n      <td>38367.280000</td>\n      <td>12066.561652</td>\n      <td>12066.561652</td>\n      <td>0.488412</td>\n      <td>1226.278000</td>\n      <td>2505.72200</td>\n      <td>50.879</td>\n      <td>0.0</td>\n      <td>81974.557057</td>\n      <td>300000.000000</td>\n      <td>0.0</td>\n    </tr>\n    <tr>\n      <th>2</th>\n      <td>12.448000</td>\n      <td>99584.000000</td>\n      <td>0.0</td>\n      <td>4.889000</td>\n      <td>0.0</td>\n      <td>0.0</td>\n      <td>38395.040000</td>\n      <td>13086.369981</td>\n      <td>13086.369981</td>\n      <td>0.518187</td>\n      <td>1325.736000</td>\n      <td>2408.66400</td>\n      <td>78.209</td>\n      <td>0.0</td>\n      <td>83316.468652</td>\n      <td>300000.000000</td>\n      <td>0.0</td>\n    </tr>\n    <tr>\n      <th>3</th>\n      <td>12.440000</td>\n      <td>99520.000000</td>\n      <td>0.0</td>\n      <td>4.889000</td>\n      <td>0.0</td>\n      <td>0.0</td>\n      <td>38367.280000</td>\n      <td>9127.604039</td>\n      <td>9127.604039</td>\n      <td>0.359644</td>\n      <td>924.555000</td>\n      <td>2807.44500</td>\n      <td>0.299</td>\n      <td>0.0</td>\n      <td>76187.646193</td>\n      <td>300000.000000</td>\n      <td>0.0</td>\n    </tr>\n    <tr>\n      <th>4</th>\n      <td>12.464000</td>\n      <td>99712.000000</td>\n      <td>0.0</td>\n      <td>4.889000</td>\n      <td>0.0</td>\n      <td>0.0</td>\n      <td>38446.240000</td>\n      <td>3909.118420</td>\n      <td>3909.118420</td>\n      <td>0.134652</td>\n      <td>388.991000</td>\n      <td>3350.20900</td>\n      <td>2.259</td>\n      <td>0.0</td>\n      <td>66056.400984</td>\n      <td>300000.000000</td>\n      <td>0.0</td>\n    </tr>\n    <tr>\n      <th>...</th>\n      <td>...</td>\n      <td>...</td>\n      <td>...</td>\n      <td>...</td>\n      <td>...</td>\n      <td>...</td>\n      <td>...</td>\n      <td>...</td>\n      <td>...</td>\n      <td>...</td>\n      <td>...</td>\n      <td>...</td>\n      <td>...</td>\n      <td>...</td>\n      <td>...</td>\n      <td>...</td>\n      <td>...</td>\n    </tr>\n    <tr>\n      <th>73</th>\n      <td>12.440000</td>\n      <td>99520.000000</td>\n      <td>0.0</td>\n      <td>5.334000</td>\n      <td>0.0</td>\n      <td>0.0</td>\n      <td>38367.280000</td>\n      <td>2400.631512</td>\n      <td>2400.631512</td>\n      <td>0.076533</td>\n      <td>236.434000</td>\n      <td>3495.56800</td>\n      <td>0.000</td>\n      <td>0.0</td>\n      <td>63443.570806</td>\n      <td>300000.000000</td>\n      <td>0.0</td>\n    </tr>\n    <tr>\n      <th>74</th>\n      <td>12.448000</td>\n      <td>99584.000000</td>\n      <td>0.0</td>\n      <td>5.333000</td>\n      <td>0.0</td>\n      <td>0.0</td>\n      <td>38395.040000</td>\n      <td>1798.723409</td>\n      <td>1798.723409</td>\n      <td>0.046372</td>\n      <td>172.820000</td>\n      <td>3561.57700</td>\n      <td>0.000</td>\n      <td>0.0</td>\n      <td>62083.321033</td>\n      <td>300000.000000</td>\n      <td>0.0</td>\n    </tr>\n    <tr>\n      <th>75</th>\n      <td>12.440000</td>\n      <td>99520.000000</td>\n      <td>0.0</td>\n      <td>5.333000</td>\n      <td>0.0</td>\n      <td>0.0</td>\n      <td>38367.280000</td>\n      <td>5735.523457</td>\n      <td>5735.523457</td>\n      <td>0.207959</td>\n      <td>573.358000</td>\n      <td>3158.64200</td>\n      <td>0.000</td>\n      <td>0.0</td>\n      <td>69346.906178</td>\n      <td>300000.000000</td>\n      <td>0.0</td>\n    </tr>\n    <tr>\n      <th>76</th>\n      <td>12.464000</td>\n      <td>99712.000000</td>\n      <td>0.0</td>\n      <td>5.334000</td>\n      <td>0.0</td>\n      <td>0.0</td>\n      <td>38446.240000</td>\n      <td>4542.487654</td>\n      <td>4542.487654</td>\n      <td>0.166209</td>\n      <td>453.150000</td>\n      <td>3286.05300</td>\n      <td>2.823</td>\n      <td>0.0</td>\n      <td>67443.474125</td>\n      <td>300000.000000</td>\n      <td>0.0</td>\n    </tr>\n    <tr>\n      <th>77</th>\n      <td>12.431877</td>\n      <td>99455.012853</td>\n      <td>0.0</td>\n      <td>5.214653</td>\n      <td>0.0</td>\n      <td>0.0</td>\n      <td>38341.079692</td>\n      <td>5996.248533</td>\n      <td>5996.248533</td>\n      <td>0.224420</td>\n      <td>607.383033</td>\n      <td>3104.03599</td>\n      <td>0.000</td>\n      <td>0.0</td>\n      <td>69884.504278</td>\n      <td>298542.416452</td>\n      <td>0.0</td>\n    </tr>\n  </tbody>\n</table>\n<p>78 rows × 17 columns</p>\n</div>"
     },
     "execution_count": 16,
     "metadata": {},
     "output_type": "execute_result"
    }
   ],
   "source": [
    "path = f\"{BASE_FOLDER}/output/host/workload=bitbrains-small/seed=0/\"\n",
    "\n",
    "recent_dir = most_recent_directory(path)\n",
    "simulation_files = os.listdir(recent_dir)\n",
    "simulation_data = []\n",
    "\n",
    "for file in simulation_files:\n",
    "    simulation_data.append(\n",
    "        mean_of_chunks(pd.read_parquet(os.path.join(recent_dir, file)), 1000)\n",
    "    )\n",
    "    \n",
    "simulation_data[0]"
   ],
   "metadata": {
    "collapsed": false,
    "ExecuteTime": {
     "end_time": "2024-02-01T12:36:09.075859Z",
     "start_time": "2024-02-01T12:36:08.889840Z"
    }
   },
   "id": "5592eb638437840f",
   "execution_count": 16
  },
  {
   "cell_type": "code",
   "outputs": [],
   "source": [],
   "metadata": {
    "collapsed": false
   },
   "id": "b938dbf2daa1cff0"
  }
 ],
 "metadata": {
  "kernelspec": {
   "display_name": "Python 3",
   "language": "python",
   "name": "python3"
  },
  "language_info": {
   "codemirror_mode": {
    "name": "ipython",
    "version": 2
   },
   "file_extension": ".py",
   "mimetype": "text/x-python",
   "name": "python",
   "nbconvert_exporter": "python",
   "pygments_lexer": "ipython2",
   "version": "2.7.6"
  }
 },
 "nbformat": 4,
 "nbformat_minor": 5
}
